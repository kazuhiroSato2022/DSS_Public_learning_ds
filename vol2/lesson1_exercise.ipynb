{
  "nbformat": 4,
  "nbformat_minor": 0,
  "metadata": {
    "colab": {
      "provenance": []
    },
    "kernelspec": {
      "name": "python3",
      "display_name": "Python 3"
    },
    "language_info": {
      "name": "python"
    }
  },
  "cells": [
    {
      "cell_type": "markdown",
      "source": [
        "# Lesson1 データ分析と機械学習の入り口\n",
        "前回までは、比較的綺麗なデータを用いて、データ分析をするためのデータ読み込みやデータ加工、抽出、整形を行いました。これによって、ビジネス現場ではどのようなデータ分析を行うかのおおよそなイメージができたかと思います。今回は、データ分析にもっと踏み込んで『結果を出す』ための技術を学びます。"
      ],
      "metadata": {
        "id": "BnHyGHK2wi5a"
      }
    },
    {
      "cell_type": "markdown",
      "source": [
        "## 目次\n",
        "* Section1 顧客の全体像を把握する\n",
        "  * 1.1 データを読み込んで把握する\n",
        "  * 1.2 顧客データを整形する\n",
        "  * 1.3 顧客データの基礎集計する\n",
        "  * 1.4 最新顧客データの基礎集計する\n",
        "  * 1.5 利用履歴データを集計する\n",
        "  * 1.6 利用履歴データから定期利用フラグを作成する\n",
        "  * 1.7 顧客データと利用履歴データを結合する\n",
        "  * 1.8 会員期間を計算する\n",
        "  * 1.9 顧客行動の各統計量を把握する\n",
        "  * 1.10 退会ユーザーと継続ユーザーの違いを把握する \n",
        "\n",
        "* Section2 顧客の行動を予測する\n",
        "  * 2.1 データを読み込む\n",
        "  * 2.2 クラスタリング結果で顧客をグループ化する\n",
        "  * 2.3 クラスタリング結果を分析する\n",
        "  * 2.4 クラスタリング結果を可視化する\n",
        "  * 2.5 クラスタリング結果をもとに退会ユーザーの傾向を把握する\n",
        "  * 2.6 翌月の利用回数予測を行うためのデータを準備する\n",
        "  * 2.7 特徴となる変数を付与する\n",
        "  * 2.8 来月の利用回数予測モデルを作成する\n",
        "  * 2.9 モデルに寄与している変数を確認する\n",
        "  * 2.10 来月の利用回数を予測する\n",
        "\n",
        "* Section3 顧客の退会を予測する\n",
        "  * 3.1 データを読み込み利用データを整形する\n",
        "  * 3.2 退会前月の退会顧客データを整形する\n",
        "  * 3.3 継続顧客のデータを作成する\n",
        "  * 3.4 予測する月の在籍期間を作成する\n",
        "  * 3.5 欠損値を除去する\n",
        "  * 3.6 文字列型の変数を処理できるように整形する\n",
        "  * 3.7 決定木を用いて退会予測モデルを作成する\n",
        "  * 3.8 予測モデルの評価を行い、モデルのチューニングを行う\n",
        "  * 3.9 モデルに寄与している変数を確認する\n",
        "  * 3.10 顧客の退会を予測する"
      ],
      "metadata": {
        "id": "OoN1xdnDwoyF"
      }
    },
    {
      "cell_type": "code",
      "source": [
        "from google.colab import drive\n",
        "drive.mount('/content/drive')"
      ],
      "metadata": {
        "colab": {
          "base_uri": "https://localhost:8080/"
        },
        "id": "6kW5ldCo_xCh",
        "outputId": "6f74b6bb-06ba-4151-91c5-5a6111ae7db2"
      },
      "execution_count": null,
      "outputs": [
        {
          "output_type": "stream",
          "name": "stdout",
          "text": [
            "Mounted at /content/drive\n"
          ]
        }
      ]
    },
    {
      "cell_type": "markdown",
      "source": [
        "※MyDrive直下に機械学習プログラムフォルダ全体を格納しておくこと"
      ],
      "metadata": {
        "id": "uJbjytdsADoR"
      }
    },
    {
      "cell_type": "code",
      "source": [
        "%cd drive/MyDrive/DSS_Public_learning_ds-main/vol2/"
      ],
      "metadata": {
        "id": "Yqjc5iztCHT5"
      },
      "execution_count": null,
      "outputs": []
    },
    {
      "cell_type": "code",
      "source": [
        "!ls"
      ],
      "metadata": {
        "colab": {
          "base_uri": "https://localhost:8080/"
        },
        "id": "AZjQyd_WRC18",
        "outputId": "90c8e36e-3d6e-47eb-81ef-da24dcffbfb1"
      },
      "execution_count": null,
      "outputs": [
        {
          "output_type": "stream",
          "name": "stdout",
          "text": [
            "DATA  lesson1_exercise.ipynb\n"
          ]
        }
      ]
    },
    {
      "cell_type": "markdown",
      "source": [
        "## Section1\n",
        "データ分析は一つの手段であって、その先のゴールは『何を達成するか』です。  \n",
        "例えば、現在のデータから未来の予測をしたい、などです。未来を予測する(時系列予測など)ための方法は多くありますが、実際はデータを適切に加工してデータを可視化するだけでも、多くの情報を得ることが可能です。\n",
        "\n",
        "今回は、架空のジムの顧客データを用いて、データ分析を行なっていきます。  \n",
        "ゴールは、退会ユーザーと継続ユーザーの違いを見つけることです。\n",
        "\n"
      ],
      "metadata": {
        "id": "yfM8hn-EWesQ"
      }
    },
    {
      "cell_type": "markdown",
      "metadata": {
        "id": "9z_WPCEAWZRE"
      },
      "source": [
        "### 1.1：データを読み込んで把握する"
      ]
    },
    {
      "cell_type": "code",
      "execution_count": null,
      "metadata": {
        "id": "GccoAB-SWZRE",
        "outputId": "3e4ae13c-3fd7-4415-aaea-d27884dd4b6a"
      },
      "outputs": [
        {
          "name": "stdout",
          "output_type": "stream",
          "text": [
            "197428\n"
          ]
        },
        {
          "data": {
            "text/html": [
              "<div>\n",
              "<style scoped>\n",
              "    .dataframe tbody tr th:only-of-type {\n",
              "        vertical-align: middle;\n",
              "    }\n",
              "\n",
              "    .dataframe tbody tr th {\n",
              "        vertical-align: top;\n",
              "    }\n",
              "\n",
              "    .dataframe thead th {\n",
              "        text-align: right;\n",
              "    }\n",
              "</style>\n",
              "<table border=\"1\" class=\"dataframe\">\n",
              "  <thead>\n",
              "    <tr style=\"text-align: right;\">\n",
              "      <th></th>\n",
              "      <th>log_id</th>\n",
              "      <th>customer_id</th>\n",
              "      <th>usedate</th>\n",
              "    </tr>\n",
              "  </thead>\n",
              "  <tbody>\n",
              "    <tr>\n",
              "      <th>0</th>\n",
              "      <td>L00000049012330</td>\n",
              "      <td>AS009373</td>\n",
              "      <td>2018-04-01</td>\n",
              "    </tr>\n",
              "    <tr>\n",
              "      <th>1</th>\n",
              "      <td>L00000049012331</td>\n",
              "      <td>AS015315</td>\n",
              "      <td>2018-04-01</td>\n",
              "    </tr>\n",
              "    <tr>\n",
              "      <th>2</th>\n",
              "      <td>L00000049012332</td>\n",
              "      <td>AS040841</td>\n",
              "      <td>2018-04-01</td>\n",
              "    </tr>\n",
              "    <tr>\n",
              "      <th>3</th>\n",
              "      <td>L00000049012333</td>\n",
              "      <td>AS046594</td>\n",
              "      <td>2018-04-01</td>\n",
              "    </tr>\n",
              "    <tr>\n",
              "      <th>4</th>\n",
              "      <td>L00000049012334</td>\n",
              "      <td>AS073285</td>\n",
              "      <td>2018-04-01</td>\n",
              "    </tr>\n",
              "  </tbody>\n",
              "</table>\n",
              "</div>"
            ],
            "text/plain": [
              "            log_id customer_id     usedate\n",
              "0  L00000049012330    AS009373  2018-04-01\n",
              "1  L00000049012331    AS015315  2018-04-01\n",
              "2  L00000049012332    AS040841  2018-04-01\n",
              "3  L00000049012333    AS046594  2018-04-01\n",
              "4  L00000049012334    AS073285  2018-04-01"
            ]
          },
          "execution_count": 2,
          "metadata": {},
          "output_type": "execute_result"
        }
      ],
      "source": [
        "# まずはデータを読み込んで、先頭行からどのようなデータなのかをざっくり把握する\n",
        "import pandas as pd\n",
        "uselog = pd.read_csv('DATA/use_log.csv')\n",
        "print(len(uselog))\n",
        "uselog.head()"
      ]
    },
    {
      "cell_type": "markdown",
      "source": [
        "\"use_log\"は、どうやらユーザーの利用履歴っぽい"
      ],
      "metadata": {
        "id": "jwTrbdxWvqTM"
      }
    },
    {
      "cell_type": "code",
      "execution_count": null,
      "metadata": {
        "id": "-pZCROr3WZRG",
        "outputId": "76dd28ce-74c3-4bad-da03-8d4d7cf0be30"
      },
      "outputs": [
        {
          "name": "stdout",
          "output_type": "stream",
          "text": [
            "4192\n"
          ]
        },
        {
          "data": {
            "text/html": [
              "<div>\n",
              "<style scoped>\n",
              "    .dataframe tbody tr th:only-of-type {\n",
              "        vertical-align: middle;\n",
              "    }\n",
              "\n",
              "    .dataframe tbody tr th {\n",
              "        vertical-align: top;\n",
              "    }\n",
              "\n",
              "    .dataframe thead th {\n",
              "        text-align: right;\n",
              "    }\n",
              "</style>\n",
              "<table border=\"1\" class=\"dataframe\">\n",
              "  <thead>\n",
              "    <tr style=\"text-align: right;\">\n",
              "      <th></th>\n",
              "      <th>customer_id</th>\n",
              "      <th>name</th>\n",
              "      <th>class</th>\n",
              "      <th>gender</th>\n",
              "      <th>start_date</th>\n",
              "      <th>end_date</th>\n",
              "      <th>campaign_id</th>\n",
              "      <th>is_deleted</th>\n",
              "    </tr>\n",
              "  </thead>\n",
              "  <tbody>\n",
              "    <tr>\n",
              "      <th>0</th>\n",
              "      <td>OA832399</td>\n",
              "      <td>XXXX</td>\n",
              "      <td>C01</td>\n",
              "      <td>F</td>\n",
              "      <td>2015-05-01 00:00:00</td>\n",
              "      <td>NaN</td>\n",
              "      <td>CA1</td>\n",
              "      <td>0</td>\n",
              "    </tr>\n",
              "    <tr>\n",
              "      <th>1</th>\n",
              "      <td>PL270116</td>\n",
              "      <td>XXXXX</td>\n",
              "      <td>C01</td>\n",
              "      <td>M</td>\n",
              "      <td>2015-05-01 00:00:00</td>\n",
              "      <td>NaN</td>\n",
              "      <td>CA1</td>\n",
              "      <td>0</td>\n",
              "    </tr>\n",
              "    <tr>\n",
              "      <th>2</th>\n",
              "      <td>OA974876</td>\n",
              "      <td>XXXXX</td>\n",
              "      <td>C01</td>\n",
              "      <td>M</td>\n",
              "      <td>2015-05-01 00:00:00</td>\n",
              "      <td>NaN</td>\n",
              "      <td>CA1</td>\n",
              "      <td>0</td>\n",
              "    </tr>\n",
              "    <tr>\n",
              "      <th>3</th>\n",
              "      <td>HD024127</td>\n",
              "      <td>XXXXX</td>\n",
              "      <td>C01</td>\n",
              "      <td>F</td>\n",
              "      <td>2015-05-01 00:00:00</td>\n",
              "      <td>NaN</td>\n",
              "      <td>CA1</td>\n",
              "      <td>0</td>\n",
              "    </tr>\n",
              "    <tr>\n",
              "      <th>4</th>\n",
              "      <td>HD661448</td>\n",
              "      <td>XXXXX</td>\n",
              "      <td>C03</td>\n",
              "      <td>F</td>\n",
              "      <td>2015-05-01 00:00:00</td>\n",
              "      <td>NaN</td>\n",
              "      <td>CA1</td>\n",
              "      <td>0</td>\n",
              "    </tr>\n",
              "  </tbody>\n",
              "</table>\n",
              "</div>"
            ],
            "text/plain": [
              "  customer_id   name class gender           start_date end_date campaign_id  \\\n",
              "0    OA832399   XXXX   C01      F  2015-05-01 00:00:00      NaN         CA1   \n",
              "1    PL270116  XXXXX   C01      M  2015-05-01 00:00:00      NaN         CA1   \n",
              "2    OA974876  XXXXX   C01      M  2015-05-01 00:00:00      NaN         CA1   \n",
              "3    HD024127  XXXXX   C01      F  2015-05-01 00:00:00      NaN         CA1   \n",
              "4    HD661448  XXXXX   C03      F  2015-05-01 00:00:00      NaN         CA1   \n",
              "\n",
              "   is_deleted  \n",
              "0           0  \n",
              "1           0  \n",
              "2           0  \n",
              "3           0  \n",
              "4           0  "
            ]
          },
          "execution_count": 3,
          "metadata": {},
          "output_type": "execute_result"
        }
      ],
      "source": [
        "customer = pd.read_csv('DATA/customer_master.csv')\n",
        "print(len(customer))\n",
        "customer.head()"
      ]
    },
    {
      "cell_type": "markdown",
      "source": [
        "\"customer_master\"は、顧客マスタDBから取得してきたようなデータ"
      ],
      "metadata": {
        "id": "mQsgnnSpv0uW"
      }
    },
    {
      "cell_type": "code",
      "execution_count": null,
      "metadata": {
        "id": "QvfeZqQOWZRH",
        "outputId": "b1203e8e-5f10-40b7-f00d-8eb404063009"
      },
      "outputs": [
        {
          "name": "stdout",
          "output_type": "stream",
          "text": [
            "3\n"
          ]
        },
        {
          "data": {
            "text/html": [
              "<div>\n",
              "<style scoped>\n",
              "    .dataframe tbody tr th:only-of-type {\n",
              "        vertical-align: middle;\n",
              "    }\n",
              "\n",
              "    .dataframe tbody tr th {\n",
              "        vertical-align: top;\n",
              "    }\n",
              "\n",
              "    .dataframe thead th {\n",
              "        text-align: right;\n",
              "    }\n",
              "</style>\n",
              "<table border=\"1\" class=\"dataframe\">\n",
              "  <thead>\n",
              "    <tr style=\"text-align: right;\">\n",
              "      <th></th>\n",
              "      <th>class</th>\n",
              "      <th>class_name</th>\n",
              "      <th>price</th>\n",
              "    </tr>\n",
              "  </thead>\n",
              "  <tbody>\n",
              "    <tr>\n",
              "      <th>0</th>\n",
              "      <td>C01</td>\n",
              "      <td>オールタイム</td>\n",
              "      <td>10500</td>\n",
              "    </tr>\n",
              "    <tr>\n",
              "      <th>1</th>\n",
              "      <td>C02</td>\n",
              "      <td>デイタイム</td>\n",
              "      <td>7500</td>\n",
              "    </tr>\n",
              "    <tr>\n",
              "      <th>2</th>\n",
              "      <td>C03</td>\n",
              "      <td>ナイト</td>\n",
              "      <td>6000</td>\n",
              "    </tr>\n",
              "  </tbody>\n",
              "</table>\n",
              "</div>"
            ],
            "text/plain": [
              "  class class_name  price\n",
              "0   C01     オールタイム  10500\n",
              "1   C02      デイタイム   7500\n",
              "2   C03        ナイト   6000"
            ]
          },
          "execution_count": 4,
          "metadata": {},
          "output_type": "execute_result"
        }
      ],
      "source": [
        "class_master = pd.read_csv('DATA/class_master.csv')\n",
        "print(len(class_master))\n",
        "class_master.head()"
      ]
    },
    {
      "cell_type": "markdown",
      "source": [
        "\"class_master\"は、入会にあたっての契約種類のマスタデータ"
      ],
      "metadata": {
        "id": "GB96R7GSwV2F"
      }
    },
    {
      "cell_type": "code",
      "execution_count": null,
      "metadata": {
        "id": "hNVvnpydWZRH",
        "outputId": "b6007609-3f15-4318-e9a5-af9c12577299"
      },
      "outputs": [
        {
          "name": "stdout",
          "output_type": "stream",
          "text": [
            "3\n"
          ]
        },
        {
          "data": {
            "text/html": [
              "<div>\n",
              "<style scoped>\n",
              "    .dataframe tbody tr th:only-of-type {\n",
              "        vertical-align: middle;\n",
              "    }\n",
              "\n",
              "    .dataframe tbody tr th {\n",
              "        vertical-align: top;\n",
              "    }\n",
              "\n",
              "    .dataframe thead th {\n",
              "        text-align: right;\n",
              "    }\n",
              "</style>\n",
              "<table border=\"1\" class=\"dataframe\">\n",
              "  <thead>\n",
              "    <tr style=\"text-align: right;\">\n",
              "      <th></th>\n",
              "      <th>campaign_id</th>\n",
              "      <th>campaign_name</th>\n",
              "    </tr>\n",
              "  </thead>\n",
              "  <tbody>\n",
              "    <tr>\n",
              "      <th>0</th>\n",
              "      <td>CA1</td>\n",
              "      <td>通常</td>\n",
              "    </tr>\n",
              "    <tr>\n",
              "      <th>1</th>\n",
              "      <td>CA2</td>\n",
              "      <td>入会費半額</td>\n",
              "    </tr>\n",
              "    <tr>\n",
              "      <th>2</th>\n",
              "      <td>CA3</td>\n",
              "      <td>入会費無料</td>\n",
              "    </tr>\n",
              "  </tbody>\n",
              "</table>\n",
              "</div>"
            ],
            "text/plain": [
              "  campaign_id campaign_name\n",
              "0         CA1            通常\n",
              "1         CA2         入会費半額\n",
              "2         CA3         入会費無料"
            ]
          },
          "execution_count": 5,
          "metadata": {},
          "output_type": "execute_result"
        }
      ],
      "source": [
        "campaign_master = pd.read_csv('DATA/campaign_master.csv')\n",
        "print(len(campaign_master))\n",
        "campaign_master.head()"
      ]
    },
    {
      "cell_type": "markdown",
      "source": [
        "\"campaign_master\"は、入会の際のキャンペーン区分のデータ"
      ],
      "metadata": {
        "id": "he164_4dwg08"
      }
    },
    {
      "cell_type": "markdown",
      "metadata": {
        "id": "WXtRLPmbWZRI"
      },
      "source": [
        "### 1.2：顧客データを整形する"
      ]
    },
    {
      "cell_type": "code",
      "execution_count": null,
      "metadata": {
        "id": "uedcTJs5WZRI",
        "outputId": "f1abf5d3-9a97-4877-a9de-9083849284a1"
      },
      "outputs": [
        {
          "data": {
            "text/html": [
              "<div>\n",
              "<style scoped>\n",
              "    .dataframe tbody tr th:only-of-type {\n",
              "        vertical-align: middle;\n",
              "    }\n",
              "\n",
              "    .dataframe tbody tr th {\n",
              "        vertical-align: top;\n",
              "    }\n",
              "\n",
              "    .dataframe thead th {\n",
              "        text-align: right;\n",
              "    }\n",
              "</style>\n",
              "<table border=\"1\" class=\"dataframe\">\n",
              "  <thead>\n",
              "    <tr style=\"text-align: right;\">\n",
              "      <th></th>\n",
              "      <th>customer_id</th>\n",
              "      <th>name</th>\n",
              "      <th>class</th>\n",
              "      <th>gender</th>\n",
              "      <th>start_date</th>\n",
              "      <th>end_date</th>\n",
              "      <th>campaign_id</th>\n",
              "      <th>is_deleted</th>\n",
              "      <th>class_name</th>\n",
              "      <th>price</th>\n",
              "      <th>campaign_name</th>\n",
              "    </tr>\n",
              "  </thead>\n",
              "  <tbody>\n",
              "    <tr>\n",
              "      <th>0</th>\n",
              "      <td>OA832399</td>\n",
              "      <td>XXXX</td>\n",
              "      <td>C01</td>\n",
              "      <td>F</td>\n",
              "      <td>2015-05-01 00:00:00</td>\n",
              "      <td>NaN</td>\n",
              "      <td>CA1</td>\n",
              "      <td>0</td>\n",
              "      <td>オールタイム</td>\n",
              "      <td>10500</td>\n",
              "      <td>通常</td>\n",
              "    </tr>\n",
              "    <tr>\n",
              "      <th>1</th>\n",
              "      <td>PL270116</td>\n",
              "      <td>XXXXX</td>\n",
              "      <td>C01</td>\n",
              "      <td>M</td>\n",
              "      <td>2015-05-01 00:00:00</td>\n",
              "      <td>NaN</td>\n",
              "      <td>CA1</td>\n",
              "      <td>0</td>\n",
              "      <td>オールタイム</td>\n",
              "      <td>10500</td>\n",
              "      <td>通常</td>\n",
              "    </tr>\n",
              "    <tr>\n",
              "      <th>2</th>\n",
              "      <td>OA974876</td>\n",
              "      <td>XXXXX</td>\n",
              "      <td>C01</td>\n",
              "      <td>M</td>\n",
              "      <td>2015-05-01 00:00:00</td>\n",
              "      <td>NaN</td>\n",
              "      <td>CA1</td>\n",
              "      <td>0</td>\n",
              "      <td>オールタイム</td>\n",
              "      <td>10500</td>\n",
              "      <td>通常</td>\n",
              "    </tr>\n",
              "    <tr>\n",
              "      <th>3</th>\n",
              "      <td>HD024127</td>\n",
              "      <td>XXXXX</td>\n",
              "      <td>C01</td>\n",
              "      <td>F</td>\n",
              "      <td>2015-05-01 00:00:00</td>\n",
              "      <td>NaN</td>\n",
              "      <td>CA1</td>\n",
              "      <td>0</td>\n",
              "      <td>オールタイム</td>\n",
              "      <td>10500</td>\n",
              "      <td>通常</td>\n",
              "    </tr>\n",
              "    <tr>\n",
              "      <th>4</th>\n",
              "      <td>HD661448</td>\n",
              "      <td>XXXXX</td>\n",
              "      <td>C03</td>\n",
              "      <td>F</td>\n",
              "      <td>2015-05-01 00:00:00</td>\n",
              "      <td>NaN</td>\n",
              "      <td>CA1</td>\n",
              "      <td>0</td>\n",
              "      <td>ナイト</td>\n",
              "      <td>6000</td>\n",
              "      <td>通常</td>\n",
              "    </tr>\n",
              "  </tbody>\n",
              "</table>\n",
              "</div>"
            ],
            "text/plain": [
              "  customer_id   name class gender           start_date end_date campaign_id  \\\n",
              "0    OA832399   XXXX   C01      F  2015-05-01 00:00:00      NaN         CA1   \n",
              "1    PL270116  XXXXX   C01      M  2015-05-01 00:00:00      NaN         CA1   \n",
              "2    OA974876  XXXXX   C01      M  2015-05-01 00:00:00      NaN         CA1   \n",
              "3    HD024127  XXXXX   C01      F  2015-05-01 00:00:00      NaN         CA1   \n",
              "4    HD661448  XXXXX   C03      F  2015-05-01 00:00:00      NaN         CA1   \n",
              "\n",
              "   is_deleted class_name  price campaign_name  \n",
              "0           0     オールタイム  10500            通常  \n",
              "1           0     オールタイム  10500            通常  \n",
              "2           0     オールタイム  10500            通常  \n",
              "3           0     オールタイム  10500            通常  \n",
              "4           0        ナイト   6000            通常  "
            ]
          },
          "execution_count": 6,
          "metadata": {},
          "output_type": "execute_result"
        }
      ],
      "source": [
        "# ここで顧客データの整形を行います\n",
        "# データ列も異なるため、mergeを利用します\n",
        "customer_join = pd.merge(customer, class_master, on=\"class\", how=\"left\") #キーカラムを、classに\n",
        "customer_join = pd.merge(customer_join, campaign_master, on=\"campaign_id\", how=\"left\") #キーカラムを、campaign_idに\n",
        "customer_join.head()"
      ]
    },
    {
      "cell_type": "code",
      "execution_count": null,
      "metadata": {
        "id": "Dj5Io7_WWZRJ",
        "outputId": "f5bf3840-68bb-423c-9d94-c90a7711ef64"
      },
      "outputs": [
        {
          "name": "stdout",
          "output_type": "stream",
          "text": [
            "4192\n",
            "4192\n"
          ]
        }
      ],
      "source": [
        "print(len(customer))\n",
        "print(len(customer_join))"
      ]
    },
    {
      "cell_type": "code",
      "execution_count": null,
      "metadata": {
        "id": "TTsQIU5SWZRJ",
        "outputId": "e2a4555d-c061-4cf8-d93c-706fd2f4eca9"
      },
      "outputs": [
        {
          "data": {
            "text/plain": [
              "customer_id         0\n",
              "name                0\n",
              "class               0\n",
              "gender              0\n",
              "start_date          0\n",
              "end_date         2842\n",
              "campaign_id         0\n",
              "is_deleted          0\n",
              "class_name          0\n",
              "price               0\n",
              "campaign_name       0\n",
              "dtype: int64"
            ]
          },
          "execution_count": 8,
          "metadata": {},
          "output_type": "execute_result"
        }
      ],
      "source": [
        "customer_join.isnull().sum()"
      ]
    },
    {
      "cell_type": "markdown",
      "source": [
        "\"end_date\"には、2842レコードにNA(欠損)があるよう"
      ],
      "metadata": {
        "id": "aD0jnpgmx2EL"
      }
    },
    {
      "cell_type": "markdown",
      "metadata": {
        "id": "A5-lFwGCWZRK"
      },
      "source": [
        "### 1.3：顧客データの基礎集計する\n",
        "データの整形が終わった(1つのデータテーブルにまとめた)ので、この顧客データを集計して全体像を把握していきます。集計する項目は、どの項目かを考える必要があります。この場合、いつ入会があるのか、いつ退会するのか、どの会員区分が多いのか、どのキャンペーンもしくは通常で入会したのか、などがあるかと思います。"
      ]
    },
    {
      "cell_type": "code",
      "execution_count": null,
      "metadata": {
        "id": "9wu60lEZWZRK",
        "outputId": "31f3bcaf-5e49-4ec2-e4a2-1b35c53a4858"
      },
      "outputs": [
        {
          "data": {
            "text/plain": [
              "class_name\n",
              "オールタイム    2045\n",
              "デイタイム     1019\n",
              "ナイト       1128\n",
              "Name: customer_id, dtype: int64"
            ]
          },
          "execution_count": 9,
          "metadata": {},
          "output_type": "execute_result"
        }
      ],
      "source": [
        "customer_join.groupby(\"class_name\").count()[\"customer_id\"] # \"class_name\"でGROUPBYして、\"customer_id\"(ユニークなID)をカウントする"
      ]
    },
    {
      "cell_type": "code",
      "execution_count": null,
      "metadata": {
        "id": "1npkPJMhWZRK",
        "outputId": "2d427cef-7aea-490e-b570-76d144c231fd"
      },
      "outputs": [
        {
          "data": {
            "text/plain": [
              "campaign_name\n",
              "入会費半額     650\n",
              "入会費無料     492\n",
              "通常       3050\n",
              "Name: customer_id, dtype: int64"
            ]
          },
          "execution_count": 10,
          "metadata": {},
          "output_type": "execute_result"
        }
      ],
      "source": [
        "customer_join.groupby(\"campaign_name\").count()[\"customer_id\"] # \"campaign_name\"でGROUPBYして、\"customer_id\"(ユニークなID)をカウントする"
      ]
    },
    {
      "cell_type": "code",
      "execution_count": null,
      "metadata": {
        "id": "J5dcJD8rWZRL",
        "outputId": "d6ac5d08-472e-429c-8b79-5377dba83c83"
      },
      "outputs": [
        {
          "data": {
            "text/plain": [
              "gender\n",
              "F    1983\n",
              "M    2209\n",
              "Name: customer_id, dtype: int64"
            ]
          },
          "execution_count": 11,
          "metadata": {},
          "output_type": "execute_result"
        }
      ],
      "source": [
        "customer_join.groupby(\"gender\").count()[\"customer_id\"] # \"gender\"でGROUPBYして、\"customer_id\"(ユニークなID)をカウントする"
      ]
    },
    {
      "cell_type": "code",
      "execution_count": null,
      "metadata": {
        "id": "KbPjgyzmWZRL",
        "outputId": "efb7970c-ae8d-47ad-d1a8-5f169335bc4d"
      },
      "outputs": [
        {
          "data": {
            "text/plain": [
              "is_deleted\n",
              "0    2842\n",
              "1    1350\n",
              "Name: customer_id, dtype: int64"
            ]
          },
          "execution_count": 12,
          "metadata": {},
          "output_type": "execute_result"
        }
      ],
      "source": [
        "customer_join.groupby(\"is_deleted\").count()[\"customer_id\"] # \"is_deleted\"でGROUPBYして、\"customer_id\"(ユニークなID)をカウントする"
      ]
    },
    {
      "cell_type": "code",
      "execution_count": null,
      "metadata": {
        "id": "rVSuM5utWZRM",
        "outputId": "0f997088-2b4a-41ca-99b5-959cc8147eb0"
      },
      "outputs": [
        {
          "name": "stdout",
          "output_type": "stream",
          "text": [
            "1361\n"
          ]
        }
      ],
      "source": [
        "# \"start_date\"を、pandasのdatetime型に変換する\n",
        "customer_join[\"start_date\"] = pd.to_datetime(customer_join[\"start_date\"])\n",
        "customer_start = customer_join.loc[customer_join[\"start_date\"]>pd.to_datetime(\"20180401\")] # locを用いて、条件に一致するレコードを抽出する\n",
        "print(len(customer_start))"
      ]
    },
    {
      "cell_type": "markdown",
      "source": [
        "入会人数は、\"start_date\"が20180401~20190331までのユーザーとなります\n",
        "\n",
        "1350人に対して、11人多いのは気になるところでが、一旦分析を進めていきます"
      ],
      "metadata": {
        "id": "sLuTkDKW08aj"
      }
    },
    {
      "cell_type": "markdown",
      "metadata": {
        "id": "lLHb6sunWZRM"
      },
      "source": [
        "### 1.4：最新顧客データの基礎集計する"
      ]
    },
    {
      "cell_type": "code",
      "execution_count": null,
      "metadata": {
        "id": "VdWDSf7iWZRM",
        "outputId": "b9d848e3-0512-4dbc-83dc-bbf33fc7dae5"
      },
      "outputs": [
        {
          "name": "stdout",
          "output_type": "stream",
          "text": [
            "2953\n"
          ]
        },
        {
          "data": {
            "text/plain": [
              "array([                          'NaT', '2019-03-31T00:00:00.000000000'],\n",
              "      dtype='datetime64[ns]')"
            ]
          },
          "execution_count": 14,
          "metadata": {},
          "output_type": "execute_result"
        }
      ],
      "source": [
        "# 20190331に退会したユーザーもしくは在籍しているユーザーで、最新月のユーザーを絞り込む\n",
        "customer_join[\"end_date\"] = pd.to_datetime(customer_join[\"end_date\"]) # end_dateをdatetime型に\n",
        "customer_newer = customer_join.loc[(customer_join[\"end_date\"]>=pd.to_datetime(\"20190331\"))|(customer_join[\"end_date\"].isna())] #NAであれば、現在でも在籍しているユーザー\n",
        "print(len(customer_newer))\n",
        "customer_newer[\"end_date\"].unique()"
      ]
    },
    {
      "cell_type": "code",
      "execution_count": null,
      "metadata": {
        "id": "7hIongR_WZRN",
        "outputId": "43c0aedd-8e55-4ae2-e90c-85ff07ab05b6"
      },
      "outputs": [
        {
          "data": {
            "text/plain": [
              "class_name\n",
              "オールタイム    1444\n",
              "デイタイム      696\n",
              "ナイト        813\n",
              "Name: customer_id, dtype: int64"
            ]
          },
          "execution_count": 15,
          "metadata": {},
          "output_type": "execute_result"
        }
      ],
      "source": [
        "customer_newer.groupby(\"class_name\").count()[\"customer_id\"]"
      ]
    },
    {
      "cell_type": "code",
      "execution_count": null,
      "metadata": {
        "id": "ACCMnPUOWZRN",
        "outputId": "36ebf583-335a-43b2-df7a-71b0189c7daf"
      },
      "outputs": [
        {
          "data": {
            "text/plain": [
              "campaign_name\n",
              "入会費半額     311\n",
              "入会費無料     242\n",
              "通常       2400\n",
              "Name: customer_id, dtype: int64"
            ]
          },
          "execution_count": 16,
          "metadata": {},
          "output_type": "execute_result"
        }
      ],
      "source": [
        "customer_newer.groupby(\"campaign_name\").count()[\"customer_id\"]"
      ]
    },
    {
      "cell_type": "code",
      "execution_count": null,
      "metadata": {
        "id": "ESYA9ZaEWZRN",
        "outputId": "221ec435-5d17-4693-a13a-5a61b5989de2"
      },
      "outputs": [
        {
          "data": {
            "text/plain": [
              "gender\n",
              "F    1400\n",
              "M    1553\n",
              "Name: customer_id, dtype: int64"
            ]
          },
          "execution_count": 17,
          "metadata": {},
          "output_type": "execute_result"
        }
      ],
      "source": [
        "customer_newer.groupby(\"gender\").count()[\"customer_id\"]"
      ]
    },
    {
      "cell_type": "markdown",
      "metadata": {
        "id": "HJPDu93zWZRO"
      },
      "source": [
        "### 1.5：利用履歴データを集計する\n",
        "月の利用回数の平均、中央値、最大値、最小値、また定期的に利用しているユーザーのフラグを作成して、顧客データに追加して、集計を行なっていきましょう"
      ]
    },
    {
      "cell_type": "code",
      "execution_count": null,
      "metadata": {
        "id": "NPSNVgXjWZRO",
        "outputId": "6439b685-c312-49cf-c8be-636cf8de3d38"
      },
      "outputs": [
        {
          "data": {
            "text/html": [
              "<div>\n",
              "<style scoped>\n",
              "    .dataframe tbody tr th:only-of-type {\n",
              "        vertical-align: middle;\n",
              "    }\n",
              "\n",
              "    .dataframe tbody tr th {\n",
              "        vertical-align: top;\n",
              "    }\n",
              "\n",
              "    .dataframe thead th {\n",
              "        text-align: right;\n",
              "    }\n",
              "</style>\n",
              "<table border=\"1\" class=\"dataframe\">\n",
              "  <thead>\n",
              "    <tr style=\"text-align: right;\">\n",
              "      <th></th>\n",
              "      <th>年月</th>\n",
              "      <th>customer_id</th>\n",
              "      <th>count</th>\n",
              "    </tr>\n",
              "  </thead>\n",
              "  <tbody>\n",
              "    <tr>\n",
              "      <th>0</th>\n",
              "      <td>201804</td>\n",
              "      <td>AS002855</td>\n",
              "      <td>4</td>\n",
              "    </tr>\n",
              "    <tr>\n",
              "      <th>1</th>\n",
              "      <td>201804</td>\n",
              "      <td>AS009013</td>\n",
              "      <td>2</td>\n",
              "    </tr>\n",
              "    <tr>\n",
              "      <th>2</th>\n",
              "      <td>201804</td>\n",
              "      <td>AS009373</td>\n",
              "      <td>3</td>\n",
              "    </tr>\n",
              "    <tr>\n",
              "      <th>3</th>\n",
              "      <td>201804</td>\n",
              "      <td>AS015315</td>\n",
              "      <td>6</td>\n",
              "    </tr>\n",
              "    <tr>\n",
              "      <th>4</th>\n",
              "      <td>201804</td>\n",
              "      <td>AS015739</td>\n",
              "      <td>7</td>\n",
              "    </tr>\n",
              "  </tbody>\n",
              "</table>\n",
              "</div>"
            ],
            "text/plain": [
              "       年月 customer_id  count\n",
              "0  201804    AS002855      4\n",
              "1  201804    AS009013      2\n",
              "2  201804    AS009373      3\n",
              "3  201804    AS015315      6\n",
              "4  201804    AS015739      7"
            ]
          },
          "execution_count": 18,
          "metadata": {},
          "output_type": "execute_result"
        }
      ],
      "source": [
        "# 顧客ごと、月ごと利用回数を集計する\n",
        "uselog[\"usedate\"] = pd.to_datetime(uselog[\"usedate\"]) # usedateを、datetime型に変換する\n",
        "uselog[\"年月\"] = uselog[\"usedate\"].dt.strftime(\"%Y%m\") # datetime型になったレコードから、年月日 -> 年月に置き換える\n",
        "uselog_months = uselog.groupby([\"年月\",\"customer_id\"],as_index=False).count() # \"年月\",\"customer_id\" でGROUPBYし、その月の同一顧客のカウントを行う\n",
        "uselog_months.rename(columns={\"log_id\":\"count\"}, inplace=True) # \"log_id\"を\"count\"に置き換える\n",
        "del uselog_months[\"usedate\"] # \"usedate\"列を削除する（後で顧客データに追加するときに、列が重複するため）\n",
        "uselog_months.head()"
      ]
    },
    {
      "cell_type": "code",
      "execution_count": null,
      "metadata": {
        "id": "XAVydD4yWZRO",
        "outputId": "875de525-412d-426b-825d-951fb76726c2"
      },
      "outputs": [
        {
          "data": {
            "text/html": [
              "<div>\n",
              "<style scoped>\n",
              "    .dataframe tbody tr th:only-of-type {\n",
              "        vertical-align: middle;\n",
              "    }\n",
              "\n",
              "    .dataframe tbody tr th {\n",
              "        vertical-align: top;\n",
              "    }\n",
              "\n",
              "    .dataframe thead th {\n",
              "        text-align: right;\n",
              "    }\n",
              "</style>\n",
              "<table border=\"1\" class=\"dataframe\">\n",
              "  <thead>\n",
              "    <tr style=\"text-align: right;\">\n",
              "      <th></th>\n",
              "      <th>customer_id</th>\n",
              "      <th>mean</th>\n",
              "      <th>median</th>\n",
              "      <th>max</th>\n",
              "      <th>min</th>\n",
              "    </tr>\n",
              "  </thead>\n",
              "  <tbody>\n",
              "    <tr>\n",
              "      <th>0</th>\n",
              "      <td>AS002855</td>\n",
              "      <td>4.500000</td>\n",
              "      <td>5.0</td>\n",
              "      <td>7</td>\n",
              "      <td>2</td>\n",
              "    </tr>\n",
              "    <tr>\n",
              "      <th>1</th>\n",
              "      <td>AS008805</td>\n",
              "      <td>4.000000</td>\n",
              "      <td>4.0</td>\n",
              "      <td>8</td>\n",
              "      <td>1</td>\n",
              "    </tr>\n",
              "    <tr>\n",
              "      <th>2</th>\n",
              "      <td>AS009013</td>\n",
              "      <td>2.000000</td>\n",
              "      <td>2.0</td>\n",
              "      <td>2</td>\n",
              "      <td>2</td>\n",
              "    </tr>\n",
              "    <tr>\n",
              "      <th>3</th>\n",
              "      <td>AS009373</td>\n",
              "      <td>5.083333</td>\n",
              "      <td>5.0</td>\n",
              "      <td>7</td>\n",
              "      <td>3</td>\n",
              "    </tr>\n",
              "    <tr>\n",
              "      <th>4</th>\n",
              "      <td>AS015233</td>\n",
              "      <td>7.545455</td>\n",
              "      <td>7.0</td>\n",
              "      <td>11</td>\n",
              "      <td>4</td>\n",
              "    </tr>\n",
              "  </tbody>\n",
              "</table>\n",
              "</div>"
            ],
            "text/plain": [
              "  customer_id      mean  median  max  min\n",
              "0    AS002855  4.500000     5.0    7    2\n",
              "1    AS008805  4.000000     4.0    8    1\n",
              "2    AS009013  2.000000     2.0    2    2\n",
              "3    AS009373  5.083333     5.0    7    3\n",
              "4    AS015233  7.545455     7.0   11    4"
            ]
          },
          "execution_count": 19,
          "metadata": {},
          "output_type": "execute_result"
        }
      ],
      "source": [
        "uselog_customer = uselog_months.groupby(\"customer_id\").agg([\"mean\", \"median\", \"max\", \"min\" ])[\"count\"]\n",
        "uselog_customer = uselog_customer.reset_index(drop=False)\n",
        "uselog_customer.head()"
      ]
    },
    {
      "cell_type": "markdown",
      "metadata": {
        "id": "RCTFEZZiWZRP"
      },
      "source": [
        "### 1.6：利用履歴データから定期利用フラグを作成する\n",
        "習慣化が、ジム利用の継続の重要な１つの要因と仮定します。\n",
        "\n",
        "従って、定期的にジムを利用しているユーザーを特定する必要があります。(フラグを作成する) 『定期的』をどのように定義するかは別議論として、一旦、『毎週同じ曜日に来ている』を定期的と定義しましょう。月ごとにばらつきがあると考えられるため、顧客ごと月ごと曜日別に集計を行なって、最大値が４以上の曜日が1月でもあればフラグを１とします。"
      ]
    },
    {
      "cell_type": "code",
      "execution_count": null,
      "metadata": {
        "id": "mIk-22woWZRP",
        "outputId": "b7333cb9-aa5e-442b-810a-91cc0202d609"
      },
      "outputs": [
        {
          "data": {
            "text/html": [
              "<div>\n",
              "<style scoped>\n",
              "    .dataframe tbody tr th:only-of-type {\n",
              "        vertical-align: middle;\n",
              "    }\n",
              "\n",
              "    .dataframe tbody tr th {\n",
              "        vertical-align: top;\n",
              "    }\n",
              "\n",
              "    .dataframe thead th {\n",
              "        text-align: right;\n",
              "    }\n",
              "</style>\n",
              "<table border=\"1\" class=\"dataframe\">\n",
              "  <thead>\n",
              "    <tr style=\"text-align: right;\">\n",
              "      <th></th>\n",
              "      <th>customer_id</th>\n",
              "      <th>年月</th>\n",
              "      <th>weekday</th>\n",
              "      <th>count</th>\n",
              "    </tr>\n",
              "  </thead>\n",
              "  <tbody>\n",
              "    <tr>\n",
              "      <th>0</th>\n",
              "      <td>AS002855</td>\n",
              "      <td>201804</td>\n",
              "      <td>5</td>\n",
              "      <td>4</td>\n",
              "    </tr>\n",
              "    <tr>\n",
              "      <th>1</th>\n",
              "      <td>AS002855</td>\n",
              "      <td>201805</td>\n",
              "      <td>2</td>\n",
              "      <td>1</td>\n",
              "    </tr>\n",
              "    <tr>\n",
              "      <th>2</th>\n",
              "      <td>AS002855</td>\n",
              "      <td>201805</td>\n",
              "      <td>5</td>\n",
              "      <td>4</td>\n",
              "    </tr>\n",
              "    <tr>\n",
              "      <th>3</th>\n",
              "      <td>AS002855</td>\n",
              "      <td>201806</td>\n",
              "      <td>5</td>\n",
              "      <td>5</td>\n",
              "    </tr>\n",
              "    <tr>\n",
              "      <th>4</th>\n",
              "      <td>AS002855</td>\n",
              "      <td>201807</td>\n",
              "      <td>1</td>\n",
              "      <td>1</td>\n",
              "    </tr>\n",
              "  </tbody>\n",
              "</table>\n",
              "</div>"
            ],
            "text/plain": [
              "  customer_id      年月  weekday  count\n",
              "0    AS002855  201804        5      4\n",
              "1    AS002855  201805        2      1\n",
              "2    AS002855  201805        5      4\n",
              "3    AS002855  201806        5      5\n",
              "4    AS002855  201807        1      1"
            ]
          },
          "execution_count": 20,
          "metadata": {},
          "output_type": "execute_result"
        }
      ],
      "source": [
        "uselog[\"weekday\"] = uselog[\"usedate\"].dt.weekday # 日付から曜日や年月日を取得するため、dt.weekdayを利用します\n",
        "uselog_weekday = uselog.groupby([\"customer_id\",\"年月\",\"weekday\"], as_index=False).count()[[\"customer_id\",\"年月\", \"weekday\",\"log_id\"]]\n",
        "uselog_weekday.rename(columns={\"log_id\":\"count\"}, inplace=True)\n",
        "uselog_weekday.head()"
      ]
    },
    {
      "cell_type": "markdown",
      "source": [
        "dt.weekday　から、下記の整数値とそれに対応する曜日が定義されています\n",
        ">>\n",
        "0       Monday\n",
        "1      Tuesday\n",
        "2    Wednesday\n",
        "3     Thursday\n",
        "4       Friday\n",
        "5     Saturday\n",
        "6       Sunday"
      ],
      "metadata": {
        "id": "aXCuWtho4qyw"
      }
    },
    {
      "cell_type": "code",
      "execution_count": null,
      "metadata": {
        "id": "Ame0aY5lWZRP",
        "outputId": "d99200d2-91b4-44c1-cef0-b7129ee3fc87"
      },
      "outputs": [
        {
          "data": {
            "text/html": [
              "<div>\n",
              "<style scoped>\n",
              "    .dataframe tbody tr th:only-of-type {\n",
              "        vertical-align: middle;\n",
              "    }\n",
              "\n",
              "    .dataframe tbody tr th {\n",
              "        vertical-align: top;\n",
              "    }\n",
              "\n",
              "    .dataframe thead th {\n",
              "        text-align: right;\n",
              "    }\n",
              "</style>\n",
              "<table border=\"1\" class=\"dataframe\">\n",
              "  <thead>\n",
              "    <tr style=\"text-align: right;\">\n",
              "      <th></th>\n",
              "      <th>customer_id</th>\n",
              "      <th>count</th>\n",
              "      <th>routine_flg</th>\n",
              "    </tr>\n",
              "  </thead>\n",
              "  <tbody>\n",
              "    <tr>\n",
              "      <th>0</th>\n",
              "      <td>AS002855</td>\n",
              "      <td>5</td>\n",
              "      <td>1</td>\n",
              "    </tr>\n",
              "    <tr>\n",
              "      <th>1</th>\n",
              "      <td>AS008805</td>\n",
              "      <td>4</td>\n",
              "      <td>1</td>\n",
              "    </tr>\n",
              "    <tr>\n",
              "      <th>2</th>\n",
              "      <td>AS009013</td>\n",
              "      <td>2</td>\n",
              "      <td>0</td>\n",
              "    </tr>\n",
              "    <tr>\n",
              "      <th>3</th>\n",
              "      <td>AS009373</td>\n",
              "      <td>5</td>\n",
              "      <td>1</td>\n",
              "    </tr>\n",
              "    <tr>\n",
              "      <th>4</th>\n",
              "      <td>AS015233</td>\n",
              "      <td>5</td>\n",
              "      <td>1</td>\n",
              "    </tr>\n",
              "  </tbody>\n",
              "</table>\n",
              "</div>"
            ],
            "text/plain": [
              "  customer_id  count  routine_flg\n",
              "0    AS002855      5            1\n",
              "1    AS008805      4            1\n",
              "2    AS009013      2            0\n",
              "3    AS009373      5            1\n",
              "4    AS015233      5            1"
            ]
          },
          "execution_count": 21,
          "metadata": {},
          "output_type": "execute_result"
        }
      ],
      "source": [
        "# ここから4以上のカウントに対して、フラグを１、4未満のカウントに対して、フラグを0とします\n",
        "uselog_weekday = uselog_weekday.groupby(\"customer_id\",as_index=False).max()[[\"customer_id\", \"count\"]]\n",
        "uselog_weekday[\"routine_flg\"] = 0\n",
        "uselog_weekday[\"routine_flg\"] = uselog_weekday[\"routine_flg\"].where(uselog_weekday[\"count\"]<4, 1)\n",
        "uselog_weekday.head()"
      ]
    },
    {
      "cell_type": "markdown",
      "metadata": {
        "id": "c1urc4TMWZRQ"
      },
      "source": [
        "### 1.7：顧客データと利用履歴データを結合する"
      ]
    },
    {
      "cell_type": "code",
      "execution_count": null,
      "metadata": {
        "id": "tVd9VoOnWZRQ",
        "outputId": "da1d77ee-d878-452c-e408-7ce90b7b806d"
      },
      "outputs": [
        {
          "data": {
            "text/html": [
              "<div>\n",
              "<style scoped>\n",
              "    .dataframe tbody tr th:only-of-type {\n",
              "        vertical-align: middle;\n",
              "    }\n",
              "\n",
              "    .dataframe tbody tr th {\n",
              "        vertical-align: top;\n",
              "    }\n",
              "\n",
              "    .dataframe thead th {\n",
              "        text-align: right;\n",
              "    }\n",
              "</style>\n",
              "<table border=\"1\" class=\"dataframe\">\n",
              "  <thead>\n",
              "    <tr style=\"text-align: right;\">\n",
              "      <th></th>\n",
              "      <th>customer_id</th>\n",
              "      <th>name</th>\n",
              "      <th>class</th>\n",
              "      <th>gender</th>\n",
              "      <th>start_date</th>\n",
              "      <th>end_date</th>\n",
              "      <th>campaign_id</th>\n",
              "      <th>is_deleted</th>\n",
              "      <th>class_name</th>\n",
              "      <th>price</th>\n",
              "      <th>campaign_name</th>\n",
              "      <th>mean</th>\n",
              "      <th>median</th>\n",
              "      <th>max</th>\n",
              "      <th>min</th>\n",
              "      <th>routine_flg</th>\n",
              "    </tr>\n",
              "  </thead>\n",
              "  <tbody>\n",
              "    <tr>\n",
              "      <th>0</th>\n",
              "      <td>OA832399</td>\n",
              "      <td>XXXX</td>\n",
              "      <td>C01</td>\n",
              "      <td>F</td>\n",
              "      <td>2015-05-01</td>\n",
              "      <td>NaT</td>\n",
              "      <td>CA1</td>\n",
              "      <td>0</td>\n",
              "      <td>オールタイム</td>\n",
              "      <td>10500</td>\n",
              "      <td>通常</td>\n",
              "      <td>4.833333</td>\n",
              "      <td>5.0</td>\n",
              "      <td>8</td>\n",
              "      <td>2</td>\n",
              "      <td>1</td>\n",
              "    </tr>\n",
              "    <tr>\n",
              "      <th>1</th>\n",
              "      <td>PL270116</td>\n",
              "      <td>XXXXX</td>\n",
              "      <td>C01</td>\n",
              "      <td>M</td>\n",
              "      <td>2015-05-01</td>\n",
              "      <td>NaT</td>\n",
              "      <td>CA1</td>\n",
              "      <td>0</td>\n",
              "      <td>オールタイム</td>\n",
              "      <td>10500</td>\n",
              "      <td>通常</td>\n",
              "      <td>5.083333</td>\n",
              "      <td>5.0</td>\n",
              "      <td>7</td>\n",
              "      <td>3</td>\n",
              "      <td>1</td>\n",
              "    </tr>\n",
              "    <tr>\n",
              "      <th>2</th>\n",
              "      <td>OA974876</td>\n",
              "      <td>XXXXX</td>\n",
              "      <td>C01</td>\n",
              "      <td>M</td>\n",
              "      <td>2015-05-01</td>\n",
              "      <td>NaT</td>\n",
              "      <td>CA1</td>\n",
              "      <td>0</td>\n",
              "      <td>オールタイム</td>\n",
              "      <td>10500</td>\n",
              "      <td>通常</td>\n",
              "      <td>4.583333</td>\n",
              "      <td>5.0</td>\n",
              "      <td>6</td>\n",
              "      <td>3</td>\n",
              "      <td>1</td>\n",
              "    </tr>\n",
              "    <tr>\n",
              "      <th>3</th>\n",
              "      <td>HD024127</td>\n",
              "      <td>XXXXX</td>\n",
              "      <td>C01</td>\n",
              "      <td>F</td>\n",
              "      <td>2015-05-01</td>\n",
              "      <td>NaT</td>\n",
              "      <td>CA1</td>\n",
              "      <td>0</td>\n",
              "      <td>オールタイム</td>\n",
              "      <td>10500</td>\n",
              "      <td>通常</td>\n",
              "      <td>4.833333</td>\n",
              "      <td>4.5</td>\n",
              "      <td>7</td>\n",
              "      <td>2</td>\n",
              "      <td>1</td>\n",
              "    </tr>\n",
              "    <tr>\n",
              "      <th>4</th>\n",
              "      <td>HD661448</td>\n",
              "      <td>XXXXX</td>\n",
              "      <td>C03</td>\n",
              "      <td>F</td>\n",
              "      <td>2015-05-01</td>\n",
              "      <td>NaT</td>\n",
              "      <td>CA1</td>\n",
              "      <td>0</td>\n",
              "      <td>ナイト</td>\n",
              "      <td>6000</td>\n",
              "      <td>通常</td>\n",
              "      <td>3.916667</td>\n",
              "      <td>4.0</td>\n",
              "      <td>6</td>\n",
              "      <td>1</td>\n",
              "      <td>1</td>\n",
              "    </tr>\n",
              "  </tbody>\n",
              "</table>\n",
              "</div>"
            ],
            "text/plain": [
              "  customer_id   name class gender start_date end_date campaign_id  is_deleted  \\\n",
              "0    OA832399   XXXX   C01      F 2015-05-01      NaT         CA1           0   \n",
              "1    PL270116  XXXXX   C01      M 2015-05-01      NaT         CA1           0   \n",
              "2    OA974876  XXXXX   C01      M 2015-05-01      NaT         CA1           0   \n",
              "3    HD024127  XXXXX   C01      F 2015-05-01      NaT         CA1           0   \n",
              "4    HD661448  XXXXX   C03      F 2015-05-01      NaT         CA1           0   \n",
              "\n",
              "  class_name  price campaign_name      mean  median  max  min  routine_flg  \n",
              "0     オールタイム  10500            通常  4.833333     5.0    8    2            1  \n",
              "1     オールタイム  10500            通常  5.083333     5.0    7    3            1  \n",
              "2     オールタイム  10500            通常  4.583333     5.0    6    3            1  \n",
              "3     オールタイム  10500            通常  4.833333     4.5    7    2            1  \n",
              "4        ナイト   6000            通常  3.916667     4.0    6    1            1  "
            ]
          },
          "execution_count": 22,
          "metadata": {},
          "output_type": "execute_result"
        }
      ],
      "source": [
        "customer_join = pd.merge(customer_join, uselog_customer, on=\"customer_id\", how=\"left\")\n",
        "customer_join = pd.merge(customer_join, uselog_weekday[[\"customer_id\", \"routine_flg\"]], on=\"customer_id\", how=\"left\")\n",
        "customer_join.head()"
      ]
    },
    {
      "cell_type": "code",
      "execution_count": null,
      "metadata": {
        "id": "aXEHpDjvWZRQ",
        "outputId": "d5c81d84-7cff-417c-cba2-9e5e5ad7d25c"
      },
      "outputs": [
        {
          "data": {
            "text/plain": [
              "customer_id         0\n",
              "name                0\n",
              "class               0\n",
              "gender              0\n",
              "start_date          0\n",
              "end_date         2842\n",
              "campaign_id         0\n",
              "is_deleted          0\n",
              "class_name          0\n",
              "price               0\n",
              "campaign_name       0\n",
              "mean                0\n",
              "median              0\n",
              "max                 0\n",
              "min                 0\n",
              "routine_flg         0\n",
              "dtype: int64"
            ]
          },
          "execution_count": 23,
          "metadata": {},
          "output_type": "execute_result"
        }
      ],
      "source": [
        "customer_join.isnull().sum()"
      ]
    },
    {
      "cell_type": "markdown",
      "metadata": {
        "id": "mMK9N5XTWZRQ"
      },
      "source": [
        "### 1.8：会員期間を計算する\n",
        "会員である期間は、\"start_date\"と\"end_date\"との差で計算することが可能です。一方、現在(20190331以降)も会員である場合は、\"end_date\"は欠損値となっているため計算することができないため、一旦、20190430と置き換えて計算します。(必ず、こうしてくださいというわけではなく、今回は上記対応をしているだけ)\n",
        "20190331で算出しようとすると、例えば、20190331時点で退会する人と見分けがつかなくなるため、1ヶ月未来の日付で置き換えています。"
      ]
    },
    {
      "cell_type": "code",
      "execution_count": null,
      "metadata": {
        "id": "DUek8376WZRQ",
        "outputId": "f461ed5c-5cb5-4577-8d05-052a6b8bfa5d"
      },
      "outputs": [
        {
          "data": {
            "text/html": [
              "<div>\n",
              "<style scoped>\n",
              "    .dataframe tbody tr th:only-of-type {\n",
              "        vertical-align: middle;\n",
              "    }\n",
              "\n",
              "    .dataframe tbody tr th {\n",
              "        vertical-align: top;\n",
              "    }\n",
              "\n",
              "    .dataframe thead th {\n",
              "        text-align: right;\n",
              "    }\n",
              "</style>\n",
              "<table border=\"1\" class=\"dataframe\">\n",
              "  <thead>\n",
              "    <tr style=\"text-align: right;\">\n",
              "      <th></th>\n",
              "      <th>customer_id</th>\n",
              "      <th>name</th>\n",
              "      <th>class</th>\n",
              "      <th>gender</th>\n",
              "      <th>start_date</th>\n",
              "      <th>end_date</th>\n",
              "      <th>campaign_id</th>\n",
              "      <th>is_deleted</th>\n",
              "      <th>class_name</th>\n",
              "      <th>price</th>\n",
              "      <th>campaign_name</th>\n",
              "      <th>mean</th>\n",
              "      <th>median</th>\n",
              "      <th>max</th>\n",
              "      <th>min</th>\n",
              "      <th>routine_flg</th>\n",
              "      <th>calc_date</th>\n",
              "      <th>membership_period</th>\n",
              "    </tr>\n",
              "  </thead>\n",
              "  <tbody>\n",
              "    <tr>\n",
              "      <th>0</th>\n",
              "      <td>OA832399</td>\n",
              "      <td>XXXX</td>\n",
              "      <td>C01</td>\n",
              "      <td>F</td>\n",
              "      <td>2015-05-01</td>\n",
              "      <td>NaT</td>\n",
              "      <td>CA1</td>\n",
              "      <td>0</td>\n",
              "      <td>オールタイム</td>\n",
              "      <td>10500</td>\n",
              "      <td>通常</td>\n",
              "      <td>4.833333</td>\n",
              "      <td>5.0</td>\n",
              "      <td>8</td>\n",
              "      <td>2</td>\n",
              "      <td>1</td>\n",
              "      <td>2019-04-30</td>\n",
              "      <td>47</td>\n",
              "    </tr>\n",
              "    <tr>\n",
              "      <th>1</th>\n",
              "      <td>PL270116</td>\n",
              "      <td>XXXXX</td>\n",
              "      <td>C01</td>\n",
              "      <td>M</td>\n",
              "      <td>2015-05-01</td>\n",
              "      <td>NaT</td>\n",
              "      <td>CA1</td>\n",
              "      <td>0</td>\n",
              "      <td>オールタイム</td>\n",
              "      <td>10500</td>\n",
              "      <td>通常</td>\n",
              "      <td>5.083333</td>\n",
              "      <td>5.0</td>\n",
              "      <td>7</td>\n",
              "      <td>3</td>\n",
              "      <td>1</td>\n",
              "      <td>2019-04-30</td>\n",
              "      <td>47</td>\n",
              "    </tr>\n",
              "    <tr>\n",
              "      <th>2</th>\n",
              "      <td>OA974876</td>\n",
              "      <td>XXXXX</td>\n",
              "      <td>C01</td>\n",
              "      <td>M</td>\n",
              "      <td>2015-05-01</td>\n",
              "      <td>NaT</td>\n",
              "      <td>CA1</td>\n",
              "      <td>0</td>\n",
              "      <td>オールタイム</td>\n",
              "      <td>10500</td>\n",
              "      <td>通常</td>\n",
              "      <td>4.583333</td>\n",
              "      <td>5.0</td>\n",
              "      <td>6</td>\n",
              "      <td>3</td>\n",
              "      <td>1</td>\n",
              "      <td>2019-04-30</td>\n",
              "      <td>47</td>\n",
              "    </tr>\n",
              "    <tr>\n",
              "      <th>3</th>\n",
              "      <td>HD024127</td>\n",
              "      <td>XXXXX</td>\n",
              "      <td>C01</td>\n",
              "      <td>F</td>\n",
              "      <td>2015-05-01</td>\n",
              "      <td>NaT</td>\n",
              "      <td>CA1</td>\n",
              "      <td>0</td>\n",
              "      <td>オールタイム</td>\n",
              "      <td>10500</td>\n",
              "      <td>通常</td>\n",
              "      <td>4.833333</td>\n",
              "      <td>4.5</td>\n",
              "      <td>7</td>\n",
              "      <td>2</td>\n",
              "      <td>1</td>\n",
              "      <td>2019-04-30</td>\n",
              "      <td>47</td>\n",
              "    </tr>\n",
              "    <tr>\n",
              "      <th>4</th>\n",
              "      <td>HD661448</td>\n",
              "      <td>XXXXX</td>\n",
              "      <td>C03</td>\n",
              "      <td>F</td>\n",
              "      <td>2015-05-01</td>\n",
              "      <td>NaT</td>\n",
              "      <td>CA1</td>\n",
              "      <td>0</td>\n",
              "      <td>ナイト</td>\n",
              "      <td>6000</td>\n",
              "      <td>通常</td>\n",
              "      <td>3.916667</td>\n",
              "      <td>4.0</td>\n",
              "      <td>6</td>\n",
              "      <td>1</td>\n",
              "      <td>1</td>\n",
              "      <td>2019-04-30</td>\n",
              "      <td>47</td>\n",
              "    </tr>\n",
              "  </tbody>\n",
              "</table>\n",
              "</div>"
            ],
            "text/plain": [
              "  customer_id   name class gender start_date end_date campaign_id  is_deleted  \\\n",
              "0    OA832399   XXXX   C01      F 2015-05-01      NaT         CA1           0   \n",
              "1    PL270116  XXXXX   C01      M 2015-05-01      NaT         CA1           0   \n",
              "2    OA974876  XXXXX   C01      M 2015-05-01      NaT         CA1           0   \n",
              "3    HD024127  XXXXX   C01      F 2015-05-01      NaT         CA1           0   \n",
              "4    HD661448  XXXXX   C03      F 2015-05-01      NaT         CA1           0   \n",
              "\n",
              "  class_name  price campaign_name      mean  median  max  min  routine_flg  \\\n",
              "0     オールタイム  10500            通常  4.833333     5.0    8    2            1   \n",
              "1     オールタイム  10500            通常  5.083333     5.0    7    3            1   \n",
              "2     オールタイム  10500            通常  4.583333     5.0    6    3            1   \n",
              "3     オールタイム  10500            通常  4.833333     4.5    7    2            1   \n",
              "4        ナイト   6000            通常  3.916667     4.0    6    1            1   \n",
              "\n",
              "   calc_date  membership_period  \n",
              "0 2019-04-30                 47  \n",
              "1 2019-04-30                 47  \n",
              "2 2019-04-30                 47  \n",
              "3 2019-04-30                 47  \n",
              "4 2019-04-30                 47  "
            ]
          },
          "execution_count": 24,
          "metadata": {},
          "output_type": "execute_result"
        }
      ],
      "source": [
        "from dateutil.relativedelta import relativedelta # 日付比較のためのPython標準ライブラリ\n",
        "customer_join[\"calc_date\"] = customer_join[\"end_date\"] # 計算するための列を作成\n",
        "customer_join[\"calc_date\"] = customer_join[\"calc_date\"].fillna(pd.to_datetime(\"20190430\")) # NAを20190430に置き換え\n",
        "customer_join[\"membership_period\"] = 0\n",
        "for index_num in range(len(customer_join)): # customer_joinのレコード分、繰り返し処理をする\n",
        "    delta = relativedelta(customer_join[\"calc_date\"].iloc[index_num], customer_join[\"start_date\"].iloc[index_num]) # 日付の差を計算する\n",
        "    customer_join[\"membership_period\"].iloc[index_num] = delta.years*12 + delta.months # 会員期間(日付の差)を、月数に置き換える\n",
        "customer_join.head()"
      ]
    },
    {
      "cell_type": "markdown",
      "metadata": {
        "id": "U9pSy_N-WZRQ"
      },
      "source": [
        "### 1.9：顧客行動の各種統計量を把握する"
      ]
    },
    {
      "cell_type": "code",
      "execution_count": null,
      "metadata": {
        "id": "izqkbP0NWZRR",
        "outputId": "11e49bd9-a0de-4092-aa88-bc8e53b7181d"
      },
      "outputs": [
        {
          "data": {
            "text/html": [
              "<div>\n",
              "<style scoped>\n",
              "    .dataframe tbody tr th:only-of-type {\n",
              "        vertical-align: middle;\n",
              "    }\n",
              "\n",
              "    .dataframe tbody tr th {\n",
              "        vertical-align: top;\n",
              "    }\n",
              "\n",
              "    .dataframe thead th {\n",
              "        text-align: right;\n",
              "    }\n",
              "</style>\n",
              "<table border=\"1\" class=\"dataframe\">\n",
              "  <thead>\n",
              "    <tr style=\"text-align: right;\">\n",
              "      <th></th>\n",
              "      <th>mean</th>\n",
              "      <th>median</th>\n",
              "      <th>max</th>\n",
              "      <th>min</th>\n",
              "    </tr>\n",
              "  </thead>\n",
              "  <tbody>\n",
              "    <tr>\n",
              "      <th>count</th>\n",
              "      <td>4192.000000</td>\n",
              "      <td>4192.000000</td>\n",
              "      <td>4192.000000</td>\n",
              "      <td>4192.000000</td>\n",
              "    </tr>\n",
              "    <tr>\n",
              "      <th>mean</th>\n",
              "      <td>5.333127</td>\n",
              "      <td>5.250596</td>\n",
              "      <td>7.823950</td>\n",
              "      <td>3.041269</td>\n",
              "    </tr>\n",
              "    <tr>\n",
              "      <th>std</th>\n",
              "      <td>1.777533</td>\n",
              "      <td>1.874874</td>\n",
              "      <td>2.168959</td>\n",
              "      <td>1.951565</td>\n",
              "    </tr>\n",
              "    <tr>\n",
              "      <th>min</th>\n",
              "      <td>1.000000</td>\n",
              "      <td>1.000000</td>\n",
              "      <td>1.000000</td>\n",
              "      <td>1.000000</td>\n",
              "    </tr>\n",
              "    <tr>\n",
              "      <th>25%</th>\n",
              "      <td>4.250000</td>\n",
              "      <td>4.000000</td>\n",
              "      <td>7.000000</td>\n",
              "      <td>2.000000</td>\n",
              "    </tr>\n",
              "    <tr>\n",
              "      <th>50%</th>\n",
              "      <td>5.000000</td>\n",
              "      <td>5.000000</td>\n",
              "      <td>8.000000</td>\n",
              "      <td>3.000000</td>\n",
              "    </tr>\n",
              "    <tr>\n",
              "      <th>75%</th>\n",
              "      <td>6.416667</td>\n",
              "      <td>6.500000</td>\n",
              "      <td>9.000000</td>\n",
              "      <td>4.000000</td>\n",
              "    </tr>\n",
              "    <tr>\n",
              "      <th>max</th>\n",
              "      <td>12.000000</td>\n",
              "      <td>12.000000</td>\n",
              "      <td>14.000000</td>\n",
              "      <td>12.000000</td>\n",
              "    </tr>\n",
              "  </tbody>\n",
              "</table>\n",
              "</div>"
            ],
            "text/plain": [
              "              mean       median          max          min\n",
              "count  4192.000000  4192.000000  4192.000000  4192.000000\n",
              "mean      5.333127     5.250596     7.823950     3.041269\n",
              "std       1.777533     1.874874     2.168959     1.951565\n",
              "min       1.000000     1.000000     1.000000     1.000000\n",
              "25%       4.250000     4.000000     7.000000     2.000000\n",
              "50%       5.000000     5.000000     8.000000     3.000000\n",
              "75%       6.416667     6.500000     9.000000     4.000000\n",
              "max      12.000000    12.000000    14.000000    12.000000"
            ]
          },
          "execution_count": 25,
          "metadata": {},
          "output_type": "execute_result"
        }
      ],
      "source": [
        "customer_join[[\"mean\", \"median\", \"max\", \"min\"]].describe()"
      ]
    },
    {
      "cell_type": "code",
      "execution_count": null,
      "metadata": {
        "id": "YljAdd-_WZRR",
        "outputId": "4339dc1b-b8c6-47e8-f34c-8da360bb694f"
      },
      "outputs": [
        {
          "data": {
            "text/plain": [
              "routine_flg\n",
              "0     779\n",
              "1    3413\n",
              "Name: customer_id, dtype: int64"
            ]
          },
          "execution_count": 26,
          "metadata": {},
          "output_type": "execute_result"
        }
      ],
      "source": [
        "customer_join.groupby(\"routine_flg\").count()[\"customer_id\"]"
      ]
    },
    {
      "cell_type": "code",
      "execution_count": null,
      "metadata": {
        "id": "KUV3Wwx0WZRR",
        "outputId": "905b1a32-a22a-431e-d746-30b894a73509"
      },
      "outputs": [
        {
          "data": {
            "text/plain": [
              "(array([857., 774., 395., 368., 311., 331., 323., 237., 288., 308.]),\n",
              " array([ 1. ,  5.6, 10.2, 14.8, 19.4, 24. , 28.6, 33.2, 37.8, 42.4, 47. ]),\n",
              " <a list of 10 Patch objects>)"
            ]
          },
          "execution_count": 27,
          "metadata": {},
          "output_type": "execute_result"
        },
        {
          "data": {
            "image/png": "[encoded data removed]",
            "text/plain": [
              "<matplotlib.figure.Figure at 0x112dd9c88>"
            ]
          },
          "metadata": {},
          "output_type": "display_data"
        }
      ],
      "source": [
        "import matplotlib.pyplot as plt\n",
        "%matplotlib inline\n",
        "plt.hist(customer_join[\"membership_period\"])"
      ]
    },
    {
      "cell_type": "markdown",
      "source": [
        "10ヶ月未満が最も多く、10ヶ月以上は、横ばい。短期でユーザーが離脱してしまう業界のようです。"
      ],
      "metadata": {
        "id": "oHIv3Jwy7M-v"
      }
    },
    {
      "cell_type": "markdown",
      "metadata": {
        "id": "rQD8VzjrWZRR"
      },
      "source": [
        "### 1.10：退会ユーザーと継続ユーザーの違いを把握する"
      ]
    },
    {
      "cell_type": "code",
      "execution_count": null,
      "metadata": {
        "id": "oRelsQI2WZRR",
        "outputId": "5a8a83bc-9ab6-4906-8ebe-b6dc878996b5"
      },
      "outputs": [
        {
          "data": {
            "text/html": [
              "<div>\n",
              "<style scoped>\n",
              "    .dataframe tbody tr th:only-of-type {\n",
              "        vertical-align: middle;\n",
              "    }\n",
              "\n",
              "    .dataframe tbody tr th {\n",
              "        vertical-align: top;\n",
              "    }\n",
              "\n",
              "    .dataframe thead th {\n",
              "        text-align: right;\n",
              "    }\n",
              "</style>\n",
              "<table border=\"1\" class=\"dataframe\">\n",
              "  <thead>\n",
              "    <tr style=\"text-align: right;\">\n",
              "      <th></th>\n",
              "      <th>is_deleted</th>\n",
              "      <th>price</th>\n",
              "      <th>mean</th>\n",
              "      <th>median</th>\n",
              "      <th>max</th>\n",
              "      <th>min</th>\n",
              "      <th>routine_flg</th>\n",
              "      <th>membership_period</th>\n",
              "    </tr>\n",
              "  </thead>\n",
              "  <tbody>\n",
              "    <tr>\n",
              "      <th>count</th>\n",
              "      <td>1350.0</td>\n",
              "      <td>1350.000000</td>\n",
              "      <td>1350.000000</td>\n",
              "      <td>1350.000000</td>\n",
              "      <td>1350.000000</td>\n",
              "      <td>1350.000000</td>\n",
              "      <td>1350.000000</td>\n",
              "      <td>1350.000000</td>\n",
              "    </tr>\n",
              "    <tr>\n",
              "      <th>mean</th>\n",
              "      <td>1.0</td>\n",
              "      <td>8595.555556</td>\n",
              "      <td>3.865474</td>\n",
              "      <td>3.621852</td>\n",
              "      <td>6.461481</td>\n",
              "      <td>1.821481</td>\n",
              "      <td>0.456296</td>\n",
              "      <td>8.026667</td>\n",
              "    </tr>\n",
              "    <tr>\n",
              "      <th>std</th>\n",
              "      <td>0.0</td>\n",
              "      <td>1949.163652</td>\n",
              "      <td>1.246385</td>\n",
              "      <td>1.270847</td>\n",
              "      <td>2.584021</td>\n",
              "      <td>0.976361</td>\n",
              "      <td>0.498271</td>\n",
              "      <td>5.033692</td>\n",
              "    </tr>\n",
              "    <tr>\n",
              "      <th>min</th>\n",
              "      <td>1.0</td>\n",
              "      <td>6000.000000</td>\n",
              "      <td>1.000000</td>\n",
              "      <td>1.000000</td>\n",
              "      <td>1.000000</td>\n",
              "      <td>1.000000</td>\n",
              "      <td>0.000000</td>\n",
              "      <td>1.000000</td>\n",
              "    </tr>\n",
              "    <tr>\n",
              "      <th>25%</th>\n",
              "      <td>1.0</td>\n",
              "      <td>6000.000000</td>\n",
              "      <td>3.000000</td>\n",
              "      <td>3.000000</td>\n",
              "      <td>4.000000</td>\n",
              "      <td>1.000000</td>\n",
              "      <td>0.000000</td>\n",
              "      <td>4.000000</td>\n",
              "    </tr>\n",
              "    <tr>\n",
              "      <th>50%</th>\n",
              "      <td>1.0</td>\n",
              "      <td>7500.000000</td>\n",
              "      <td>4.000000</td>\n",
              "      <td>4.000000</td>\n",
              "      <td>7.000000</td>\n",
              "      <td>2.000000</td>\n",
              "      <td>0.000000</td>\n",
              "      <td>7.000000</td>\n",
              "    </tr>\n",
              "    <tr>\n",
              "      <th>75%</th>\n",
              "      <td>1.0</td>\n",
              "      <td>10500.000000</td>\n",
              "      <td>4.666667</td>\n",
              "      <td>4.500000</td>\n",
              "      <td>8.000000</td>\n",
              "      <td>2.000000</td>\n",
              "      <td>1.000000</td>\n",
              "      <td>11.000000</td>\n",
              "    </tr>\n",
              "    <tr>\n",
              "      <th>max</th>\n",
              "      <td>1.0</td>\n",
              "      <td>10500.000000</td>\n",
              "      <td>9.000000</td>\n",
              "      <td>9.000000</td>\n",
              "      <td>13.000000</td>\n",
              "      <td>8.000000</td>\n",
              "      <td>1.000000</td>\n",
              "      <td>23.000000</td>\n",
              "    </tr>\n",
              "  </tbody>\n",
              "</table>\n",
              "</div>"
            ],
            "text/plain": [
              "       is_deleted         price         mean       median          max  \\\n",
              "count      1350.0   1350.000000  1350.000000  1350.000000  1350.000000   \n",
              "mean          1.0   8595.555556     3.865474     3.621852     6.461481   \n",
              "std           0.0   1949.163652     1.246385     1.270847     2.584021   \n",
              "min           1.0   6000.000000     1.000000     1.000000     1.000000   \n",
              "25%           1.0   6000.000000     3.000000     3.000000     4.000000   \n",
              "50%           1.0   7500.000000     4.000000     4.000000     7.000000   \n",
              "75%           1.0  10500.000000     4.666667     4.500000     8.000000   \n",
              "max           1.0  10500.000000     9.000000     9.000000    13.000000   \n",
              "\n",
              "               min  routine_flg  membership_period  \n",
              "count  1350.000000  1350.000000        1350.000000  \n",
              "mean      1.821481     0.456296           8.026667  \n",
              "std       0.976361     0.498271           5.033692  \n",
              "min       1.000000     0.000000           1.000000  \n",
              "25%       1.000000     0.000000           4.000000  \n",
              "50%       2.000000     0.000000           7.000000  \n",
              "75%       2.000000     1.000000          11.000000  \n",
              "max       8.000000     1.000000          23.000000  "
            ]
          },
          "execution_count": 28,
          "metadata": {},
          "output_type": "execute_result"
        }
      ],
      "source": [
        "customer_end = customer_join.loc[customer_join[\"is_deleted\"]==1]\n",
        "customer_end.describe()"
      ]
    },
    {
      "cell_type": "code",
      "execution_count": null,
      "metadata": {
        "id": "2VRNKCIKWZRS",
        "outputId": "0e75153e-751f-4dae-9136-46df45f563bf"
      },
      "outputs": [
        {
          "data": {
            "text/html": [
              "<div>\n",
              "<style scoped>\n",
              "    .dataframe tbody tr th:only-of-type {\n",
              "        vertical-align: middle;\n",
              "    }\n",
              "\n",
              "    .dataframe tbody tr th {\n",
              "        vertical-align: top;\n",
              "    }\n",
              "\n",
              "    .dataframe thead th {\n",
              "        text-align: right;\n",
              "    }\n",
              "</style>\n",
              "<table border=\"1\" class=\"dataframe\">\n",
              "  <thead>\n",
              "    <tr style=\"text-align: right;\">\n",
              "      <th></th>\n",
              "      <th>is_deleted</th>\n",
              "      <th>price</th>\n",
              "      <th>mean</th>\n",
              "      <th>median</th>\n",
              "      <th>max</th>\n",
              "      <th>min</th>\n",
              "      <th>routine_flg</th>\n",
              "      <th>membership_period</th>\n",
              "    </tr>\n",
              "  </thead>\n",
              "  <tbody>\n",
              "    <tr>\n",
              "      <th>count</th>\n",
              "      <td>2842.0</td>\n",
              "      <td>2842.000000</td>\n",
              "      <td>2842.000000</td>\n",
              "      <td>2842.000000</td>\n",
              "      <td>2842.000000</td>\n",
              "      <td>2842.000000</td>\n",
              "      <td>2842.000000</td>\n",
              "      <td>2842.000000</td>\n",
              "    </tr>\n",
              "    <tr>\n",
              "      <th>mean</th>\n",
              "      <td>0.0</td>\n",
              "      <td>8542.927516</td>\n",
              "      <td>6.030288</td>\n",
              "      <td>6.024279</td>\n",
              "      <td>8.471147</td>\n",
              "      <td>3.620690</td>\n",
              "      <td>0.984166</td>\n",
              "      <td>23.970443</td>\n",
              "    </tr>\n",
              "    <tr>\n",
              "      <th>std</th>\n",
              "      <td>0.0</td>\n",
              "      <td>1977.189779</td>\n",
              "      <td>1.553587</td>\n",
              "      <td>1.599765</td>\n",
              "      <td>1.571048</td>\n",
              "      <td>2.030488</td>\n",
              "      <td>0.124855</td>\n",
              "      <td>13.746761</td>\n",
              "    </tr>\n",
              "    <tr>\n",
              "      <th>min</th>\n",
              "      <td>0.0</td>\n",
              "      <td>6000.000000</td>\n",
              "      <td>3.166667</td>\n",
              "      <td>3.000000</td>\n",
              "      <td>5.000000</td>\n",
              "      <td>1.000000</td>\n",
              "      <td>0.000000</td>\n",
              "      <td>1.000000</td>\n",
              "    </tr>\n",
              "    <tr>\n",
              "      <th>25%</th>\n",
              "      <td>0.0</td>\n",
              "      <td>6000.000000</td>\n",
              "      <td>4.833333</td>\n",
              "      <td>5.000000</td>\n",
              "      <td>7.000000</td>\n",
              "      <td>2.000000</td>\n",
              "      <td>1.000000</td>\n",
              "      <td>12.000000</td>\n",
              "    </tr>\n",
              "    <tr>\n",
              "      <th>50%</th>\n",
              "      <td>0.0</td>\n",
              "      <td>7500.000000</td>\n",
              "      <td>5.583333</td>\n",
              "      <td>5.500000</td>\n",
              "      <td>8.000000</td>\n",
              "      <td>3.000000</td>\n",
              "      <td>1.000000</td>\n",
              "      <td>24.000000</td>\n",
              "    </tr>\n",
              "    <tr>\n",
              "      <th>75%</th>\n",
              "      <td>0.0</td>\n",
              "      <td>10500.000000</td>\n",
              "      <td>7.178030</td>\n",
              "      <td>7.000000</td>\n",
              "      <td>10.000000</td>\n",
              "      <td>5.000000</td>\n",
              "      <td>1.000000</td>\n",
              "      <td>35.000000</td>\n",
              "    </tr>\n",
              "    <tr>\n",
              "      <th>max</th>\n",
              "      <td>0.0</td>\n",
              "      <td>10500.000000</td>\n",
              "      <td>12.000000</td>\n",
              "      <td>12.000000</td>\n",
              "      <td>14.000000</td>\n",
              "      <td>12.000000</td>\n",
              "      <td>1.000000</td>\n",
              "      <td>47.000000</td>\n",
              "    </tr>\n",
              "  </tbody>\n",
              "</table>\n",
              "</div>"
            ],
            "text/plain": [
              "       is_deleted         price         mean       median          max  \\\n",
              "count      2842.0   2842.000000  2842.000000  2842.000000  2842.000000   \n",
              "mean          0.0   8542.927516     6.030288     6.024279     8.471147   \n",
              "std           0.0   1977.189779     1.553587     1.599765     1.571048   \n",
              "min           0.0   6000.000000     3.166667     3.000000     5.000000   \n",
              "25%           0.0   6000.000000     4.833333     5.000000     7.000000   \n",
              "50%           0.0   7500.000000     5.583333     5.500000     8.000000   \n",
              "75%           0.0  10500.000000     7.178030     7.000000    10.000000   \n",
              "max           0.0  10500.000000    12.000000    12.000000    14.000000   \n",
              "\n",
              "               min  routine_flg  membership_period  \n",
              "count  2842.000000  2842.000000        2842.000000  \n",
              "mean      3.620690     0.984166          23.970443  \n",
              "std       2.030488     0.124855          13.746761  \n",
              "min       1.000000     0.000000           1.000000  \n",
              "25%       2.000000     1.000000          12.000000  \n",
              "50%       3.000000     1.000000          24.000000  \n",
              "75%       5.000000     1.000000          35.000000  \n",
              "max      12.000000     1.000000          47.000000  "
            ]
          },
          "execution_count": 29,
          "metadata": {},
          "output_type": "execute_result"
        }
      ],
      "source": [
        "customer_stay = customer_join.loc[customer_join[\"is_deleted\"]==0]\n",
        "customer_stay.describe()"
      ]
    },
    {
      "cell_type": "code",
      "execution_count": null,
      "metadata": {
        "id": "2v6hUUM6WZRS"
      },
      "outputs": [],
      "source": [
        "customer_join.to_csv(\"customer_join.csv\", index=False) # データを保存しておく"
      ]
    },
    {
      "cell_type": "markdown",
      "source": [
        "## Section2\n",
        "* 標準化とは  \n",
        "標準化はデータセットのある系列について、平均が0、標準偏差が1になるようにデータセットを整えることです。標準化を行うことで特徴量の比率を揃えることが出来ます。\n",
        "このような処理を行うことを前処理とも呼びます。標準化を行うことで、例えば、cm,kgと単位がバラバラになっているデータでも同じような評価基準で評価することができるようになります。\n",
        "\n",
        "* クラスタリング  \n",
        "ここからは、機械学習の一つであるクラスタリングという教師無し学習を行っていきます。“このグループはここ！”のような正解（教師データ）を与えず、機械に自動で近しい属性を持つデータをグルーピングしてもらいます。例えば、クラスタリングでメールを自動的に振り分けて、迷惑メールや広告メールと、重要なメールを振り分けるために用いられることがあります。\n",
        "\n",
        "* トレーニングデータとテストデータの違い  \n",
        "モデルを用いた分析のために知っておかなければいけないことは様々ありますが、まず、トレーニングデータとテストデータの違いから始めます。トレーニングデータとは、モデルを自分が分析したいデータに合わせて最適化していくために使用するデータです。それに対して、テストデータというのは、トレーニングデータを使用して育成したモデルが理想的なものになっているかをテストするためのデータです。ただ、名前はそれぞれ違えど、自分が持っているデータセットをトレーニングデータとテストデータに分割するだけでOKなんです。（ただ、何割をトレーニングデータとテストデータで分けるかが難点です。）  \n",
        "今回はクラスタリングの中でもK-Means法という方法を用いていきます。\n",
        "\n",
        "* K-Means法 (2.1~2.5)  \n",
        "基本的には、以下の 3 つの手順でクラスタリングを行います。まず、各サンプルデータがどのクラスタ（グループ）に属するかをランダムで割り当てます。\n",
        " * 1.各クラスタ内において、重心点を計算によって求めます。\n",
        " * 2.各点から2で求めたクラスタの重心点との距離を求めます。各点はそれぞれ一番近かった重心点のクラスタに再度割り当てられます。\n",
        " * 3.このとき、すべての点が同じクラスタ内に割り当てられたら、処理は終了です。\n",
        " そうでなければ、2. ～ 3. を決められた回数繰り返し実行し、大きな変化がなくなるまで計算します。\n",
        "\n",
        "* 回帰 (2.6~2.10)  \n",
        "おおまかな流れとしては、以下の6つのステップになります。\n",
        " * 教師となる過去のデータを整える\n",
        " * 特徴となるデータを作成する\n",
        " * 予測モデルを作成する\n",
        " * データセットを学習用データと評価用データに分割する\n",
        " * 評価用データでモデルの精度を検証する\n",
        " * モデルを用いて未知のデータの予測を行う。"
      ],
      "metadata": {
        "id": "GvKvQnRmWgSH"
      }
    },
    {
      "cell_type": "markdown",
      "source": [
        "### 振り返ると...\n",
        "セクション1で、退会してしまうユーザーと継続しているユーザーの傾向の違いをざっくり把握できたかと思います\n",
        "\n",
        "**退会ユーザーの傾向**\n",
        "![退会ユーザーの傾向](https://drive.google.com/uc?id=1tYyZK4doUEbijeC_yNwlBV2fCGOXFiHn)\n",
        "\n",
        "**継続ユーザーの傾向**\n",
        "![継続ユーザーの傾向](https://drive.google.com/uc?id=12bKekg9kajVj7LC7ztH5YcegyOJeCvVV)\n",
        "\n",
        "退会ユーザーは継続ユーザーと比べて、月内の利用回数の平均値、中央値、最小値、最大値が低い傾向が把握できたし、\"routine_flag\"については退会ユーザーは0.45に対して継続ユーザーは0.98となっており、継続ユーザーは定期的に利用している、退会ユーザーはランダムに利用している、という傾向も把握できたと思います\n",
        "\n",
        "ここからは、さらに掘り下げていこうと思います\n",
        "\n",
        "customer_join.csvと、use_log.csvを用いていきます"
      ],
      "metadata": {
        "id": "1uMQ4Yf7z8xE"
      }
    },
    {
      "cell_type": "markdown",
      "metadata": {
        "id": "R3e8jf3OW1He"
      },
      "source": [
        "### 2.1：データを読み込んで確認する"
      ]
    },
    {
      "cell_type": "code",
      "execution_count": null,
      "metadata": {
        "id": "yqFxumLgW1He",
        "outputId": "0796def9-ff25-4ac0-a6f6-ccd27af35369"
      },
      "outputs": [
        {
          "data": {
            "text/plain": [
              "log_id         0\n",
              "customer_id    0\n",
              "usedate        0\n",
              "dtype: int64"
            ]
          },
          "execution_count": 2,
          "metadata": {},
          "output_type": "execute_result"
        }
      ],
      "source": [
        "import pandas as pd\n",
        "uselog = pd.read_csv('DATA/use_log.csv')\n",
        "uselog.isnull().sum()"
      ]
    },
    {
      "cell_type": "code",
      "execution_count": null,
      "metadata": {
        "id": "p2qJImdSW1Hg",
        "outputId": "63c1a553-a49e-4361-c5b2-9d85c51dee5d"
      },
      "outputs": [
        {
          "data": {
            "text/plain": [
              "customer_id             0\n",
              "name                    0\n",
              "class                   0\n",
              "gender                  0\n",
              "start_date              0\n",
              "end_date             2842\n",
              "campaign_id             0\n",
              "is_deleted              0\n",
              "class_name              0\n",
              "price                   0\n",
              "campaign_name           0\n",
              "mean                    0\n",
              "median                  0\n",
              "max                     0\n",
              "min                     0\n",
              "routine_flg             0\n",
              "calc_date               0\n",
              "membership_period       0\n",
              "dtype: int64"
            ]
          },
          "execution_count": 3,
          "metadata": {},
          "output_type": "execute_result"
        }
      ],
      "source": [
        "customer = pd.read_csv('DATA/customer_join.csv')\n",
        "customer.isnull().sum() # 一応、欠損がないかも見ておく"
      ]
    },
    {
      "cell_type": "markdown",
      "source": [
        "顧客データを、グループ化してみようと思います\n",
        "\n",
        "退会ユーザーと継続ユーザーという『くくり』はあるものの、退会ユーザー内部にはどういうグループがあるかもわからない、継続ユーザー内部にはどういうグループがあるかもわからない状況です\n",
        "\n",
        "まずは、利用履歴に基づいたグループ分けをしてみようと思いますが、\n",
        "ただし、前述の通り明確な正解がないため、教師なしの学習であるクラスタリングをやってみたいと思います\n"
      ],
      "metadata": {
        "id": "duYS8uNP5dZa"
      }
    },
    {
      "cell_type": "markdown",
      "metadata": {
        "id": "oqf3BGemW1Hg"
      },
      "source": [
        "### 2.2：クラスタリングで顧客をグループ化する"
      ]
    },
    {
      "cell_type": "code",
      "execution_count": null,
      "metadata": {
        "id": "9yrpJw3IW1Hh",
        "outputId": "ddf5d2fb-70d6-448c-deb8-d41a75a9ed67"
      },
      "outputs": [
        {
          "data": {
            "text/html": [
              "<div>\n",
              "<style scoped>\n",
              "    .dataframe tbody tr th:only-of-type {\n",
              "        vertical-align: middle;\n",
              "    }\n",
              "\n",
              "    .dataframe tbody tr th {\n",
              "        vertical-align: top;\n",
              "    }\n",
              "\n",
              "    .dataframe thead th {\n",
              "        text-align: right;\n",
              "    }\n",
              "</style>\n",
              "<table border=\"1\" class=\"dataframe\">\n",
              "  <thead>\n",
              "    <tr style=\"text-align: right;\">\n",
              "      <th></th>\n",
              "      <th>mean</th>\n",
              "      <th>median</th>\n",
              "      <th>max</th>\n",
              "      <th>min</th>\n",
              "      <th>membership_period</th>\n",
              "    </tr>\n",
              "  </thead>\n",
              "  <tbody>\n",
              "    <tr>\n",
              "      <th>0</th>\n",
              "      <td>4.833333</td>\n",
              "      <td>5.0</td>\n",
              "      <td>8</td>\n",
              "      <td>2</td>\n",
              "      <td>47</td>\n",
              "    </tr>\n",
              "    <tr>\n",
              "      <th>1</th>\n",
              "      <td>5.083333</td>\n",
              "      <td>5.0</td>\n",
              "      <td>7</td>\n",
              "      <td>3</td>\n",
              "      <td>47</td>\n",
              "    </tr>\n",
              "    <tr>\n",
              "      <th>2</th>\n",
              "      <td>4.583333</td>\n",
              "      <td>5.0</td>\n",
              "      <td>6</td>\n",
              "      <td>3</td>\n",
              "      <td>47</td>\n",
              "    </tr>\n",
              "    <tr>\n",
              "      <th>3</th>\n",
              "      <td>4.833333</td>\n",
              "      <td>4.5</td>\n",
              "      <td>7</td>\n",
              "      <td>2</td>\n",
              "      <td>47</td>\n",
              "    </tr>\n",
              "    <tr>\n",
              "      <th>4</th>\n",
              "      <td>3.916667</td>\n",
              "      <td>4.0</td>\n",
              "      <td>6</td>\n",
              "      <td>1</td>\n",
              "      <td>47</td>\n",
              "    </tr>\n",
              "  </tbody>\n",
              "</table>\n",
              "</div>"
            ],
            "text/plain": [
              "       mean  median  max  min  membership_period\n",
              "0  4.833333     5.0    8    2                 47\n",
              "1  5.083333     5.0    7    3                 47\n",
              "2  4.583333     5.0    6    3                 47\n",
              "3  4.833333     4.5    7    2                 47\n",
              "4  3.916667     4.0    6    1                 47"
            ]
          },
          "execution_count": 4,
          "metadata": {},
          "output_type": "execute_result"
        }
      ],
      "source": [
        "customer_clustering = customer[[\"mean\", \"median\",\"max\", \"min\", \"membership_period\"]] # 使うカラムを限定\n",
        "customer_clustering.head()"
      ]
    },
    {
      "cell_type": "markdown",
      "source": [
        "K-means法を利用して、変数間の距離をベースにグループ分けをしてみます"
      ],
      "metadata": {
        "id": "pPlZBatp6mI4"
      }
    },
    {
      "cell_type": "code",
      "execution_count": null,
      "metadata": {
        "id": "tkewsvnPW1Hi",
        "outputId": "e0c0a305-08e6-4261-cd53-10887abedadf"
      },
      "outputs": [
        {
          "name": "stdout",
          "output_type": "stream",
          "text": [
            "[1 2 3 0]\n"
          ]
        },
        {
          "data": {
            "text/html": [
              "<div>\n",
              "<style scoped>\n",
              "    .dataframe tbody tr th:only-of-type {\n",
              "        vertical-align: middle;\n",
              "    }\n",
              "\n",
              "    .dataframe tbody tr th {\n",
              "        vertical-align: top;\n",
              "    }\n",
              "\n",
              "    .dataframe thead th {\n",
              "        text-align: right;\n",
              "    }\n",
              "</style>\n",
              "<table border=\"1\" class=\"dataframe\">\n",
              "  <thead>\n",
              "    <tr style=\"text-align: right;\">\n",
              "      <th></th>\n",
              "      <th>mean</th>\n",
              "      <th>median</th>\n",
              "      <th>max</th>\n",
              "      <th>min</th>\n",
              "      <th>membership_period</th>\n",
              "      <th>cluster</th>\n",
              "    </tr>\n",
              "  </thead>\n",
              "  <tbody>\n",
              "    <tr>\n",
              "      <th>0</th>\n",
              "      <td>4.833333</td>\n",
              "      <td>5.0</td>\n",
              "      <td>8</td>\n",
              "      <td>2</td>\n",
              "      <td>47</td>\n",
              "      <td>1</td>\n",
              "    </tr>\n",
              "    <tr>\n",
              "      <th>1</th>\n",
              "      <td>5.083333</td>\n",
              "      <td>5.0</td>\n",
              "      <td>7</td>\n",
              "      <td>3</td>\n",
              "      <td>47</td>\n",
              "      <td>1</td>\n",
              "    </tr>\n",
              "    <tr>\n",
              "      <th>2</th>\n",
              "      <td>4.583333</td>\n",
              "      <td>5.0</td>\n",
              "      <td>6</td>\n",
              "      <td>3</td>\n",
              "      <td>47</td>\n",
              "      <td>1</td>\n",
              "    </tr>\n",
              "    <tr>\n",
              "      <th>3</th>\n",
              "      <td>4.833333</td>\n",
              "      <td>4.5</td>\n",
              "      <td>7</td>\n",
              "      <td>2</td>\n",
              "      <td>47</td>\n",
              "      <td>1</td>\n",
              "    </tr>\n",
              "    <tr>\n",
              "      <th>4</th>\n",
              "      <td>3.916667</td>\n",
              "      <td>4.0</td>\n",
              "      <td>6</td>\n",
              "      <td>1</td>\n",
              "      <td>47</td>\n",
              "      <td>1</td>\n",
              "    </tr>\n",
              "  </tbody>\n",
              "</table>\n",
              "</div>"
            ],
            "text/plain": [
              "       mean  median  max  min  membership_period  cluster\n",
              "0  4.833333     5.0    8    2                 47        1\n",
              "1  5.083333     5.0    7    3                 47        1\n",
              "2  4.583333     5.0    6    3                 47        1\n",
              "3  4.833333     4.5    7    2                 47        1\n",
              "4  3.916667     4.0    6    1                 47        1"
            ]
          },
          "execution_count": 5,
          "metadata": {},
          "output_type": "execute_result"
        }
      ],
      "source": [
        "from sklearn.cluster import KMeans # Scikit Learnというライブラリに、K-meansを扱えるKmeansクラスメソッドがあります\n",
        "from sklearn.preprocessing import StandardScaler # 標準化のためのクラスメソッド\n",
        "\n",
        "sc = StandardScaler() # 標準化するためにStandardScalerオブジェクトを用意する\n",
        "customer_clustering_sc = sc.fit_transform(customer_clustering) # customer_clustering内のデータを標準化する\n",
        "\n",
        "kmeans = KMeans(n_clusters=4, random_state=0)　# あらかじめグループしたい数（クラスター数）を決めますが、ここではとりあえず４としておきます\n",
        "clusters = kmeans.fit(customer_clustering_sc)　# K-meansの実行\n",
        "\n",
        "customer_clustering[\"cluster\"] = clusters.labels_ # 学習が終わると、ラベル(今回は４つのグループなので、0, 1, 2, 3)が付与される \n",
        "print(customer_clustering[\"cluster\"].unique())\n",
        "customer_clustering.head()"
      ]
    },
    {
      "cell_type": "markdown",
      "metadata": {
        "id": "atC4uYqHW1Hi"
      },
      "source": [
        "### 2.3：クラスタリング結果を分析する"
      ]
    },
    {
      "cell_type": "code",
      "execution_count": null,
      "metadata": {
        "id": "rc99ElT2W1Hj",
        "outputId": "386cc898-6ca7-4983-b93a-c21c512d5546"
      },
      "outputs": [
        {
          "data": {
            "text/html": [
              "<div>\n",
              "<style scoped>\n",
              "    .dataframe tbody tr th:only-of-type {\n",
              "        vertical-align: middle;\n",
              "    }\n",
              "\n",
              "    .dataframe tbody tr th {\n",
              "        vertical-align: top;\n",
              "    }\n",
              "\n",
              "    .dataframe thead th {\n",
              "        text-align: right;\n",
              "    }\n",
              "</style>\n",
              "<table border=\"1\" class=\"dataframe\">\n",
              "  <thead>\n",
              "    <tr style=\"text-align: right;\">\n",
              "      <th></th>\n",
              "      <th>月内平均値</th>\n",
              "      <th>月内中央値</th>\n",
              "      <th>月内最大値</th>\n",
              "      <th>月内最小値</th>\n",
              "      <th>会員期間</th>\n",
              "    </tr>\n",
              "    <tr>\n",
              "      <th>cluster</th>\n",
              "      <th></th>\n",
              "      <th></th>\n",
              "      <th></th>\n",
              "      <th></th>\n",
              "      <th></th>\n",
              "    </tr>\n",
              "  </thead>\n",
              "  <tbody>\n",
              "    <tr>\n",
              "      <th>0</th>\n",
              "      <td>841</td>\n",
              "      <td>841</td>\n",
              "      <td>841</td>\n",
              "      <td>841</td>\n",
              "      <td>841</td>\n",
              "    </tr>\n",
              "    <tr>\n",
              "      <th>1</th>\n",
              "      <td>1248</td>\n",
              "      <td>1248</td>\n",
              "      <td>1248</td>\n",
              "      <td>1248</td>\n",
              "      <td>1248</td>\n",
              "    </tr>\n",
              "    <tr>\n",
              "      <th>2</th>\n",
              "      <td>771</td>\n",
              "      <td>771</td>\n",
              "      <td>771</td>\n",
              "      <td>771</td>\n",
              "      <td>771</td>\n",
              "    </tr>\n",
              "    <tr>\n",
              "      <th>3</th>\n",
              "      <td>1332</td>\n",
              "      <td>1332</td>\n",
              "      <td>1332</td>\n",
              "      <td>1332</td>\n",
              "      <td>1332</td>\n",
              "    </tr>\n",
              "  </tbody>\n",
              "</table>\n",
              "</div>"
            ],
            "text/plain": [
              "         月内平均値  月内中央値  月内最大値  月内最小値  会員期間\n",
              "cluster                                  \n",
              "0          841    841    841    841   841\n",
              "1         1248   1248   1248   1248  1248\n",
              "2          771    771    771    771   771\n",
              "3         1332   1332   1332   1332  1332"
            ]
          },
          "execution_count": 6,
          "metadata": {},
          "output_type": "execute_result"
        }
      ],
      "source": [
        "# 分けられたグループごとのユーザー数を確認してみる\n",
        "customer_clustering.columns = [\"月内平均値\",\"月内中央値\", \"月内最大値\", \"月内最小値\",\"会員期間\", \"cluster\"]\n",
        "customer_clustering.groupby(\"cluster\").count()"
      ]
    },
    {
      "cell_type": "code",
      "execution_count": null,
      "metadata": {
        "id": "O2obyAcAW1Hj",
        "outputId": "d5ed7a24-4a48-4fdd-d92d-ceb9bff26556"
      },
      "outputs": [
        {
          "data": {
            "text/html": [
              "<div>\n",
              "<style scoped>\n",
              "    .dataframe tbody tr th:only-of-type {\n",
              "        vertical-align: middle;\n",
              "    }\n",
              "\n",
              "    .dataframe tbody tr th {\n",
              "        vertical-align: top;\n",
              "    }\n",
              "\n",
              "    .dataframe thead th {\n",
              "        text-align: right;\n",
              "    }\n",
              "</style>\n",
              "<table border=\"1\" class=\"dataframe\">\n",
              "  <thead>\n",
              "    <tr style=\"text-align: right;\">\n",
              "      <th></th>\n",
              "      <th>月内平均値</th>\n",
              "      <th>月内中央値</th>\n",
              "      <th>月内最大値</th>\n",
              "      <th>月内最小値</th>\n",
              "      <th>会員期間</th>\n",
              "    </tr>\n",
              "    <tr>\n",
              "      <th>cluster</th>\n",
              "      <th></th>\n",
              "      <th></th>\n",
              "      <th></th>\n",
              "      <th></th>\n",
              "      <th></th>\n",
              "    </tr>\n",
              "  </thead>\n",
              "  <tbody>\n",
              "    <tr>\n",
              "      <th>0</th>\n",
              "      <td>8.061076</td>\n",
              "      <td>8.046373</td>\n",
              "      <td>10.015458</td>\n",
              "      <td>6.171225</td>\n",
              "      <td>7.027348</td>\n",
              "    </tr>\n",
              "    <tr>\n",
              "      <th>1</th>\n",
              "      <td>4.677436</td>\n",
              "      <td>4.671074</td>\n",
              "      <td>7.233173</td>\n",
              "      <td>2.153045</td>\n",
              "      <td>36.925481</td>\n",
              "    </tr>\n",
              "    <tr>\n",
              "      <th>2</th>\n",
              "      <td>3.065504</td>\n",
              "      <td>2.900130</td>\n",
              "      <td>4.783398</td>\n",
              "      <td>1.649805</td>\n",
              "      <td>9.276265</td>\n",
              "    </tr>\n",
              "    <tr>\n",
              "      <th>3</th>\n",
              "      <td>5.537658</td>\n",
              "      <td>5.388889</td>\n",
              "      <td>8.753754</td>\n",
              "      <td>2.702703</td>\n",
              "      <td>14.876126</td>\n",
              "    </tr>\n",
              "  </tbody>\n",
              "</table>\n",
              "</div>"
            ],
            "text/plain": [
              "            月内平均値     月内中央値      月内最大値     月内最小値       会員期間\n",
              "cluster                                                    \n",
              "0        8.061076  8.046373  10.015458  6.171225   7.027348\n",
              "1        4.677436  4.671074   7.233173  2.153045  36.925481\n",
              "2        3.065504  2.900130   4.783398  1.649805   9.276265\n",
              "3        5.537658  5.388889   8.753754  2.702703  14.876126"
            ]
          },
          "execution_count": 7,
          "metadata": {},
          "output_type": "execute_result"
        }
      ],
      "source": [
        "# グループごとのユーザー傾向を確認してみる\n",
        "customer_clustering.groupby(\"cluster\").mean()"
      ]
    },
    {
      "cell_type": "markdown",
      "source": [
        "グループ0の傾向は？\n",
        "\n",
        "グループ1の傾向は？\n",
        "\n",
        "グループ2の傾向は？\n",
        "\n",
        "グループ3の傾向は？"
      ],
      "metadata": {
        "id": "IeQnC8Wp8ae6"
      }
    },
    {
      "cell_type": "markdown",
      "metadata": {
        "id": "t3m60HxWW1Hk"
      },
      "source": [
        "### 2.4：クラスタリング結果を可視化する"
      ]
    },
    {
      "cell_type": "code",
      "execution_count": null,
      "metadata": {
        "id": "2NlL3CRYW1Hk"
      },
      "outputs": [],
      "source": [
        "# 次元削減を行うことで、５つの変数を２次元データにすることでグラフとして可視化することができる\n",
        "from sklearn.decomposition import PCA\n",
        "X = customer_clustering_sc\n",
        "pca = PCA(n_components=2)\n",
        "pca.fit(X)\n",
        "x_pca = pca.transform(X)\n",
        "pca_df = pd.DataFrame(x_pca)\n",
        "pca_df[\"cluster\"] = customer_clustering[\"cluster\"]"
      ]
    },
    {
      "cell_type": "code",
      "execution_count": null,
      "metadata": {
        "id": "UhJ3y45MW1Hk",
        "outputId": "dfa98d5a-89e8-4da1-c7bd-852f0e7d1160"
      },
      "outputs": [
        {
          "data": {
            "image/png": "[encoded data removed]",
            "text/plain": [
              "<matplotlib.figure.Figure at 0x1a11864208>"
            ]
          },
          "metadata": {},
          "output_type": "display_data"
        }
      ],
      "source": [
        "import matplotlib.pyplot as plt\n",
        "%matplotlib inline\n",
        "for i in customer_clustering[\"cluster\"].unique():\n",
        "    tmp = pca_df.loc[pca_df[\"cluster\"]==i]\n",
        "    plt.scatter(tmp[0], tmp[1])"
      ]
    },
    {
      "cell_type": "markdown",
      "metadata": {
        "id": "pwEMOToYW1Hl"
      },
      "source": [
        "### 2.5：クラスタリング結果をもとに退会顧客の傾向を把握する"
      ]
    },
    {
      "cell_type": "code",
      "execution_count": null,
      "metadata": {
        "id": "cTMaW1JWW1Hl",
        "outputId": "0da50674-f721-4128-bc0e-6072e7e778dc"
      },
      "outputs": [
        {
          "data": {
            "text/html": [
              "<div>\n",
              "<style scoped>\n",
              "    .dataframe tbody tr th:only-of-type {\n",
              "        vertical-align: middle;\n",
              "    }\n",
              "\n",
              "    .dataframe tbody tr th {\n",
              "        vertical-align: top;\n",
              "    }\n",
              "\n",
              "    .dataframe thead th {\n",
              "        text-align: right;\n",
              "    }\n",
              "</style>\n",
              "<table border=\"1\" class=\"dataframe\">\n",
              "  <thead>\n",
              "    <tr style=\"text-align: right;\">\n",
              "      <th></th>\n",
              "      <th>cluster</th>\n",
              "      <th>is_deleted</th>\n",
              "      <th>customer_id</th>\n",
              "    </tr>\n",
              "  </thead>\n",
              "  <tbody>\n",
              "    <tr>\n",
              "      <th>0</th>\n",
              "      <td>0</td>\n",
              "      <td>0</td>\n",
              "      <td>822</td>\n",
              "    </tr>\n",
              "    <tr>\n",
              "      <th>1</th>\n",
              "      <td>0</td>\n",
              "      <td>1</td>\n",
              "      <td>19</td>\n",
              "    </tr>\n",
              "    <tr>\n",
              "      <th>2</th>\n",
              "      <td>1</td>\n",
              "      <td>0</td>\n",
              "      <td>1230</td>\n",
              "    </tr>\n",
              "    <tr>\n",
              "      <th>3</th>\n",
              "      <td>1</td>\n",
              "      <td>1</td>\n",
              "      <td>18</td>\n",
              "    </tr>\n",
              "    <tr>\n",
              "      <th>4</th>\n",
              "      <td>2</td>\n",
              "      <td>1</td>\n",
              "      <td>771</td>\n",
              "    </tr>\n",
              "    <tr>\n",
              "      <th>5</th>\n",
              "      <td>3</td>\n",
              "      <td>0</td>\n",
              "      <td>790</td>\n",
              "    </tr>\n",
              "    <tr>\n",
              "      <th>6</th>\n",
              "      <td>3</td>\n",
              "      <td>1</td>\n",
              "      <td>542</td>\n",
              "    </tr>\n",
              "  </tbody>\n",
              "</table>\n",
              "</div>"
            ],
            "text/plain": [
              "   cluster  is_deleted  customer_id\n",
              "0        0           0          822\n",
              "1        0           1           19\n",
              "2        1           0         1230\n",
              "3        1           1           18\n",
              "4        2           1          771\n",
              "5        3           0          790\n",
              "6        3           1          542"
            ]
          },
          "execution_count": 10,
          "metadata": {},
          "output_type": "execute_result"
        }
      ],
      "source": [
        "# グループごとの退会ユーザー、継続ユーザーを集計してみる\n",
        "customer_clustering = pd.concat([customer_clustering, customer], axis=1)\n",
        "customer_clustering.groupby([\"cluster\",\"is_deleted\"],as_index=False).count()[[\"cluster\",\"is_deleted\",\"customer_id\"]]"
      ]
    },
    {
      "cell_type": "code",
      "execution_count": null,
      "metadata": {
        "id": "Y6ZBz5yCW1Hl",
        "outputId": "505edda4-b3e7-4b1f-fcf8-1de906782baa"
      },
      "outputs": [
        {
          "data": {
            "text/html": [
              "<div>\n",
              "<style scoped>\n",
              "    .dataframe tbody tr th:only-of-type {\n",
              "        vertical-align: middle;\n",
              "    }\n",
              "\n",
              "    .dataframe tbody tr th {\n",
              "        vertical-align: top;\n",
              "    }\n",
              "\n",
              "    .dataframe thead th {\n",
              "        text-align: right;\n",
              "    }\n",
              "</style>\n",
              "<table border=\"1\" class=\"dataframe\">\n",
              "  <thead>\n",
              "    <tr style=\"text-align: right;\">\n",
              "      <th></th>\n",
              "      <th>cluster</th>\n",
              "      <th>routine_flg</th>\n",
              "      <th>customer_id</th>\n",
              "    </tr>\n",
              "  </thead>\n",
              "  <tbody>\n",
              "    <tr>\n",
              "      <th>0</th>\n",
              "      <td>0</td>\n",
              "      <td>0</td>\n",
              "      <td>52</td>\n",
              "    </tr>\n",
              "    <tr>\n",
              "      <th>1</th>\n",
              "      <td>0</td>\n",
              "      <td>1</td>\n",
              "      <td>789</td>\n",
              "    </tr>\n",
              "    <tr>\n",
              "      <th>2</th>\n",
              "      <td>1</td>\n",
              "      <td>0</td>\n",
              "      <td>2</td>\n",
              "    </tr>\n",
              "    <tr>\n",
              "      <th>3</th>\n",
              "      <td>1</td>\n",
              "      <td>1</td>\n",
              "      <td>1246</td>\n",
              "    </tr>\n",
              "    <tr>\n",
              "      <th>4</th>\n",
              "      <td>2</td>\n",
              "      <td>0</td>\n",
              "      <td>499</td>\n",
              "    </tr>\n",
              "    <tr>\n",
              "      <th>5</th>\n",
              "      <td>2</td>\n",
              "      <td>1</td>\n",
              "      <td>272</td>\n",
              "    </tr>\n",
              "    <tr>\n",
              "      <th>6</th>\n",
              "      <td>3</td>\n",
              "      <td>0</td>\n",
              "      <td>226</td>\n",
              "    </tr>\n",
              "    <tr>\n",
              "      <th>7</th>\n",
              "      <td>3</td>\n",
              "      <td>1</td>\n",
              "      <td>1106</td>\n",
              "    </tr>\n",
              "  </tbody>\n",
              "</table>\n",
              "</div>"
            ],
            "text/plain": [
              "   cluster  routine_flg  customer_id\n",
              "0        0            0           52\n",
              "1        0            1          789\n",
              "2        1            0            2\n",
              "3        1            1         1246\n",
              "4        2            0          499\n",
              "5        2            1          272\n",
              "6        3            0          226\n",
              "7        3            1         1106"
            ]
          },
          "execution_count": 11,
          "metadata": {},
          "output_type": "execute_result"
        }
      ],
      "source": [
        "# \"cluster\",\"routine_flg\"でGROUPBYしてみる\n",
        "customer_clustering.groupby([\"cluster\",\"routine_flg\"],as_index=False).count()[[\"cluster\",\"routine_flg\",\"customer_id\"]]"
      ]
    },
    {
      "cell_type": "markdown",
      "source": [
        "定期利用している継続ユーザーは、グループ0,1に多く存在していることが把握できます。\n",
        "\n",
        "直感的にもなんとなく見えていた傾向が、より具体的に確認することができました"
      ],
      "metadata": {
        "id": "dDusvijh-KdB"
      }
    },
    {
      "cell_type": "markdown",
      "metadata": {
        "id": "hxUIh5_XW1Hm"
      },
      "source": [
        "### 2.6：翌月の利用回数予測を行うためのデータ準備する\n",
        "2018年11月の利用回数を予測してみようと思います。予測なので、当然２０１８年１１月以降のデータは使うことができないので、２０１８年５月〜１０月の6ヶ月のデータを使って、教師あり学習で予測モデルを作っていきます。"
      ]
    },
    {
      "cell_type": "code",
      "execution_count": null,
      "metadata": {
        "id": "SBN0jrNUW1Hm",
        "outputId": "2d47d6ec-6afc-4958-ee9d-e06dbeb94471"
      },
      "outputs": [
        {
          "data": {
            "text/html": [
              "<div>\n",
              "<style scoped>\n",
              "    .dataframe tbody tr th:only-of-type {\n",
              "        vertical-align: middle;\n",
              "    }\n",
              "\n",
              "    .dataframe tbody tr th {\n",
              "        vertical-align: top;\n",
              "    }\n",
              "\n",
              "    .dataframe thead th {\n",
              "        text-align: right;\n",
              "    }\n",
              "</style>\n",
              "<table border=\"1\" class=\"dataframe\">\n",
              "  <thead>\n",
              "    <tr style=\"text-align: right;\">\n",
              "      <th></th>\n",
              "      <th>年月</th>\n",
              "      <th>customer_id</th>\n",
              "      <th>count</th>\n",
              "    </tr>\n",
              "  </thead>\n",
              "  <tbody>\n",
              "    <tr>\n",
              "      <th>0</th>\n",
              "      <td>201804</td>\n",
              "      <td>AS002855</td>\n",
              "      <td>4</td>\n",
              "    </tr>\n",
              "    <tr>\n",
              "      <th>1</th>\n",
              "      <td>201804</td>\n",
              "      <td>AS009013</td>\n",
              "      <td>2</td>\n",
              "    </tr>\n",
              "    <tr>\n",
              "      <th>2</th>\n",
              "      <td>201804</td>\n",
              "      <td>AS009373</td>\n",
              "      <td>3</td>\n",
              "    </tr>\n",
              "    <tr>\n",
              "      <th>3</th>\n",
              "      <td>201804</td>\n",
              "      <td>AS015315</td>\n",
              "      <td>6</td>\n",
              "    </tr>\n",
              "    <tr>\n",
              "      <th>4</th>\n",
              "      <td>201804</td>\n",
              "      <td>AS015739</td>\n",
              "      <td>7</td>\n",
              "    </tr>\n",
              "  </tbody>\n",
              "</table>\n",
              "</div>"
            ],
            "text/plain": [
              "       年月 customer_id  count\n",
              "0  201804    AS002855      4\n",
              "1  201804    AS009013      2\n",
              "2  201804    AS009373      3\n",
              "3  201804    AS015315      6\n",
              "4  201804    AS015739      7"
            ]
          },
          "execution_count": 12,
          "metadata": {},
          "output_type": "execute_result"
        }
      ],
      "source": [
        "# user_logから、年月と顧客ごとの集計を行います\n",
        "uselog[\"usedate\"] = pd.to_datetime(uselog[\"usedate\"])\n",
        "uselog[\"年月\"] = uselog[\"usedate\"].dt.strftime(\"%Y%m\")\n",
        "uselog_months = uselog.groupby([\"年月\",\"customer_id\"],as_index=False).count()\n",
        "uselog_months.rename(columns={\"log_id\":\"count\"}, inplace=True)\n",
        "del uselog_months[\"usedate\"]\n",
        "uselog_months.head()"
      ]
    },
    {
      "cell_type": "code",
      "execution_count": null,
      "metadata": {
        "id": "PsxgPsFMW1Hm",
        "outputId": "2a6bb199-528a-461a-99d5-84fb421e06e7"
      },
      "outputs": [
        {
          "data": {
            "text/html": [
              "<div>\n",
              "<style scoped>\n",
              "    .dataframe tbody tr th:only-of-type {\n",
              "        vertical-align: middle;\n",
              "    }\n",
              "\n",
              "    .dataframe tbody tr th {\n",
              "        vertical-align: top;\n",
              "    }\n",
              "\n",
              "    .dataframe thead th {\n",
              "        text-align: right;\n",
              "    }\n",
              "</style>\n",
              "<table border=\"1\" class=\"dataframe\">\n",
              "  <thead>\n",
              "    <tr style=\"text-align: right;\">\n",
              "      <th></th>\n",
              "      <th>年月</th>\n",
              "      <th>customer_id</th>\n",
              "      <th>count_pred</th>\n",
              "      <th>count_0</th>\n",
              "      <th>count_1</th>\n",
              "      <th>count_2</th>\n",
              "      <th>count_3</th>\n",
              "      <th>count_4</th>\n",
              "      <th>count_5</th>\n",
              "    </tr>\n",
              "  </thead>\n",
              "  <tbody>\n",
              "    <tr>\n",
              "      <th>0</th>\n",
              "      <td>201810</td>\n",
              "      <td>AS002855</td>\n",
              "      <td>3</td>\n",
              "      <td>7.0</td>\n",
              "      <td>3.0</td>\n",
              "      <td>5.0</td>\n",
              "      <td>5.0</td>\n",
              "      <td>5.0</td>\n",
              "      <td>4.0</td>\n",
              "    </tr>\n",
              "    <tr>\n",
              "      <th>1</th>\n",
              "      <td>201810</td>\n",
              "      <td>AS008805</td>\n",
              "      <td>2</td>\n",
              "      <td>2.0</td>\n",
              "      <td>5.0</td>\n",
              "      <td>7.0</td>\n",
              "      <td>8.0</td>\n",
              "      <td>NaN</td>\n",
              "      <td>NaN</td>\n",
              "    </tr>\n",
              "    <tr>\n",
              "      <th>2</th>\n",
              "      <td>201810</td>\n",
              "      <td>AS009373</td>\n",
              "      <td>5</td>\n",
              "      <td>6.0</td>\n",
              "      <td>6.0</td>\n",
              "      <td>7.0</td>\n",
              "      <td>4.0</td>\n",
              "      <td>4.0</td>\n",
              "      <td>3.0</td>\n",
              "    </tr>\n",
              "    <tr>\n",
              "      <th>3</th>\n",
              "      <td>201810</td>\n",
              "      <td>AS015233</td>\n",
              "      <td>7</td>\n",
              "      <td>9.0</td>\n",
              "      <td>11.0</td>\n",
              "      <td>5.0</td>\n",
              "      <td>7.0</td>\n",
              "      <td>7.0</td>\n",
              "      <td>NaN</td>\n",
              "    </tr>\n",
              "    <tr>\n",
              "      <th>4</th>\n",
              "      <td>201810</td>\n",
              "      <td>AS015315</td>\n",
              "      <td>4</td>\n",
              "      <td>7.0</td>\n",
              "      <td>3.0</td>\n",
              "      <td>6.0</td>\n",
              "      <td>3.0</td>\n",
              "      <td>3.0</td>\n",
              "      <td>6.0</td>\n",
              "    </tr>\n",
              "  </tbody>\n",
              "</table>\n",
              "</div>"
            ],
            "text/plain": [
              "       年月 customer_id  count_pred  count_0  count_1  count_2  count_3  \\\n",
              "0  201810    AS002855           3      7.0      3.0      5.0      5.0   \n",
              "1  201810    AS008805           2      2.0      5.0      7.0      8.0   \n",
              "2  201810    AS009373           5      6.0      6.0      7.0      4.0   \n",
              "3  201810    AS015233           7      9.0     11.0      5.0      7.0   \n",
              "4  201810    AS015315           4      7.0      3.0      6.0      3.0   \n",
              "\n",
              "   count_4  count_5  \n",
              "0      5.0      4.0  \n",
              "1      NaN      NaN  \n",
              "2      4.0      3.0  \n",
              "3      7.0      NaN  \n",
              "4      3.0      6.0  "
            ]
          },
          "execution_count": 13,
          "metadata": {},
          "output_type": "execute_result"
        }
      ],
      "source": [
        "# 対象となるデータの整形\n",
        "year_months = list(uselog_months[\"年月\"].unique()) # 対象となる年月データをリストに格納\n",
        "predict_data = pd.DataFrame()\n",
        "for i in range(6, len(year_months)): # 2018年5月から2018年10月までのデータを作成します\n",
        "    tmp = uselog_months.loc[uselog_months[\"年月\"]==year_months[i]] # ユーザーごと過去6ヶ月分のデータを情報として付与する\n",
        "    tmp.rename(columns={\"count\":\"count_pred\"}, inplace=True)\n",
        "    for j in range(1, 7): # count_0から当月、そこから過去6ヶ月分の利用回数を1ヶ月ごとカウントする\n",
        "        tmp_before = uselog_months.loc[uselog_months[\"年月\"]==year_months[i-j]]\n",
        "        del tmp_before[\"年月\"]\n",
        "        tmp_before.rename(columns={\"count\":\"count_{}\".format(j-1)}, inplace=True)\n",
        "        tmp = pd.merge(tmp, tmp_before, on=\"customer_id\", how=\"left\") #　データを格納\n",
        "    predict_data = pd.concat([predict_data, tmp], ignore_index=True)\n",
        "predict_data.head()"
      ]
    },
    {
      "cell_type": "code",
      "execution_count": null,
      "metadata": {
        "id": "r_gqKzEvW1Hn",
        "outputId": "6fea676e-6115-46fe-a81c-ee894a1a7c89"
      },
      "outputs": [
        {
          "data": {
            "text/html": [
              "<div>\n",
              "<style scoped>\n",
              "    .dataframe tbody tr th:only-of-type {\n",
              "        vertical-align: middle;\n",
              "    }\n",
              "\n",
              "    .dataframe tbody tr th {\n",
              "        vertical-align: top;\n",
              "    }\n",
              "\n",
              "    .dataframe thead th {\n",
              "        text-align: right;\n",
              "    }\n",
              "</style>\n",
              "<table border=\"1\" class=\"dataframe\">\n",
              "  <thead>\n",
              "    <tr style=\"text-align: right;\">\n",
              "      <th></th>\n",
              "      <th>年月</th>\n",
              "      <th>customer_id</th>\n",
              "      <th>count_pred</th>\n",
              "      <th>count_0</th>\n",
              "      <th>count_1</th>\n",
              "      <th>count_2</th>\n",
              "      <th>count_3</th>\n",
              "      <th>count_4</th>\n",
              "      <th>count_5</th>\n",
              "    </tr>\n",
              "  </thead>\n",
              "  <tbody>\n",
              "    <tr>\n",
              "      <th>0</th>\n",
              "      <td>201810</td>\n",
              "      <td>AS002855</td>\n",
              "      <td>3</td>\n",
              "      <td>7.0</td>\n",
              "      <td>3.0</td>\n",
              "      <td>5.0</td>\n",
              "      <td>5.0</td>\n",
              "      <td>5.0</td>\n",
              "      <td>4.0</td>\n",
              "    </tr>\n",
              "    <tr>\n",
              "      <th>1</th>\n",
              "      <td>201810</td>\n",
              "      <td>AS009373</td>\n",
              "      <td>5</td>\n",
              "      <td>6.0</td>\n",
              "      <td>6.0</td>\n",
              "      <td>7.0</td>\n",
              "      <td>4.0</td>\n",
              "      <td>4.0</td>\n",
              "      <td>3.0</td>\n",
              "    </tr>\n",
              "    <tr>\n",
              "      <th>2</th>\n",
              "      <td>201810</td>\n",
              "      <td>AS015315</td>\n",
              "      <td>4</td>\n",
              "      <td>7.0</td>\n",
              "      <td>3.0</td>\n",
              "      <td>6.0</td>\n",
              "      <td>3.0</td>\n",
              "      <td>3.0</td>\n",
              "      <td>6.0</td>\n",
              "    </tr>\n",
              "    <tr>\n",
              "      <th>3</th>\n",
              "      <td>201810</td>\n",
              "      <td>AS015739</td>\n",
              "      <td>5</td>\n",
              "      <td>6.0</td>\n",
              "      <td>5.0</td>\n",
              "      <td>8.0</td>\n",
              "      <td>6.0</td>\n",
              "      <td>5.0</td>\n",
              "      <td>7.0</td>\n",
              "    </tr>\n",
              "    <tr>\n",
              "      <th>4</th>\n",
              "      <td>201810</td>\n",
              "      <td>AS019860</td>\n",
              "      <td>7</td>\n",
              "      <td>5.0</td>\n",
              "      <td>7.0</td>\n",
              "      <td>4.0</td>\n",
              "      <td>6.0</td>\n",
              "      <td>8.0</td>\n",
              "      <td>6.0</td>\n",
              "    </tr>\n",
              "  </tbody>\n",
              "</table>\n",
              "</div>"
            ],
            "text/plain": [
              "       年月 customer_id  count_pred  count_0  count_1  count_2  count_3  \\\n",
              "0  201810    AS002855           3      7.0      3.0      5.0      5.0   \n",
              "1  201810    AS009373           5      6.0      6.0      7.0      4.0   \n",
              "2  201810    AS015315           4      7.0      3.0      6.0      3.0   \n",
              "3  201810    AS015739           5      6.0      5.0      8.0      6.0   \n",
              "4  201810    AS019860           7      5.0      7.0      4.0      6.0   \n",
              "\n",
              "   count_4  count_5  \n",
              "0      5.0      4.0  \n",
              "1      4.0      3.0  \n",
              "2      3.0      6.0  \n",
              "3      5.0      7.0  \n",
              "4      8.0      6.0  "
            ]
          },
          "execution_count": 14,
          "metadata": {},
          "output_type": "execute_result"
        }
      ],
      "source": [
        "predict_data = predict_data.dropna() # 対象ユーザーを、6ヶ月以上契約しているユーザーに絞る\n",
        "predict_data = predict_data.reset_index(drop=True)\n",
        "predict_data.head()"
      ]
    },
    {
      "cell_type": "markdown",
      "metadata": {
        "id": "6W-jJldrW1Hn"
      },
      "source": [
        "### 2.7：特徴となる変数を付与する"
      ]
    },
    {
      "cell_type": "code",
      "execution_count": null,
      "metadata": {
        "id": "k81DEGfLW1Hn",
        "outputId": "e3b1812c-069f-4ada-8f2c-99fd07246aa9"
      },
      "outputs": [
        {
          "data": {
            "text/html": [
              "<div>\n",
              "<style scoped>\n",
              "    .dataframe tbody tr th:only-of-type {\n",
              "        vertical-align: middle;\n",
              "    }\n",
              "\n",
              "    .dataframe tbody tr th {\n",
              "        vertical-align: top;\n",
              "    }\n",
              "\n",
              "    .dataframe thead th {\n",
              "        text-align: right;\n",
              "    }\n",
              "</style>\n",
              "<table border=\"1\" class=\"dataframe\">\n",
              "  <thead>\n",
              "    <tr style=\"text-align: right;\">\n",
              "      <th></th>\n",
              "      <th>年月</th>\n",
              "      <th>customer_id</th>\n",
              "      <th>count_pred</th>\n",
              "      <th>count_0</th>\n",
              "      <th>count_1</th>\n",
              "      <th>count_2</th>\n",
              "      <th>count_3</th>\n",
              "      <th>count_4</th>\n",
              "      <th>count_5</th>\n",
              "      <th>start_date</th>\n",
              "    </tr>\n",
              "  </thead>\n",
              "  <tbody>\n",
              "    <tr>\n",
              "      <th>0</th>\n",
              "      <td>201810</td>\n",
              "      <td>AS002855</td>\n",
              "      <td>3</td>\n",
              "      <td>7.0</td>\n",
              "      <td>3.0</td>\n",
              "      <td>5.0</td>\n",
              "      <td>5.0</td>\n",
              "      <td>5.0</td>\n",
              "      <td>4.0</td>\n",
              "      <td>2016-11-01</td>\n",
              "    </tr>\n",
              "    <tr>\n",
              "      <th>1</th>\n",
              "      <td>201810</td>\n",
              "      <td>AS009373</td>\n",
              "      <td>5</td>\n",
              "      <td>6.0</td>\n",
              "      <td>6.0</td>\n",
              "      <td>7.0</td>\n",
              "      <td>4.0</td>\n",
              "      <td>4.0</td>\n",
              "      <td>3.0</td>\n",
              "      <td>2015-11-01</td>\n",
              "    </tr>\n",
              "    <tr>\n",
              "      <th>2</th>\n",
              "      <td>201810</td>\n",
              "      <td>AS015315</td>\n",
              "      <td>4</td>\n",
              "      <td>7.0</td>\n",
              "      <td>3.0</td>\n",
              "      <td>6.0</td>\n",
              "      <td>3.0</td>\n",
              "      <td>3.0</td>\n",
              "      <td>6.0</td>\n",
              "      <td>2015-07-01</td>\n",
              "    </tr>\n",
              "    <tr>\n",
              "      <th>3</th>\n",
              "      <td>201810</td>\n",
              "      <td>AS015739</td>\n",
              "      <td>5</td>\n",
              "      <td>6.0</td>\n",
              "      <td>5.0</td>\n",
              "      <td>8.0</td>\n",
              "      <td>6.0</td>\n",
              "      <td>5.0</td>\n",
              "      <td>7.0</td>\n",
              "      <td>2017-06-01</td>\n",
              "    </tr>\n",
              "    <tr>\n",
              "      <th>4</th>\n",
              "      <td>201810</td>\n",
              "      <td>AS019860</td>\n",
              "      <td>7</td>\n",
              "      <td>5.0</td>\n",
              "      <td>7.0</td>\n",
              "      <td>4.0</td>\n",
              "      <td>6.0</td>\n",
              "      <td>8.0</td>\n",
              "      <td>6.0</td>\n",
              "      <td>2017-10-01</td>\n",
              "    </tr>\n",
              "  </tbody>\n",
              "</table>\n",
              "</div>"
            ],
            "text/plain": [
              "       年月 customer_id  count_pred  count_0  count_1  count_2  count_3  \\\n",
              "0  201810    AS002855           3      7.0      3.0      5.0      5.0   \n",
              "1  201810    AS009373           5      6.0      6.0      7.0      4.0   \n",
              "2  201810    AS015315           4      7.0      3.0      6.0      3.0   \n",
              "3  201810    AS015739           5      6.0      5.0      8.0      6.0   \n",
              "4  201810    AS019860           7      5.0      7.0      4.0      6.0   \n",
              "\n",
              "   count_4  count_5  start_date  \n",
              "0      5.0      4.0  2016-11-01  \n",
              "1      4.0      3.0  2015-11-01  \n",
              "2      3.0      6.0  2015-07-01  \n",
              "3      5.0      7.0  2017-06-01  \n",
              "4      8.0      6.0  2017-10-01  "
            ]
          },
          "execution_count": 15,
          "metadata": {},
          "output_type": "execute_result"
        }
      ],
      "source": [
        "# 会員期間を特徴となる変数として加える\n",
        "predict_data = pd.merge(predict_data, customer[[\"customer_id\",\"start_date\"]], on=\"customer_id\", how=\"left\")\n",
        "predict_data.head()"
      ]
    },
    {
      "cell_type": "code",
      "execution_count": null,
      "metadata": {
        "id": "vSBwKOUgW1Ho",
        "outputId": "f1b27fc2-a293-4f7b-b33a-a4e923c0f158"
      },
      "outputs": [
        {
          "data": {
            "text/html": [
              "<div>\n",
              "<style scoped>\n",
              "    .dataframe tbody tr th:only-of-type {\n",
              "        vertical-align: middle;\n",
              "    }\n",
              "\n",
              "    .dataframe tbody tr th {\n",
              "        vertical-align: top;\n",
              "    }\n",
              "\n",
              "    .dataframe thead th {\n",
              "        text-align: right;\n",
              "    }\n",
              "</style>\n",
              "<table border=\"1\" class=\"dataframe\">\n",
              "  <thead>\n",
              "    <tr style=\"text-align: right;\">\n",
              "      <th></th>\n",
              "      <th>年月</th>\n",
              "      <th>customer_id</th>\n",
              "      <th>count_pred</th>\n",
              "      <th>count_0</th>\n",
              "      <th>count_1</th>\n",
              "      <th>count_2</th>\n",
              "      <th>count_3</th>\n",
              "      <th>count_4</th>\n",
              "      <th>count_5</th>\n",
              "      <th>start_date</th>\n",
              "      <th>now_date</th>\n",
              "      <th>period</th>\n",
              "    </tr>\n",
              "  </thead>\n",
              "  <tbody>\n",
              "    <tr>\n",
              "      <th>0</th>\n",
              "      <td>201810</td>\n",
              "      <td>AS002855</td>\n",
              "      <td>3</td>\n",
              "      <td>7.0</td>\n",
              "      <td>3.0</td>\n",
              "      <td>5.0</td>\n",
              "      <td>5.0</td>\n",
              "      <td>5.0</td>\n",
              "      <td>4.0</td>\n",
              "      <td>2016-11-01</td>\n",
              "      <td>2018-10-01</td>\n",
              "      <td>23</td>\n",
              "    </tr>\n",
              "    <tr>\n",
              "      <th>1</th>\n",
              "      <td>201810</td>\n",
              "      <td>AS009373</td>\n",
              "      <td>5</td>\n",
              "      <td>6.0</td>\n",
              "      <td>6.0</td>\n",
              "      <td>7.0</td>\n",
              "      <td>4.0</td>\n",
              "      <td>4.0</td>\n",
              "      <td>3.0</td>\n",
              "      <td>2015-11-01</td>\n",
              "      <td>2018-10-01</td>\n",
              "      <td>35</td>\n",
              "    </tr>\n",
              "    <tr>\n",
              "      <th>2</th>\n",
              "      <td>201810</td>\n",
              "      <td>AS015315</td>\n",
              "      <td>4</td>\n",
              "      <td>7.0</td>\n",
              "      <td>3.0</td>\n",
              "      <td>6.0</td>\n",
              "      <td>3.0</td>\n",
              "      <td>3.0</td>\n",
              "      <td>6.0</td>\n",
              "      <td>2015-07-01</td>\n",
              "      <td>2018-10-01</td>\n",
              "      <td>39</td>\n",
              "    </tr>\n",
              "    <tr>\n",
              "      <th>3</th>\n",
              "      <td>201810</td>\n",
              "      <td>AS015739</td>\n",
              "      <td>5</td>\n",
              "      <td>6.0</td>\n",
              "      <td>5.0</td>\n",
              "      <td>8.0</td>\n",
              "      <td>6.0</td>\n",
              "      <td>5.0</td>\n",
              "      <td>7.0</td>\n",
              "      <td>2017-06-01</td>\n",
              "      <td>2018-10-01</td>\n",
              "      <td>16</td>\n",
              "    </tr>\n",
              "    <tr>\n",
              "      <th>4</th>\n",
              "      <td>201810</td>\n",
              "      <td>AS019860</td>\n",
              "      <td>7</td>\n",
              "      <td>5.0</td>\n",
              "      <td>7.0</td>\n",
              "      <td>4.0</td>\n",
              "      <td>6.0</td>\n",
              "      <td>8.0</td>\n",
              "      <td>6.0</td>\n",
              "      <td>2017-10-01</td>\n",
              "      <td>2018-10-01</td>\n",
              "      <td>12</td>\n",
              "    </tr>\n",
              "  </tbody>\n",
              "</table>\n",
              "</div>"
            ],
            "text/plain": [
              "       年月 customer_id  count_pred  count_0  count_1  count_2  count_3  \\\n",
              "0  201810    AS002855           3      7.0      3.0      5.0      5.0   \n",
              "1  201810    AS009373           5      6.0      6.0      7.0      4.0   \n",
              "2  201810    AS015315           4      7.0      3.0      6.0      3.0   \n",
              "3  201810    AS015739           5      6.0      5.0      8.0      6.0   \n",
              "4  201810    AS019860           7      5.0      7.0      4.0      6.0   \n",
              "\n",
              "   count_4  count_5 start_date   now_date period  \n",
              "0      5.0      4.0 2016-11-01 2018-10-01     23  \n",
              "1      4.0      3.0 2015-11-01 2018-10-01     35  \n",
              "2      3.0      6.0 2015-07-01 2018-10-01     39  \n",
              "3      5.0      7.0 2017-06-01 2018-10-01     16  \n",
              "4      8.0      6.0 2017-10-01 2018-10-01     12  "
            ]
          },
          "execution_count": 16,
          "metadata": {},
          "output_type": "execute_result"
        }
      ],
      "source": [
        "# 会員期間の追加\n",
        "predict_data[\"now_date\"] = pd.to_datetime(predict_data[\"年月\"], format=\"%Y%m\")\n",
        "predict_data[\"start_date\"] = pd.to_datetime(predict_data[\"start_date\"])\n",
        "from dateutil.relativedelta import relativedelta\n",
        "predict_data[\"period\"] = None\n",
        "for i in range(len(predict_data)):\n",
        "    delta = relativedelta(predict_data[\"now_date\"][i], predict_data[\"start_date\"][i])\n",
        "    predict_data[\"period\"][i] = delta.years*12 + delta.months\n",
        "predict_data.head()"
      ]
    },
    {
      "cell_type": "markdown",
      "metadata": {
        "id": "oDHbg4lJW1Ho"
      },
      "source": [
        "### 2.8：来月の利用回数予測モデルを作成する\n",
        "古くから契約しているユーザーは契約時初期からのデータが存在していなかったり、現在利用回数が安定している（特徴が見えづらい）可能性があるため、2018年４月以降に、新規に入った顧客に絞ってモデル作成しようと思います。"
      ]
    },
    {
      "cell_type": "code",
      "execution_count": null,
      "metadata": {
        "id": "6yV0UmmTW1Ho",
        "outputId": "8e7ccf69-9475-434c-94f6-8bfb09134c14"
      },
      "outputs": [
        {
          "data": {
            "text/plain": [
              "LinearRegression(copy_X=True, fit_intercept=True, n_jobs=1, normalize=False)"
            ]
          },
          "execution_count": 17,
          "metadata": {},
          "output_type": "execute_result"
        }
      ],
      "source": [
        "predict_data = predict_data.loc[predict_data[\"start_date\"]>=pd.to_datetime(\"20180401\")] # 絞り込み\n",
        "from sklearn import linear_model # シンプルな回帰モデル、線形回帰(予測)モデルを呼び出す\n",
        "import sklearn.model_selection\n",
        "model = linear_model.LinearRegression()\n",
        "X = predict_data[[\"count_0\",\"count_1\",\"count_2\",\"count_3\",\"count_4\",\"count_5\",\"period\"]]\n",
        "y = predict_data[\"count_pred\"]\n",
        "X_train, X_test, y_train, y_test = sklearn.model_selection.train_test_split(X,y) # この場合、デフォルトでは学習用データ７５％、テスト用データ２５％に分割される(train_size, test_sizeで指定可能)\n",
        "model.fit(X_train, y_train)"
      ]
    },
    {
      "cell_type": "code",
      "execution_count": null,
      "metadata": {
        "id": "Z-MHkGzjW1Ho",
        "outputId": "9fb8e64a-ad2f-4872-c7bd-5d1a31cef9f7"
      },
      "outputs": [
        {
          "name": "stdout",
          "output_type": "stream",
          "text": [
            "0.6057457835561497\n",
            "0.6125748997328535\n"
          ]
        }
      ],
      "source": [
        "print(model.score(X_train, y_train))\n",
        "print(model.score(X_test, y_test))"
      ]
    },
    {
      "cell_type": "markdown",
      "metadata": {
        "id": "NafMW0_5W1Ho"
      },
      "source": [
        "### 2.9：モデルに寄与している変数を確認する"
      ]
    },
    {
      "cell_type": "code",
      "execution_count": null,
      "metadata": {
        "id": "_ANN7ZHwW1Hp",
        "outputId": "1fa7d636-be52-40ed-ceb0-ea11d507589a"
      },
      "outputs": [
        {
          "data": {
            "text/html": [
              "<div>\n",
              "<style scoped>\n",
              "    .dataframe tbody tr th:only-of-type {\n",
              "        vertical-align: middle;\n",
              "    }\n",
              "\n",
              "    .dataframe tbody tr th {\n",
              "        vertical-align: top;\n",
              "    }\n",
              "\n",
              "    .dataframe thead th {\n",
              "        text-align: right;\n",
              "    }\n",
              "</style>\n",
              "<table border=\"1\" class=\"dataframe\">\n",
              "  <thead>\n",
              "    <tr style=\"text-align: right;\">\n",
              "      <th></th>\n",
              "      <th>feature_names</th>\n",
              "      <th>coefficient</th>\n",
              "    </tr>\n",
              "  </thead>\n",
              "  <tbody>\n",
              "    <tr>\n",
              "      <th>0</th>\n",
              "      <td>count_0</td>\n",
              "      <td>0.319063</td>\n",
              "    </tr>\n",
              "    <tr>\n",
              "      <th>1</th>\n",
              "      <td>count_1</td>\n",
              "      <td>0.203130</td>\n",
              "    </tr>\n",
              "    <tr>\n",
              "      <th>2</th>\n",
              "      <td>count_2</td>\n",
              "      <td>0.187548</td>\n",
              "    </tr>\n",
              "    <tr>\n",
              "      <th>3</th>\n",
              "      <td>count_3</td>\n",
              "      <td>0.175472</td>\n",
              "    </tr>\n",
              "    <tr>\n",
              "      <th>4</th>\n",
              "      <td>count_4</td>\n",
              "      <td>0.070523</td>\n",
              "    </tr>\n",
              "    <tr>\n",
              "      <th>5</th>\n",
              "      <td>count_5</td>\n",
              "      <td>0.067075</td>\n",
              "    </tr>\n",
              "    <tr>\n",
              "      <th>6</th>\n",
              "      <td>period</td>\n",
              "      <td>0.032488</td>\n",
              "    </tr>\n",
              "  </tbody>\n",
              "</table>\n",
              "</div>"
            ],
            "text/plain": [
              "  feature_names  coefficient\n",
              "0       count_0     0.319063\n",
              "1       count_1     0.203130\n",
              "2       count_2     0.187548\n",
              "3       count_3     0.175472\n",
              "4       count_4     0.070523\n",
              "5       count_5     0.067075\n",
              "6        period     0.032488"
            ]
          },
          "execution_count": 19,
          "metadata": {},
          "output_type": "execute_result"
        }
      ],
      "source": [
        "# 変数のモデル寄与率\n",
        "coef = pd.DataFrame({\"feature_names\":X.columns, \"coefficient\":model.coef_})\n",
        "coef"
      ]
    },
    {
      "cell_type": "markdown",
      "metadata": {
        "id": "HG3K1tYyW1Hp"
      },
      "source": [
        "### 2.10：来月の利用回数を予測する"
      ]
    },
    {
      "cell_type": "code",
      "execution_count": null,
      "metadata": {
        "id": "qnnXlnkcW1Hp"
      },
      "outputs": [],
      "source": [
        "x1 = [3, 4, 4, 6, 8, 7, 8]\n",
        "x2 = [2, 2, 3, 3, 4, 6, 8]\n",
        "x_pred = [x1, x2]"
      ]
    },
    {
      "cell_type": "code",
      "execution_count": null,
      "metadata": {
        "id": "7O2MMqSeW1Hp",
        "outputId": "7d8c387d-93d9-4edb-c6d6-0b4048b52747"
      },
      "outputs": [
        {
          "data": {
            "text/plain": [
              "array([3.72933601, 1.94088045])"
            ]
          },
          "execution_count": 21,
          "metadata": {},
          "output_type": "execute_result"
        }
      ],
      "source": [
        "model.predict(x_pred)"
      ]
    },
    {
      "cell_type": "code",
      "execution_count": null,
      "metadata": {
        "id": "N_l2SL6jW1Hp"
      },
      "outputs": [],
      "source": [
        "uselog_months.to_csv(\"use_log_months.csv\",index=False)"
      ]
    },
    {
      "cell_type": "markdown",
      "source": [
        "### 予測はできたけれど、\n",
        "そもそも重要なことは、ユーザーを定着させて増やしていきたいはずなので、退会ユーザーを減らすことを考えないといけないはず。退会ユーザーがなぜ退会するのかを、分析してみる"
      ],
      "metadata": {
        "id": "HXJ62v2NCtM4"
      }
    },
    {
      "cell_type": "markdown",
      "metadata": {
        "id": "eVK8xZLyXhhN"
      },
      "source": [
        "### 3.1：データを読み込んで利用データを整形する"
      ]
    },
    {
      "cell_type": "code",
      "execution_count": null,
      "metadata": {
        "id": "CAYfvIHuXhhO"
      },
      "outputs": [],
      "source": [
        "import pandas as pd\n",
        "customer = pd.read_csv('DATA/customer_join.csv')\n",
        "uselog_months = pd.read_csv('DATA/use_log_months.csv')"
      ]
    },
    {
      "cell_type": "code",
      "execution_count": null,
      "metadata": {
        "id": "D4mP-eZQXhhP",
        "outputId": "e01fb012-3954-4ef1-ae96-9b46ad000d4b"
      },
      "outputs": [
        {
          "data": {
            "text/html": [
              "<div>\n",
              "<style scoped>\n",
              "    .dataframe tbody tr th:only-of-type {\n",
              "        vertical-align: middle;\n",
              "    }\n",
              "\n",
              "    .dataframe tbody tr th {\n",
              "        vertical-align: top;\n",
              "    }\n",
              "\n",
              "    .dataframe thead th {\n",
              "        text-align: right;\n",
              "    }\n",
              "</style>\n",
              "<table border=\"1\" class=\"dataframe\">\n",
              "  <thead>\n",
              "    <tr style=\"text-align: right;\">\n",
              "      <th></th>\n",
              "      <th>年月</th>\n",
              "      <th>customer_id</th>\n",
              "      <th>count_0</th>\n",
              "      <th>count_1</th>\n",
              "    </tr>\n",
              "  </thead>\n",
              "  <tbody>\n",
              "    <tr>\n",
              "      <th>0</th>\n",
              "      <td>201805</td>\n",
              "      <td>AS002855</td>\n",
              "      <td>5</td>\n",
              "      <td>4.0</td>\n",
              "    </tr>\n",
              "    <tr>\n",
              "      <th>1</th>\n",
              "      <td>201805</td>\n",
              "      <td>AS009373</td>\n",
              "      <td>4</td>\n",
              "      <td>3.0</td>\n",
              "    </tr>\n",
              "    <tr>\n",
              "      <th>2</th>\n",
              "      <td>201805</td>\n",
              "      <td>AS015233</td>\n",
              "      <td>7</td>\n",
              "      <td>NaN</td>\n",
              "    </tr>\n",
              "    <tr>\n",
              "      <th>3</th>\n",
              "      <td>201805</td>\n",
              "      <td>AS015315</td>\n",
              "      <td>3</td>\n",
              "      <td>6.0</td>\n",
              "    </tr>\n",
              "    <tr>\n",
              "      <th>4</th>\n",
              "      <td>201805</td>\n",
              "      <td>AS015739</td>\n",
              "      <td>5</td>\n",
              "      <td>7.0</td>\n",
              "    </tr>\n",
              "  </tbody>\n",
              "</table>\n",
              "</div>"
            ],
            "text/plain": [
              "       年月 customer_id  count_0  count_1\n",
              "0  201805    AS002855        5      4.0\n",
              "1  201805    AS009373        4      3.0\n",
              "2  201805    AS015233        7      NaN\n",
              "3  201805    AS015315        3      6.0\n",
              "4  201805    AS015739        5      7.0"
            ]
          },
          "execution_count": 3,
          "metadata": {},
          "output_type": "execute_result"
        }
      ],
      "source": [
        "# 退会してしまうユーザーの予測を行うためのデータを作る\n",
        "# 当月と過去1ヶ月分の利用回数を作ってみる 2018年4月、５月\n",
        "year_months = list(uselog_months[\"年月\"].unique())\n",
        "uselog = pd.DataFrame()\n",
        "for i in range(1, len(year_months)):\n",
        "    tmp = uselog_months.loc[uselog_months[\"年月\"]==year_months[i]]\n",
        "    tmp.rename(columns={\"count\":\"count_0\"}, inplace=True)\n",
        "    tmp_before = uselog_months.loc[uselog_months[\"年月\"]==year_months[i-1]]\n",
        "    del tmp_before[\"年月\"]\n",
        "    tmp_before.rename(columns={\"count\":\"count_1\"}, inplace=True)\n",
        "    tmp = pd.merge(tmp, tmp_before, on=\"customer_id\", how=\"left\")\n",
        "    uselog = pd.concat([uselog, tmp], ignore_index=True)\n",
        "uselog.head()"
      ]
    },
    {
      "cell_type": "markdown",
      "metadata": {
        "id": "Y3kuHfAuXhhQ"
      },
      "source": [
        "### 3.2：退会前月の退会顧客データを作成する"
      ]
    },
    {
      "cell_type": "code",
      "execution_count": null,
      "metadata": {
        "id": "XYwCTl1LXhhQ",
        "outputId": "25073530-4f35-4722-f2a5-742b82123ffa"
      },
      "outputs": [
        {
          "name": "stdout",
          "output_type": "stream",
          "text": [
            "33851\n"
          ]
        },
        {
          "data": {
            "text/html": [
              "<div>\n",
              "<style scoped>\n",
              "    .dataframe tbody tr th:only-of-type {\n",
              "        vertical-align: middle;\n",
              "    }\n",
              "\n",
              "    .dataframe tbody tr th {\n",
              "        vertical-align: top;\n",
              "    }\n",
              "\n",
              "    .dataframe thead th {\n",
              "        text-align: right;\n",
              "    }\n",
              "</style>\n",
              "<table border=\"1\" class=\"dataframe\">\n",
              "  <thead>\n",
              "    <tr style=\"text-align: right;\">\n",
              "      <th></th>\n",
              "      <th>年月</th>\n",
              "      <th>customer_id</th>\n",
              "      <th>count_0</th>\n",
              "      <th>count_1</th>\n",
              "      <th>name</th>\n",
              "      <th>class</th>\n",
              "      <th>gender</th>\n",
              "      <th>start_date</th>\n",
              "      <th>end_date</th>\n",
              "      <th>campaign_id</th>\n",
              "      <th>...</th>\n",
              "      <th>price</th>\n",
              "      <th>campaign_name</th>\n",
              "      <th>mean</th>\n",
              "      <th>median</th>\n",
              "      <th>max</th>\n",
              "      <th>min</th>\n",
              "      <th>routine_flg</th>\n",
              "      <th>calc_date</th>\n",
              "      <th>membership_period</th>\n",
              "      <th>exit_date</th>\n",
              "    </tr>\n",
              "  </thead>\n",
              "  <tbody>\n",
              "    <tr>\n",
              "      <th>0</th>\n",
              "      <td>201805</td>\n",
              "      <td>AS002855</td>\n",
              "      <td>5</td>\n",
              "      <td>4.0</td>\n",
              "      <td>NaN</td>\n",
              "      <td>NaN</td>\n",
              "      <td>NaN</td>\n",
              "      <td>NaN</td>\n",
              "      <td>NaT</td>\n",
              "      <td>NaN</td>\n",
              "      <td>...</td>\n",
              "      <td>NaN</td>\n",
              "      <td>NaN</td>\n",
              "      <td>NaN</td>\n",
              "      <td>NaN</td>\n",
              "      <td>NaN</td>\n",
              "      <td>NaN</td>\n",
              "      <td>NaN</td>\n",
              "      <td>NaN</td>\n",
              "      <td>NaN</td>\n",
              "      <td>NaN</td>\n",
              "    </tr>\n",
              "    <tr>\n",
              "      <th>1</th>\n",
              "      <td>201805</td>\n",
              "      <td>AS009373</td>\n",
              "      <td>4</td>\n",
              "      <td>3.0</td>\n",
              "      <td>NaN</td>\n",
              "      <td>NaN</td>\n",
              "      <td>NaN</td>\n",
              "      <td>NaN</td>\n",
              "      <td>NaT</td>\n",
              "      <td>NaN</td>\n",
              "      <td>...</td>\n",
              "      <td>NaN</td>\n",
              "      <td>NaN</td>\n",
              "      <td>NaN</td>\n",
              "      <td>NaN</td>\n",
              "      <td>NaN</td>\n",
              "      <td>NaN</td>\n",
              "      <td>NaN</td>\n",
              "      <td>NaN</td>\n",
              "      <td>NaN</td>\n",
              "      <td>NaN</td>\n",
              "    </tr>\n",
              "    <tr>\n",
              "      <th>2</th>\n",
              "      <td>201805</td>\n",
              "      <td>AS015233</td>\n",
              "      <td>7</td>\n",
              "      <td>NaN</td>\n",
              "      <td>NaN</td>\n",
              "      <td>NaN</td>\n",
              "      <td>NaN</td>\n",
              "      <td>NaN</td>\n",
              "      <td>NaT</td>\n",
              "      <td>NaN</td>\n",
              "      <td>...</td>\n",
              "      <td>NaN</td>\n",
              "      <td>NaN</td>\n",
              "      <td>NaN</td>\n",
              "      <td>NaN</td>\n",
              "      <td>NaN</td>\n",
              "      <td>NaN</td>\n",
              "      <td>NaN</td>\n",
              "      <td>NaN</td>\n",
              "      <td>NaN</td>\n",
              "      <td>NaN</td>\n",
              "    </tr>\n",
              "    <tr>\n",
              "      <th>3</th>\n",
              "      <td>201805</td>\n",
              "      <td>AS015315</td>\n",
              "      <td>3</td>\n",
              "      <td>6.0</td>\n",
              "      <td>NaN</td>\n",
              "      <td>NaN</td>\n",
              "      <td>NaN</td>\n",
              "      <td>NaN</td>\n",
              "      <td>NaT</td>\n",
              "      <td>NaN</td>\n",
              "      <td>...</td>\n",
              "      <td>NaN</td>\n",
              "      <td>NaN</td>\n",
              "      <td>NaN</td>\n",
              "      <td>NaN</td>\n",
              "      <td>NaN</td>\n",
              "      <td>NaN</td>\n",
              "      <td>NaN</td>\n",
              "      <td>NaN</td>\n",
              "      <td>NaN</td>\n",
              "      <td>NaN</td>\n",
              "    </tr>\n",
              "    <tr>\n",
              "      <th>4</th>\n",
              "      <td>201805</td>\n",
              "      <td>AS015739</td>\n",
              "      <td>5</td>\n",
              "      <td>7.0</td>\n",
              "      <td>NaN</td>\n",
              "      <td>NaN</td>\n",
              "      <td>NaN</td>\n",
              "      <td>NaN</td>\n",
              "      <td>NaT</td>\n",
              "      <td>NaN</td>\n",
              "      <td>...</td>\n",
              "      <td>NaN</td>\n",
              "      <td>NaN</td>\n",
              "      <td>NaN</td>\n",
              "      <td>NaN</td>\n",
              "      <td>NaN</td>\n",
              "      <td>NaN</td>\n",
              "      <td>NaN</td>\n",
              "      <td>NaN</td>\n",
              "      <td>NaN</td>\n",
              "      <td>NaN</td>\n",
              "    </tr>\n",
              "  </tbody>\n",
              "</table>\n",
              "<p>5 rows × 22 columns</p>\n",
              "</div>"
            ],
            "text/plain": [
              "       年月 customer_id  count_0  count_1 name class gender start_date end_date  \\\n",
              "0  201805    AS002855        5      4.0  NaN   NaN    NaN        NaN      NaT   \n",
              "1  201805    AS009373        4      3.0  NaN   NaN    NaN        NaN      NaT   \n",
              "2  201805    AS015233        7      NaN  NaN   NaN    NaN        NaN      NaT   \n",
              "3  201805    AS015315        3      6.0  NaN   NaN    NaN        NaN      NaT   \n",
              "4  201805    AS015739        5      7.0  NaN   NaN    NaN        NaN      NaT   \n",
              "\n",
              "  campaign_id  ...  price campaign_name  mean median  max  min  routine_flg  \\\n",
              "0         NaN  ...    NaN           NaN   NaN    NaN  NaN  NaN          NaN   \n",
              "1         NaN  ...    NaN           NaN   NaN    NaN  NaN  NaN          NaN   \n",
              "2         NaN  ...    NaN           NaN   NaN    NaN  NaN  NaN          NaN   \n",
              "3         NaN  ...    NaN           NaN   NaN    NaN  NaN  NaN          NaN   \n",
              "4         NaN  ...    NaN           NaN   NaN    NaN  NaN  NaN          NaN   \n",
              "\n",
              "   calc_date  membership_period exit_date  \n",
              "0        NaN                NaN       NaN  \n",
              "1        NaN                NaN       NaN  \n",
              "2        NaN                NaN       NaN  \n",
              "3        NaN                NaN       NaN  \n",
              "4        NaN                NaN       NaN  \n",
              "\n",
              "[5 rows x 22 columns]"
            ]
          },
          "execution_count": 4,
          "metadata": {},
          "output_type": "execute_result"
        }
      ],
      "source": [
        "from dateutil.relativedelta import relativedelta\n",
        "exit_customer = customer.loc[customer[\"is_deleted\"]==1]\n",
        "exit_customer[\"exit_date\"] = None\n",
        "exit_customer[\"end_date\"] = pd.to_datetime(exit_customer[\"end_date\"])\n",
        "for i in range(len(exit_customer)):\n",
        "    exit_customer[\"exit_date\"].iloc[i] = exit_customer[\"end_date\"].iloc[i] - relativedelta(months=1)\n",
        "exit_customer[\"年月\"] = exit_customer[\"exit_date\"].dt.strftime(\"%Y%m\")\n",
        "uselog[\"年月\"] = uselog[\"年月\"].astype(str)\n",
        "exit_uselog = pd.merge(uselog, exit_customer, on=[\"customer_id\", \"年月\"], how=\"left\")\n",
        "print(len(uselog))\n",
        "exit_uselog.head()"
      ]
    },
    {
      "cell_type": "code",
      "execution_count": null,
      "metadata": {
        "id": "-EwE6ubeXhhR",
        "outputId": "6ffc1570-6d98-4f67-d03b-09fe19d18586"
      },
      "outputs": [
        {
          "name": "stdout",
          "output_type": "stream",
          "text": [
            "1104\n",
            "1104\n"
          ]
        },
        {
          "data": {
            "text/html": [
              "<div>\n",
              "<style scoped>\n",
              "    .dataframe tbody tr th:only-of-type {\n",
              "        vertical-align: middle;\n",
              "    }\n",
              "\n",
              "    .dataframe tbody tr th {\n",
              "        vertical-align: top;\n",
              "    }\n",
              "\n",
              "    .dataframe thead th {\n",
              "        text-align: right;\n",
              "    }\n",
              "</style>\n",
              "<table border=\"1\" class=\"dataframe\">\n",
              "  <thead>\n",
              "    <tr style=\"text-align: right;\">\n",
              "      <th></th>\n",
              "      <th>年月</th>\n",
              "      <th>customer_id</th>\n",
              "      <th>count_0</th>\n",
              "      <th>count_1</th>\n",
              "      <th>name</th>\n",
              "      <th>class</th>\n",
              "      <th>gender</th>\n",
              "      <th>start_date</th>\n",
              "      <th>end_date</th>\n",
              "      <th>campaign_id</th>\n",
              "      <th>...</th>\n",
              "      <th>price</th>\n",
              "      <th>campaign_name</th>\n",
              "      <th>mean</th>\n",
              "      <th>median</th>\n",
              "      <th>max</th>\n",
              "      <th>min</th>\n",
              "      <th>routine_flg</th>\n",
              "      <th>calc_date</th>\n",
              "      <th>membership_period</th>\n",
              "      <th>exit_date</th>\n",
              "    </tr>\n",
              "  </thead>\n",
              "  <tbody>\n",
              "    <tr>\n",
              "      <th>19</th>\n",
              "      <td>201805</td>\n",
              "      <td>AS055680</td>\n",
              "      <td>3</td>\n",
              "      <td>3.0</td>\n",
              "      <td>XXXXX</td>\n",
              "      <td>C01</td>\n",
              "      <td>M</td>\n",
              "      <td>2018-03-01</td>\n",
              "      <td>2018-06-30</td>\n",
              "      <td>CA1</td>\n",
              "      <td>...</td>\n",
              "      <td>10500.0</td>\n",
              "      <td>通常</td>\n",
              "      <td>3.000000</td>\n",
              "      <td>3.0</td>\n",
              "      <td>3.0</td>\n",
              "      <td>3.0</td>\n",
              "      <td>0.0</td>\n",
              "      <td>2018-06-30</td>\n",
              "      <td>3.0</td>\n",
              "      <td>2018-05-30 00:00:00</td>\n",
              "    </tr>\n",
              "    <tr>\n",
              "      <th>57</th>\n",
              "      <td>201805</td>\n",
              "      <td>AS169823</td>\n",
              "      <td>2</td>\n",
              "      <td>3.0</td>\n",
              "      <td>XX</td>\n",
              "      <td>C01</td>\n",
              "      <td>M</td>\n",
              "      <td>2017-11-01</td>\n",
              "      <td>2018-06-30</td>\n",
              "      <td>CA1</td>\n",
              "      <td>...</td>\n",
              "      <td>10500.0</td>\n",
              "      <td>通常</td>\n",
              "      <td>3.000000</td>\n",
              "      <td>3.0</td>\n",
              "      <td>4.0</td>\n",
              "      <td>2.0</td>\n",
              "      <td>1.0</td>\n",
              "      <td>2018-06-30</td>\n",
              "      <td>7.0</td>\n",
              "      <td>2018-05-30 00:00:00</td>\n",
              "    </tr>\n",
              "    <tr>\n",
              "      <th>110</th>\n",
              "      <td>201805</td>\n",
              "      <td>AS305860</td>\n",
              "      <td>5</td>\n",
              "      <td>3.0</td>\n",
              "      <td>XXXX</td>\n",
              "      <td>C01</td>\n",
              "      <td>M</td>\n",
              "      <td>2017-06-01</td>\n",
              "      <td>2018-06-30</td>\n",
              "      <td>CA1</td>\n",
              "      <td>...</td>\n",
              "      <td>10500.0</td>\n",
              "      <td>通常</td>\n",
              "      <td>3.333333</td>\n",
              "      <td>3.0</td>\n",
              "      <td>5.0</td>\n",
              "      <td>2.0</td>\n",
              "      <td>0.0</td>\n",
              "      <td>2018-06-30</td>\n",
              "      <td>12.0</td>\n",
              "      <td>2018-05-30 00:00:00</td>\n",
              "    </tr>\n",
              "    <tr>\n",
              "      <th>128</th>\n",
              "      <td>201805</td>\n",
              "      <td>AS363699</td>\n",
              "      <td>5</td>\n",
              "      <td>3.0</td>\n",
              "      <td>XXXXX</td>\n",
              "      <td>C01</td>\n",
              "      <td>M</td>\n",
              "      <td>2018-02-01</td>\n",
              "      <td>2018-06-30</td>\n",
              "      <td>CA1</td>\n",
              "      <td>...</td>\n",
              "      <td>10500.0</td>\n",
              "      <td>通常</td>\n",
              "      <td>3.333333</td>\n",
              "      <td>3.0</td>\n",
              "      <td>5.0</td>\n",
              "      <td>2.0</td>\n",
              "      <td>0.0</td>\n",
              "      <td>2018-06-30</td>\n",
              "      <td>4.0</td>\n",
              "      <td>2018-05-30 00:00:00</td>\n",
              "    </tr>\n",
              "    <tr>\n",
              "      <th>147</th>\n",
              "      <td>201805</td>\n",
              "      <td>AS417696</td>\n",
              "      <td>1</td>\n",
              "      <td>4.0</td>\n",
              "      <td>XX</td>\n",
              "      <td>C03</td>\n",
              "      <td>F</td>\n",
              "      <td>2017-09-01</td>\n",
              "      <td>2018-06-30</td>\n",
              "      <td>CA1</td>\n",
              "      <td>...</td>\n",
              "      <td>6000.0</td>\n",
              "      <td>通常</td>\n",
              "      <td>2.000000</td>\n",
              "      <td>1.0</td>\n",
              "      <td>4.0</td>\n",
              "      <td>1.0</td>\n",
              "      <td>0.0</td>\n",
              "      <td>2018-06-30</td>\n",
              "      <td>9.0</td>\n",
              "      <td>2018-05-30 00:00:00</td>\n",
              "    </tr>\n",
              "  </tbody>\n",
              "</table>\n",
              "<p>5 rows × 22 columns</p>\n",
              "</div>"
            ],
            "text/plain": [
              "         年月 customer_id  count_0  count_1   name class gender  start_date  \\\n",
              "19   201805    AS055680        3      3.0  XXXXX   C01      M  2018-03-01   \n",
              "57   201805    AS169823        2      3.0     XX   C01      M  2017-11-01   \n",
              "110  201805    AS305860        5      3.0   XXXX   C01      M  2017-06-01   \n",
              "128  201805    AS363699        5      3.0  XXXXX   C01      M  2018-02-01   \n",
              "147  201805    AS417696        1      4.0     XX   C03      F  2017-09-01   \n",
              "\n",
              "      end_date campaign_id  ...    price campaign_name      mean median  max  \\\n",
              "19  2018-06-30         CA1  ...  10500.0            通常  3.000000    3.0  3.0   \n",
              "57  2018-06-30         CA1  ...  10500.0            通常  3.000000    3.0  4.0   \n",
              "110 2018-06-30         CA1  ...  10500.0            通常  3.333333    3.0  5.0   \n",
              "128 2018-06-30         CA1  ...  10500.0            通常  3.333333    3.0  5.0   \n",
              "147 2018-06-30         CA1  ...   6000.0            通常  2.000000    1.0  4.0   \n",
              "\n",
              "     min  routine_flg   calc_date  membership_period            exit_date  \n",
              "19   3.0          0.0  2018-06-30                3.0  2018-05-30 00:00:00  \n",
              "57   2.0          1.0  2018-06-30                7.0  2018-05-30 00:00:00  \n",
              "110  2.0          0.0  2018-06-30               12.0  2018-05-30 00:00:00  \n",
              "128  2.0          0.0  2018-06-30                4.0  2018-05-30 00:00:00  \n",
              "147  1.0          0.0  2018-06-30                9.0  2018-05-30 00:00:00  \n",
              "\n",
              "[5 rows x 22 columns]"
            ]
          },
          "execution_count": 5,
          "metadata": {},
          "output_type": "execute_result"
        }
      ],
      "source": [
        "exit_uselog = exit_uselog.dropna(subset=[\"name\"])\n",
        "print(len(exit_uselog))\n",
        "print(len(exit_uselog[\"customer_id\"].unique()))\n",
        "exit_uselog.head()"
      ]
    },
    {
      "cell_type": "markdown",
      "metadata": {
        "id": "S17P4Nm_XhhS"
      },
      "source": [
        "### 3.3：継続顧客のデータを作成する"
      ]
    },
    {
      "cell_type": "code",
      "execution_count": null,
      "metadata": {
        "id": "dT_nJZ4WXhhS",
        "outputId": "4b6efc88-5911-465c-ae1c-3c1472f55e54"
      },
      "outputs": [
        {
          "name": "stdout",
          "output_type": "stream",
          "text": [
            "33851\n",
            "27422\n"
          ]
        }
      ],
      "source": [
        "conti_customer = customer.loc[customer[\"is_deleted\"]==0]\n",
        "conti_uselog = pd.merge(uselog, conti_customer, on=[\"customer_id\"], how=\"left\")\n",
        "print(len(conti_uselog))\n",
        "conti_uselog = conti_uselog.dropna(subset=[\"name\"])\n",
        "print(len(conti_uselog))"
      ]
    },
    {
      "cell_type": "code",
      "execution_count": null,
      "metadata": {
        "id": "ZdGgj9i8XhhT",
        "outputId": "bd50c153-44c1-436b-b3b2-2fd5b719cafc"
      },
      "outputs": [
        {
          "name": "stdout",
          "output_type": "stream",
          "text": [
            "2842\n"
          ]
        },
        {
          "data": {
            "text/html": [
              "<div>\n",
              "<style scoped>\n",
              "    .dataframe tbody tr th:only-of-type {\n",
              "        vertical-align: middle;\n",
              "    }\n",
              "\n",
              "    .dataframe tbody tr th {\n",
              "        vertical-align: top;\n",
              "    }\n",
              "\n",
              "    .dataframe thead th {\n",
              "        text-align: right;\n",
              "    }\n",
              "</style>\n",
              "<table border=\"1\" class=\"dataframe\">\n",
              "  <thead>\n",
              "    <tr style=\"text-align: right;\">\n",
              "      <th></th>\n",
              "      <th>年月</th>\n",
              "      <th>customer_id</th>\n",
              "      <th>count_0</th>\n",
              "      <th>count_1</th>\n",
              "      <th>name</th>\n",
              "      <th>class</th>\n",
              "      <th>gender</th>\n",
              "      <th>start_date</th>\n",
              "      <th>end_date</th>\n",
              "      <th>campaign_id</th>\n",
              "      <th>...</th>\n",
              "      <th>class_name</th>\n",
              "      <th>price</th>\n",
              "      <th>campaign_name</th>\n",
              "      <th>mean</th>\n",
              "      <th>median</th>\n",
              "      <th>max</th>\n",
              "      <th>min</th>\n",
              "      <th>routine_flg</th>\n",
              "      <th>calc_date</th>\n",
              "      <th>membership_period</th>\n",
              "    </tr>\n",
              "  </thead>\n",
              "  <tbody>\n",
              "    <tr>\n",
              "      <th>0</th>\n",
              "      <td>201902</td>\n",
              "      <td>GD257285</td>\n",
              "      <td>5</td>\n",
              "      <td>5.0</td>\n",
              "      <td>XXXX</td>\n",
              "      <td>C01</td>\n",
              "      <td>M</td>\n",
              "      <td>2017-07-01</td>\n",
              "      <td>NaN</td>\n",
              "      <td>CA2</td>\n",
              "      <td>...</td>\n",
              "      <td>オールタイム</td>\n",
              "      <td>10500.0</td>\n",
              "      <td>入会費半額</td>\n",
              "      <td>5.583333</td>\n",
              "      <td>6.0</td>\n",
              "      <td>7.0</td>\n",
              "      <td>4.0</td>\n",
              "      <td>1.0</td>\n",
              "      <td>2019-04-30</td>\n",
              "      <td>21.0</td>\n",
              "    </tr>\n",
              "    <tr>\n",
              "      <th>1</th>\n",
              "      <td>201806</td>\n",
              "      <td>PL558375</td>\n",
              "      <td>7</td>\n",
              "      <td>5.0</td>\n",
              "      <td>XXXX</td>\n",
              "      <td>C02</td>\n",
              "      <td>F</td>\n",
              "      <td>2017-11-01</td>\n",
              "      <td>NaN</td>\n",
              "      <td>CA1</td>\n",
              "      <td>...</td>\n",
              "      <td>デイタイム</td>\n",
              "      <td>7500.0</td>\n",
              "      <td>通常</td>\n",
              "      <td>6.250000</td>\n",
              "      <td>6.0</td>\n",
              "      <td>9.0</td>\n",
              "      <td>5.0</td>\n",
              "      <td>1.0</td>\n",
              "      <td>2019-04-30</td>\n",
              "      <td>17.0</td>\n",
              "    </tr>\n",
              "    <tr>\n",
              "      <th>2</th>\n",
              "      <td>201903</td>\n",
              "      <td>TS885968</td>\n",
              "      <td>4</td>\n",
              "      <td>4.0</td>\n",
              "      <td>XXXXX</td>\n",
              "      <td>C01</td>\n",
              "      <td>F</td>\n",
              "      <td>2017-06-01</td>\n",
              "      <td>NaN</td>\n",
              "      <td>CA1</td>\n",
              "      <td>...</td>\n",
              "      <td>オールタイム</td>\n",
              "      <td>10500.0</td>\n",
              "      <td>通常</td>\n",
              "      <td>6.083333</td>\n",
              "      <td>6.0</td>\n",
              "      <td>10.0</td>\n",
              "      <td>3.0</td>\n",
              "      <td>1.0</td>\n",
              "      <td>2019-04-30</td>\n",
              "      <td>22.0</td>\n",
              "    </tr>\n",
              "    <tr>\n",
              "      <th>3</th>\n",
              "      <td>201806</td>\n",
              "      <td>HD476406</td>\n",
              "      <td>7</td>\n",
              "      <td>6.0</td>\n",
              "      <td>XXXXX</td>\n",
              "      <td>C01</td>\n",
              "      <td>F</td>\n",
              "      <td>2016-06-01</td>\n",
              "      <td>NaN</td>\n",
              "      <td>CA1</td>\n",
              "      <td>...</td>\n",
              "      <td>オールタイム</td>\n",
              "      <td>10500.0</td>\n",
              "      <td>通常</td>\n",
              "      <td>5.083333</td>\n",
              "      <td>5.5</td>\n",
              "      <td>8.0</td>\n",
              "      <td>2.0</td>\n",
              "      <td>1.0</td>\n",
              "      <td>2019-04-30</td>\n",
              "      <td>34.0</td>\n",
              "    </tr>\n",
              "    <tr>\n",
              "      <th>4</th>\n",
              "      <td>201806</td>\n",
              "      <td>HI708658</td>\n",
              "      <td>7</td>\n",
              "      <td>4.0</td>\n",
              "      <td>XXX</td>\n",
              "      <td>C01</td>\n",
              "      <td>F</td>\n",
              "      <td>2015-08-01</td>\n",
              "      <td>NaN</td>\n",
              "      <td>CA1</td>\n",
              "      <td>...</td>\n",
              "      <td>オールタイム</td>\n",
              "      <td>10500.0</td>\n",
              "      <td>通常</td>\n",
              "      <td>4.166667</td>\n",
              "      <td>4.0</td>\n",
              "      <td>7.0</td>\n",
              "      <td>1.0</td>\n",
              "      <td>1.0</td>\n",
              "      <td>2019-04-30</td>\n",
              "      <td>44.0</td>\n",
              "    </tr>\n",
              "  </tbody>\n",
              "</table>\n",
              "<p>5 rows × 21 columns</p>\n",
              "</div>"
            ],
            "text/plain": [
              "       年月 customer_id  count_0  count_1   name class gender  start_date  \\\n",
              "0  201902    GD257285        5      5.0   XXXX   C01      M  2017-07-01   \n",
              "1  201806    PL558375        7      5.0   XXXX   C02      F  2017-11-01   \n",
              "2  201903    TS885968        4      4.0  XXXXX   C01      F  2017-06-01   \n",
              "3  201806    HD476406        7      6.0  XXXXX   C01      F  2016-06-01   \n",
              "4  201806    HI708658        7      4.0    XXX   C01      F  2015-08-01   \n",
              "\n",
              "  end_date campaign_id  ...  class_name    price  campaign_name      mean  \\\n",
              "0      NaN         CA2  ...      オールタイム  10500.0          入会費半額  5.583333   \n",
              "1      NaN         CA1  ...       デイタイム   7500.0             通常  6.250000   \n",
              "2      NaN         CA1  ...      オールタイム  10500.0             通常  6.083333   \n",
              "3      NaN         CA1  ...      オールタイム  10500.0             通常  5.083333   \n",
              "4      NaN         CA1  ...      オールタイム  10500.0             通常  4.166667   \n",
              "\n",
              "   median   max  min  routine_flg   calc_date membership_period  \n",
              "0     6.0   7.0  4.0          1.0  2019-04-30              21.0  \n",
              "1     6.0   9.0  5.0          1.0  2019-04-30              17.0  \n",
              "2     6.0  10.0  3.0          1.0  2019-04-30              22.0  \n",
              "3     5.5   8.0  2.0          1.0  2019-04-30              34.0  \n",
              "4     4.0   7.0  1.0          1.0  2019-04-30              44.0  \n",
              "\n",
              "[5 rows x 21 columns]"
            ]
          },
          "execution_count": 7,
          "metadata": {},
          "output_type": "execute_result"
        }
      ],
      "source": [
        "conti_uselog = conti_uselog.sample(frac=1).reset_index(drop=True)\n",
        "conti_uselog = conti_uselog.drop_duplicates(subset=\"customer_id\")\n",
        "print(len(conti_uselog))\n",
        "conti_uselog.head()"
      ]
    },
    {
      "cell_type": "code",
      "execution_count": null,
      "metadata": {
        "id": "YX9CIpoCXhhT",
        "outputId": "63aa4015-b8c9-41a5-b40d-c62ea50046d4"
      },
      "outputs": [
        {
          "name": "stdout",
          "output_type": "stream",
          "text": [
            "3946\n"
          ]
        },
        {
          "data": {
            "text/html": [
              "<div>\n",
              "<style scoped>\n",
              "    .dataframe tbody tr th:only-of-type {\n",
              "        vertical-align: middle;\n",
              "    }\n",
              "\n",
              "    .dataframe tbody tr th {\n",
              "        vertical-align: top;\n",
              "    }\n",
              "\n",
              "    .dataframe thead th {\n",
              "        text-align: right;\n",
              "    }\n",
              "</style>\n",
              "<table border=\"1\" class=\"dataframe\">\n",
              "  <thead>\n",
              "    <tr style=\"text-align: right;\">\n",
              "      <th></th>\n",
              "      <th>calc_date</th>\n",
              "      <th>campaign_id</th>\n",
              "      <th>campaign_name</th>\n",
              "      <th>class</th>\n",
              "      <th>class_name</th>\n",
              "      <th>count_0</th>\n",
              "      <th>count_1</th>\n",
              "      <th>customer_id</th>\n",
              "      <th>end_date</th>\n",
              "      <th>exit_date</th>\n",
              "      <th>...</th>\n",
              "      <th>max</th>\n",
              "      <th>mean</th>\n",
              "      <th>median</th>\n",
              "      <th>membership_period</th>\n",
              "      <th>min</th>\n",
              "      <th>name</th>\n",
              "      <th>price</th>\n",
              "      <th>routine_flg</th>\n",
              "      <th>start_date</th>\n",
              "      <th>年月</th>\n",
              "    </tr>\n",
              "  </thead>\n",
              "  <tbody>\n",
              "    <tr>\n",
              "      <th>0</th>\n",
              "      <td>2019-04-30</td>\n",
              "      <td>CA2</td>\n",
              "      <td>入会費半額</td>\n",
              "      <td>C01</td>\n",
              "      <td>オールタイム</td>\n",
              "      <td>5</td>\n",
              "      <td>5.0</td>\n",
              "      <td>GD257285</td>\n",
              "      <td>NaN</td>\n",
              "      <td>NaN</td>\n",
              "      <td>...</td>\n",
              "      <td>7.0</td>\n",
              "      <td>5.583333</td>\n",
              "      <td>6.0</td>\n",
              "      <td>21.0</td>\n",
              "      <td>4.0</td>\n",
              "      <td>XXXX</td>\n",
              "      <td>10500.0</td>\n",
              "      <td>1.0</td>\n",
              "      <td>2017-07-01</td>\n",
              "      <td>201902</td>\n",
              "    </tr>\n",
              "    <tr>\n",
              "      <th>1</th>\n",
              "      <td>2019-04-30</td>\n",
              "      <td>CA1</td>\n",
              "      <td>通常</td>\n",
              "      <td>C02</td>\n",
              "      <td>デイタイム</td>\n",
              "      <td>7</td>\n",
              "      <td>5.0</td>\n",
              "      <td>PL558375</td>\n",
              "      <td>NaN</td>\n",
              "      <td>NaN</td>\n",
              "      <td>...</td>\n",
              "      <td>9.0</td>\n",
              "      <td>6.250000</td>\n",
              "      <td>6.0</td>\n",
              "      <td>17.0</td>\n",
              "      <td>5.0</td>\n",
              "      <td>XXXX</td>\n",
              "      <td>7500.0</td>\n",
              "      <td>1.0</td>\n",
              "      <td>2017-11-01</td>\n",
              "      <td>201806</td>\n",
              "    </tr>\n",
              "    <tr>\n",
              "      <th>2</th>\n",
              "      <td>2019-04-30</td>\n",
              "      <td>CA1</td>\n",
              "      <td>通常</td>\n",
              "      <td>C01</td>\n",
              "      <td>オールタイム</td>\n",
              "      <td>4</td>\n",
              "      <td>4.0</td>\n",
              "      <td>TS885968</td>\n",
              "      <td>NaN</td>\n",
              "      <td>NaN</td>\n",
              "      <td>...</td>\n",
              "      <td>10.0</td>\n",
              "      <td>6.083333</td>\n",
              "      <td>6.0</td>\n",
              "      <td>22.0</td>\n",
              "      <td>3.0</td>\n",
              "      <td>XXXXX</td>\n",
              "      <td>10500.0</td>\n",
              "      <td>1.0</td>\n",
              "      <td>2017-06-01</td>\n",
              "      <td>201903</td>\n",
              "    </tr>\n",
              "    <tr>\n",
              "      <th>3</th>\n",
              "      <td>2019-04-30</td>\n",
              "      <td>CA1</td>\n",
              "      <td>通常</td>\n",
              "      <td>C01</td>\n",
              "      <td>オールタイム</td>\n",
              "      <td>7</td>\n",
              "      <td>6.0</td>\n",
              "      <td>HD476406</td>\n",
              "      <td>NaN</td>\n",
              "      <td>NaN</td>\n",
              "      <td>...</td>\n",
              "      <td>8.0</td>\n",
              "      <td>5.083333</td>\n",
              "      <td>5.5</td>\n",
              "      <td>34.0</td>\n",
              "      <td>2.0</td>\n",
              "      <td>XXXXX</td>\n",
              "      <td>10500.0</td>\n",
              "      <td>1.0</td>\n",
              "      <td>2016-06-01</td>\n",
              "      <td>201806</td>\n",
              "    </tr>\n",
              "    <tr>\n",
              "      <th>4</th>\n",
              "      <td>2019-04-30</td>\n",
              "      <td>CA1</td>\n",
              "      <td>通常</td>\n",
              "      <td>C01</td>\n",
              "      <td>オールタイム</td>\n",
              "      <td>7</td>\n",
              "      <td>4.0</td>\n",
              "      <td>HI708658</td>\n",
              "      <td>NaN</td>\n",
              "      <td>NaN</td>\n",
              "      <td>...</td>\n",
              "      <td>7.0</td>\n",
              "      <td>4.166667</td>\n",
              "      <td>4.0</td>\n",
              "      <td>44.0</td>\n",
              "      <td>1.0</td>\n",
              "      <td>XXX</td>\n",
              "      <td>10500.0</td>\n",
              "      <td>1.0</td>\n",
              "      <td>2015-08-01</td>\n",
              "      <td>201806</td>\n",
              "    </tr>\n",
              "  </tbody>\n",
              "</table>\n",
              "<p>5 rows × 22 columns</p>\n",
              "</div>"
            ],
            "text/plain": [
              "    calc_date campaign_id campaign_name class class_name  count_0  count_1  \\\n",
              "0  2019-04-30         CA2         入会費半額   C01     オールタイム        5      5.0   \n",
              "1  2019-04-30         CA1            通常   C02      デイタイム        7      5.0   \n",
              "2  2019-04-30         CA1            通常   C01     オールタイム        4      4.0   \n",
              "3  2019-04-30         CA1            通常   C01     オールタイム        7      6.0   \n",
              "4  2019-04-30         CA1            通常   C01     オールタイム        7      4.0   \n",
              "\n",
              "  customer_id end_date exit_date  ...   max      mean  median  \\\n",
              "0    GD257285      NaN       NaN  ...   7.0  5.583333     6.0   \n",
              "1    PL558375      NaN       NaN  ...   9.0  6.250000     6.0   \n",
              "2    TS885968      NaN       NaN  ...  10.0  6.083333     6.0   \n",
              "3    HD476406      NaN       NaN  ...   8.0  5.083333     5.5   \n",
              "4    HI708658      NaN       NaN  ...   7.0  4.166667     4.0   \n",
              "\n",
              "   membership_period  min   name    price routine_flg  start_date      年月  \n",
              "0               21.0  4.0   XXXX  10500.0         1.0  2017-07-01  201902  \n",
              "1               17.0  5.0   XXXX   7500.0         1.0  2017-11-01  201806  \n",
              "2               22.0  3.0  XXXXX  10500.0         1.0  2017-06-01  201903  \n",
              "3               34.0  2.0  XXXXX  10500.0         1.0  2016-06-01  201806  \n",
              "4               44.0  1.0    XXX  10500.0         1.0  2015-08-01  201806  \n",
              "\n",
              "[5 rows x 22 columns]"
            ]
          },
          "execution_count": 8,
          "metadata": {},
          "output_type": "execute_result"
        }
      ],
      "source": [
        "predict_data = pd.concat([conti_uselog, exit_uselog],ignore_index=True)\n",
        "print(len(predict_data))\n",
        "predict_data.head()"
      ]
    },
    {
      "cell_type": "markdown",
      "metadata": {
        "id": "8ayDZSeTXhhU"
      },
      "source": [
        "### 3.4：予測する月の在籍期間を作成する"
      ]
    },
    {
      "cell_type": "code",
      "execution_count": null,
      "metadata": {
        "id": "rwCpW6kPXhhU",
        "outputId": "676bd4ad-c178-4b95-be87-95654f2f2225"
      },
      "outputs": [
        {
          "data": {
            "text/html": [
              "<div>\n",
              "<style scoped>\n",
              "    .dataframe tbody tr th:only-of-type {\n",
              "        vertical-align: middle;\n",
              "    }\n",
              "\n",
              "    .dataframe tbody tr th {\n",
              "        vertical-align: top;\n",
              "    }\n",
              "\n",
              "    .dataframe thead th {\n",
              "        text-align: right;\n",
              "    }\n",
              "</style>\n",
              "<table border=\"1\" class=\"dataframe\">\n",
              "  <thead>\n",
              "    <tr style=\"text-align: right;\">\n",
              "      <th></th>\n",
              "      <th>calc_date</th>\n",
              "      <th>campaign_id</th>\n",
              "      <th>campaign_name</th>\n",
              "      <th>class</th>\n",
              "      <th>class_name</th>\n",
              "      <th>count_0</th>\n",
              "      <th>count_1</th>\n",
              "      <th>customer_id</th>\n",
              "      <th>end_date</th>\n",
              "      <th>exit_date</th>\n",
              "      <th>...</th>\n",
              "      <th>median</th>\n",
              "      <th>membership_period</th>\n",
              "      <th>min</th>\n",
              "      <th>name</th>\n",
              "      <th>price</th>\n",
              "      <th>routine_flg</th>\n",
              "      <th>start_date</th>\n",
              "      <th>年月</th>\n",
              "      <th>period</th>\n",
              "      <th>now_date</th>\n",
              "    </tr>\n",
              "  </thead>\n",
              "  <tbody>\n",
              "    <tr>\n",
              "      <th>0</th>\n",
              "      <td>2019-04-30</td>\n",
              "      <td>CA2</td>\n",
              "      <td>入会費半額</td>\n",
              "      <td>C01</td>\n",
              "      <td>オールタイム</td>\n",
              "      <td>5</td>\n",
              "      <td>5.0</td>\n",
              "      <td>GD257285</td>\n",
              "      <td>NaN</td>\n",
              "      <td>NaN</td>\n",
              "      <td>...</td>\n",
              "      <td>6.0</td>\n",
              "      <td>21.0</td>\n",
              "      <td>4.0</td>\n",
              "      <td>XXXX</td>\n",
              "      <td>10500.0</td>\n",
              "      <td>1.0</td>\n",
              "      <td>2017-07-01</td>\n",
              "      <td>201902</td>\n",
              "      <td>19</td>\n",
              "      <td>2019-02-01</td>\n",
              "    </tr>\n",
              "    <tr>\n",
              "      <th>1</th>\n",
              "      <td>2019-04-30</td>\n",
              "      <td>CA1</td>\n",
              "      <td>通常</td>\n",
              "      <td>C02</td>\n",
              "      <td>デイタイム</td>\n",
              "      <td>7</td>\n",
              "      <td>5.0</td>\n",
              "      <td>PL558375</td>\n",
              "      <td>NaN</td>\n",
              "      <td>NaN</td>\n",
              "      <td>...</td>\n",
              "      <td>6.0</td>\n",
              "      <td>17.0</td>\n",
              "      <td>5.0</td>\n",
              "      <td>XXXX</td>\n",
              "      <td>7500.0</td>\n",
              "      <td>1.0</td>\n",
              "      <td>2017-11-01</td>\n",
              "      <td>201806</td>\n",
              "      <td>7</td>\n",
              "      <td>2018-06-01</td>\n",
              "    </tr>\n",
              "    <tr>\n",
              "      <th>2</th>\n",
              "      <td>2019-04-30</td>\n",
              "      <td>CA1</td>\n",
              "      <td>通常</td>\n",
              "      <td>C01</td>\n",
              "      <td>オールタイム</td>\n",
              "      <td>4</td>\n",
              "      <td>4.0</td>\n",
              "      <td>TS885968</td>\n",
              "      <td>NaN</td>\n",
              "      <td>NaN</td>\n",
              "      <td>...</td>\n",
              "      <td>6.0</td>\n",
              "      <td>22.0</td>\n",
              "      <td>3.0</td>\n",
              "      <td>XXXXX</td>\n",
              "      <td>10500.0</td>\n",
              "      <td>1.0</td>\n",
              "      <td>2017-06-01</td>\n",
              "      <td>201903</td>\n",
              "      <td>21</td>\n",
              "      <td>2019-03-01</td>\n",
              "    </tr>\n",
              "    <tr>\n",
              "      <th>3</th>\n",
              "      <td>2019-04-30</td>\n",
              "      <td>CA1</td>\n",
              "      <td>通常</td>\n",
              "      <td>C01</td>\n",
              "      <td>オールタイム</td>\n",
              "      <td>7</td>\n",
              "      <td>6.0</td>\n",
              "      <td>HD476406</td>\n",
              "      <td>NaN</td>\n",
              "      <td>NaN</td>\n",
              "      <td>...</td>\n",
              "      <td>5.5</td>\n",
              "      <td>34.0</td>\n",
              "      <td>2.0</td>\n",
              "      <td>XXXXX</td>\n",
              "      <td>10500.0</td>\n",
              "      <td>1.0</td>\n",
              "      <td>2016-06-01</td>\n",
              "      <td>201806</td>\n",
              "      <td>24</td>\n",
              "      <td>2018-06-01</td>\n",
              "    </tr>\n",
              "    <tr>\n",
              "      <th>4</th>\n",
              "      <td>2019-04-30</td>\n",
              "      <td>CA1</td>\n",
              "      <td>通常</td>\n",
              "      <td>C01</td>\n",
              "      <td>オールタイム</td>\n",
              "      <td>7</td>\n",
              "      <td>4.0</td>\n",
              "      <td>HI708658</td>\n",
              "      <td>NaN</td>\n",
              "      <td>NaN</td>\n",
              "      <td>...</td>\n",
              "      <td>4.0</td>\n",
              "      <td>44.0</td>\n",
              "      <td>1.0</td>\n",
              "      <td>XXX</td>\n",
              "      <td>10500.0</td>\n",
              "      <td>1.0</td>\n",
              "      <td>2015-08-01</td>\n",
              "      <td>201806</td>\n",
              "      <td>34</td>\n",
              "      <td>2018-06-01</td>\n",
              "    </tr>\n",
              "  </tbody>\n",
              "</table>\n",
              "<p>5 rows × 24 columns</p>\n",
              "</div>"
            ],
            "text/plain": [
              "    calc_date campaign_id campaign_name class class_name  count_0  count_1  \\\n",
              "0  2019-04-30         CA2         入会費半額   C01     オールタイム        5      5.0   \n",
              "1  2019-04-30         CA1            通常   C02      デイタイム        7      5.0   \n",
              "2  2019-04-30         CA1            通常   C01     オールタイム        4      4.0   \n",
              "3  2019-04-30         CA1            通常   C01     オールタイム        7      6.0   \n",
              "4  2019-04-30         CA1            通常   C01     オールタイム        7      4.0   \n",
              "\n",
              "  customer_id end_date exit_date  ... median  membership_period  min   name  \\\n",
              "0    GD257285      NaN       NaN  ...    6.0               21.0  4.0   XXXX   \n",
              "1    PL558375      NaN       NaN  ...    6.0               17.0  5.0   XXXX   \n",
              "2    TS885968      NaN       NaN  ...    6.0               22.0  3.0  XXXXX   \n",
              "3    HD476406      NaN       NaN  ...    5.5               34.0  2.0  XXXXX   \n",
              "4    HI708658      NaN       NaN  ...    4.0               44.0  1.0    XXX   \n",
              "\n",
              "     price  routine_flg  start_date      年月  period   now_date  \n",
              "0  10500.0          1.0  2017-07-01  201902      19 2019-02-01  \n",
              "1   7500.0          1.0  2017-11-01  201806       7 2018-06-01  \n",
              "2  10500.0          1.0  2017-06-01  201903      21 2019-03-01  \n",
              "3  10500.0          1.0  2016-06-01  201806      24 2018-06-01  \n",
              "4  10500.0          1.0  2015-08-01  201806      34 2018-06-01  \n",
              "\n",
              "[5 rows x 24 columns]"
            ]
          },
          "execution_count": 9,
          "metadata": {},
          "output_type": "execute_result"
        }
      ],
      "source": [
        "predict_data[\"period\"] = 0\n",
        "predict_data[\"now_date\"] = pd.to_datetime(predict_data[\"年月\"], format=\"%Y%m\")\n",
        "predict_data[\"start_date\"] = pd.to_datetime(predict_data[\"start_date\"])\n",
        "for i in range(len(predict_data)):\n",
        "    delta = relativedelta(predict_data[\"now_date\"][i], predict_data[\"start_date\"][i])\n",
        "    predict_data[\"period\"][i] = int(delta.years*12 + delta.months)\n",
        "predict_data.head()"
      ]
    },
    {
      "cell_type": "markdown",
      "metadata": {
        "id": "P4_2r_y2XhhV"
      },
      "source": [
        "### 3.5：欠損値を除去する"
      ]
    },
    {
      "cell_type": "code",
      "execution_count": null,
      "metadata": {
        "id": "qT6FgfQJXhhV",
        "outputId": "74e37035-ebec-46f8-9d09-c2436a93a9f7"
      },
      "outputs": [
        {
          "data": {
            "text/plain": [
              "calc_date               0\n",
              "campaign_id             0\n",
              "campaign_name           0\n",
              "class                   0\n",
              "class_name              0\n",
              "count_0                 0\n",
              "count_1               259\n",
              "customer_id             0\n",
              "end_date             2842\n",
              "exit_date            2842\n",
              "gender                  0\n",
              "is_deleted              0\n",
              "max                     0\n",
              "mean                    0\n",
              "median                  0\n",
              "membership_period       0\n",
              "min                     0\n",
              "name                    0\n",
              "price                   0\n",
              "routine_flg             0\n",
              "start_date              0\n",
              "年月                      0\n",
              "period                  0\n",
              "now_date                0\n",
              "dtype: int64"
            ]
          },
          "execution_count": 10,
          "metadata": {},
          "output_type": "execute_result"
        }
      ],
      "source": [
        "predict_data.isna().sum()"
      ]
    },
    {
      "cell_type": "code",
      "execution_count": null,
      "metadata": {
        "id": "3YQfxGoOXhhV",
        "outputId": "d62831a5-6413-4573-ff70-e6414f052b4f"
      },
      "outputs": [
        {
          "data": {
            "text/plain": [
              "calc_date               0\n",
              "campaign_id             0\n",
              "campaign_name           0\n",
              "class                   0\n",
              "class_name              0\n",
              "count_0                 0\n",
              "count_1                 0\n",
              "customer_id             0\n",
              "end_date             2635\n",
              "exit_date            2635\n",
              "gender                  0\n",
              "is_deleted              0\n",
              "max                     0\n",
              "mean                    0\n",
              "median                  0\n",
              "membership_period       0\n",
              "min                     0\n",
              "name                    0\n",
              "price                   0\n",
              "routine_flg             0\n",
              "start_date              0\n",
              "年月                      0\n",
              "period                  0\n",
              "now_date                0\n",
              "dtype: int64"
            ]
          },
          "execution_count": 11,
          "metadata": {},
          "output_type": "execute_result"
        }
      ],
      "source": [
        "predict_data = predict_data.dropna(subset=[\"count_1\"])\n",
        "predict_data.isna().sum()"
      ]
    },
    {
      "cell_type": "markdown",
      "metadata": {
        "id": "CQmrVusNXhhW"
      },
      "source": [
        "### 3.6：文字列型の変数を処理できるように整形する"
      ]
    },
    {
      "cell_type": "code",
      "execution_count": null,
      "metadata": {
        "id": "-d97ktmZXhhW",
        "outputId": "5c824c77-fecb-471d-efd7-e4d8e8255e34"
      },
      "outputs": [
        {
          "data": {
            "text/html": [
              "<div>\n",
              "<style scoped>\n",
              "    .dataframe tbody tr th:only-of-type {\n",
              "        vertical-align: middle;\n",
              "    }\n",
              "\n",
              "    .dataframe tbody tr th {\n",
              "        vertical-align: top;\n",
              "    }\n",
              "\n",
              "    .dataframe thead th {\n",
              "        text-align: right;\n",
              "    }\n",
              "</style>\n",
              "<table border=\"1\" class=\"dataframe\">\n",
              "  <thead>\n",
              "    <tr style=\"text-align: right;\">\n",
              "      <th></th>\n",
              "      <th>campaign_name</th>\n",
              "      <th>class_name</th>\n",
              "      <th>gender</th>\n",
              "      <th>count_1</th>\n",
              "      <th>routine_flg</th>\n",
              "      <th>period</th>\n",
              "      <th>is_deleted</th>\n",
              "    </tr>\n",
              "  </thead>\n",
              "  <tbody>\n",
              "    <tr>\n",
              "      <th>0</th>\n",
              "      <td>入会費半額</td>\n",
              "      <td>オールタイム</td>\n",
              "      <td>M</td>\n",
              "      <td>5.0</td>\n",
              "      <td>1.0</td>\n",
              "      <td>19</td>\n",
              "      <td>0.0</td>\n",
              "    </tr>\n",
              "    <tr>\n",
              "      <th>1</th>\n",
              "      <td>通常</td>\n",
              "      <td>デイタイム</td>\n",
              "      <td>F</td>\n",
              "      <td>5.0</td>\n",
              "      <td>1.0</td>\n",
              "      <td>7</td>\n",
              "      <td>0.0</td>\n",
              "    </tr>\n",
              "    <tr>\n",
              "      <th>2</th>\n",
              "      <td>通常</td>\n",
              "      <td>オールタイム</td>\n",
              "      <td>F</td>\n",
              "      <td>4.0</td>\n",
              "      <td>1.0</td>\n",
              "      <td>21</td>\n",
              "      <td>0.0</td>\n",
              "    </tr>\n",
              "    <tr>\n",
              "      <th>3</th>\n",
              "      <td>通常</td>\n",
              "      <td>オールタイム</td>\n",
              "      <td>F</td>\n",
              "      <td>6.0</td>\n",
              "      <td>1.0</td>\n",
              "      <td>24</td>\n",
              "      <td>0.0</td>\n",
              "    </tr>\n",
              "    <tr>\n",
              "      <th>4</th>\n",
              "      <td>通常</td>\n",
              "      <td>オールタイム</td>\n",
              "      <td>F</td>\n",
              "      <td>4.0</td>\n",
              "      <td>1.0</td>\n",
              "      <td>34</td>\n",
              "      <td>0.0</td>\n",
              "    </tr>\n",
              "  </tbody>\n",
              "</table>\n",
              "</div>"
            ],
            "text/plain": [
              "  campaign_name class_name gender  count_1  routine_flg  period  is_deleted\n",
              "0         入会費半額     オールタイム      M      5.0          1.0      19         0.0\n",
              "1            通常      デイタイム      F      5.0          1.0       7         0.0\n",
              "2            通常     オールタイム      F      4.0          1.0      21         0.0\n",
              "3            通常     オールタイム      F      6.0          1.0      24         0.0\n",
              "4            通常     オールタイム      F      4.0          1.0      34         0.0"
            ]
          },
          "execution_count": 12,
          "metadata": {},
          "output_type": "execute_result"
        }
      ],
      "source": [
        "target_col = [\"campaign_name\", \"class_name\", \"gender\", \"count_1\", \"routine_flg\", \"period\", \"is_deleted\"]\n",
        "predict_data = predict_data[target_col]\n",
        "predict_data.head()"
      ]
    },
    {
      "cell_type": "code",
      "execution_count": null,
      "metadata": {
        "id": "jPlqMjkYXhhW",
        "outputId": "028b57e6-8d6b-430d-b50f-2c158f6dd9cc"
      },
      "outputs": [
        {
          "data": {
            "text/html": [
              "<div>\n",
              "<style scoped>\n",
              "    .dataframe tbody tr th:only-of-type {\n",
              "        vertical-align: middle;\n",
              "    }\n",
              "\n",
              "    .dataframe tbody tr th {\n",
              "        vertical-align: top;\n",
              "    }\n",
              "\n",
              "    .dataframe thead th {\n",
              "        text-align: right;\n",
              "    }\n",
              "</style>\n",
              "<table border=\"1\" class=\"dataframe\">\n",
              "  <thead>\n",
              "    <tr style=\"text-align: right;\">\n",
              "      <th></th>\n",
              "      <th>count_1</th>\n",
              "      <th>routine_flg</th>\n",
              "      <th>period</th>\n",
              "      <th>is_deleted</th>\n",
              "      <th>campaign_name_入会費半額</th>\n",
              "      <th>campaign_name_入会費無料</th>\n",
              "      <th>campaign_name_通常</th>\n",
              "      <th>class_name_オールタイム</th>\n",
              "      <th>class_name_デイタイム</th>\n",
              "      <th>class_name_ナイト</th>\n",
              "      <th>gender_F</th>\n",
              "      <th>gender_M</th>\n",
              "    </tr>\n",
              "  </thead>\n",
              "  <tbody>\n",
              "    <tr>\n",
              "      <th>0</th>\n",
              "      <td>5.0</td>\n",
              "      <td>1.0</td>\n",
              "      <td>19</td>\n",
              "      <td>0.0</td>\n",
              "      <td>1</td>\n",
              "      <td>0</td>\n",
              "      <td>0</td>\n",
              "      <td>1</td>\n",
              "      <td>0</td>\n",
              "      <td>0</td>\n",
              "      <td>0</td>\n",
              "      <td>1</td>\n",
              "    </tr>\n",
              "    <tr>\n",
              "      <th>1</th>\n",
              "      <td>5.0</td>\n",
              "      <td>1.0</td>\n",
              "      <td>7</td>\n",
              "      <td>0.0</td>\n",
              "      <td>0</td>\n",
              "      <td>0</td>\n",
              "      <td>1</td>\n",
              "      <td>0</td>\n",
              "      <td>1</td>\n",
              "      <td>0</td>\n",
              "      <td>1</td>\n",
              "      <td>0</td>\n",
              "    </tr>\n",
              "    <tr>\n",
              "      <th>2</th>\n",
              "      <td>4.0</td>\n",
              "      <td>1.0</td>\n",
              "      <td>21</td>\n",
              "      <td>0.0</td>\n",
              "      <td>0</td>\n",
              "      <td>0</td>\n",
              "      <td>1</td>\n",
              "      <td>1</td>\n",
              "      <td>0</td>\n",
              "      <td>0</td>\n",
              "      <td>1</td>\n",
              "      <td>0</td>\n",
              "    </tr>\n",
              "    <tr>\n",
              "      <th>3</th>\n",
              "      <td>6.0</td>\n",
              "      <td>1.0</td>\n",
              "      <td>24</td>\n",
              "      <td>0.0</td>\n",
              "      <td>0</td>\n",
              "      <td>0</td>\n",
              "      <td>1</td>\n",
              "      <td>1</td>\n",
              "      <td>0</td>\n",
              "      <td>0</td>\n",
              "      <td>1</td>\n",
              "      <td>0</td>\n",
              "    </tr>\n",
              "    <tr>\n",
              "      <th>4</th>\n",
              "      <td>4.0</td>\n",
              "      <td>1.0</td>\n",
              "      <td>34</td>\n",
              "      <td>0.0</td>\n",
              "      <td>0</td>\n",
              "      <td>0</td>\n",
              "      <td>1</td>\n",
              "      <td>1</td>\n",
              "      <td>0</td>\n",
              "      <td>0</td>\n",
              "      <td>1</td>\n",
              "      <td>0</td>\n",
              "    </tr>\n",
              "  </tbody>\n",
              "</table>\n",
              "</div>"
            ],
            "text/plain": [
              "   count_1  routine_flg  period  is_deleted  campaign_name_入会費半額  \\\n",
              "0      5.0          1.0      19         0.0                    1   \n",
              "1      5.0          1.0       7         0.0                    0   \n",
              "2      4.0          1.0      21         0.0                    0   \n",
              "3      6.0          1.0      24         0.0                    0   \n",
              "4      4.0          1.0      34         0.0                    0   \n",
              "\n",
              "   campaign_name_入会費無料  campaign_name_通常  class_name_オールタイム  class_name_デイタイム  \\\n",
              "0                    0                 0                  1                 0   \n",
              "1                    0                 1                  0                 1   \n",
              "2                    0                 1                  1                 0   \n",
              "3                    0                 1                  1                 0   \n",
              "4                    0                 1                  1                 0   \n",
              "\n",
              "   class_name_ナイト  gender_F  gender_M  \n",
              "0               0         0         1  \n",
              "1               0         1         0  \n",
              "2               0         1         0  \n",
              "3               0         1         0  \n",
              "4               0         1         0  "
            ]
          },
          "execution_count": 13,
          "metadata": {},
          "output_type": "execute_result"
        }
      ],
      "source": [
        "predict_data = pd.get_dummies(predict_data)\n",
        "predict_data.head()"
      ]
    },
    {
      "cell_type": "code",
      "execution_count": null,
      "metadata": {
        "id": "8SNdI5X2XhhX",
        "outputId": "effa9c70-c8be-4b70-d757-b53fbc14ed2e"
      },
      "outputs": [
        {
          "data": {
            "text/html": [
              "<div>\n",
              "<style scoped>\n",
              "    .dataframe tbody tr th:only-of-type {\n",
              "        vertical-align: middle;\n",
              "    }\n",
              "\n",
              "    .dataframe tbody tr th {\n",
              "        vertical-align: top;\n",
              "    }\n",
              "\n",
              "    .dataframe thead th {\n",
              "        text-align: right;\n",
              "    }\n",
              "</style>\n",
              "<table border=\"1\" class=\"dataframe\">\n",
              "  <thead>\n",
              "    <tr style=\"text-align: right;\">\n",
              "      <th></th>\n",
              "      <th>count_1</th>\n",
              "      <th>routine_flg</th>\n",
              "      <th>period</th>\n",
              "      <th>is_deleted</th>\n",
              "      <th>campaign_name_入会費半額</th>\n",
              "      <th>campaign_name_入会費無料</th>\n",
              "      <th>class_name_オールタイム</th>\n",
              "      <th>class_name_デイタイム</th>\n",
              "      <th>gender_F</th>\n",
              "    </tr>\n",
              "  </thead>\n",
              "  <tbody>\n",
              "    <tr>\n",
              "      <th>0</th>\n",
              "      <td>5.0</td>\n",
              "      <td>1.0</td>\n",
              "      <td>19</td>\n",
              "      <td>0.0</td>\n",
              "      <td>1</td>\n",
              "      <td>0</td>\n",
              "      <td>1</td>\n",
              "      <td>0</td>\n",
              "      <td>0</td>\n",
              "    </tr>\n",
              "    <tr>\n",
              "      <th>1</th>\n",
              "      <td>5.0</td>\n",
              "      <td>1.0</td>\n",
              "      <td>7</td>\n",
              "      <td>0.0</td>\n",
              "      <td>0</td>\n",
              "      <td>0</td>\n",
              "      <td>0</td>\n",
              "      <td>1</td>\n",
              "      <td>1</td>\n",
              "    </tr>\n",
              "    <tr>\n",
              "      <th>2</th>\n",
              "      <td>4.0</td>\n",
              "      <td>1.0</td>\n",
              "      <td>21</td>\n",
              "      <td>0.0</td>\n",
              "      <td>0</td>\n",
              "      <td>0</td>\n",
              "      <td>1</td>\n",
              "      <td>0</td>\n",
              "      <td>1</td>\n",
              "    </tr>\n",
              "    <tr>\n",
              "      <th>3</th>\n",
              "      <td>6.0</td>\n",
              "      <td>1.0</td>\n",
              "      <td>24</td>\n",
              "      <td>0.0</td>\n",
              "      <td>0</td>\n",
              "      <td>0</td>\n",
              "      <td>1</td>\n",
              "      <td>0</td>\n",
              "      <td>1</td>\n",
              "    </tr>\n",
              "    <tr>\n",
              "      <th>4</th>\n",
              "      <td>4.0</td>\n",
              "      <td>1.0</td>\n",
              "      <td>34</td>\n",
              "      <td>0.0</td>\n",
              "      <td>0</td>\n",
              "      <td>0</td>\n",
              "      <td>1</td>\n",
              "      <td>0</td>\n",
              "      <td>1</td>\n",
              "    </tr>\n",
              "  </tbody>\n",
              "</table>\n",
              "</div>"
            ],
            "text/plain": [
              "   count_1  routine_flg  period  is_deleted  campaign_name_入会費半額  \\\n",
              "0      5.0          1.0      19         0.0                    1   \n",
              "1      5.0          1.0       7         0.0                    0   \n",
              "2      4.0          1.0      21         0.0                    0   \n",
              "3      6.0          1.0      24         0.0                    0   \n",
              "4      4.0          1.0      34         0.0                    0   \n",
              "\n",
              "   campaign_name_入会費無料  class_name_オールタイム  class_name_デイタイム  gender_F  \n",
              "0                    0                  1                 0         0  \n",
              "1                    0                  0                 1         1  \n",
              "2                    0                  1                 0         1  \n",
              "3                    0                  1                 0         1  \n",
              "4                    0                  1                 0         1  "
            ]
          },
          "execution_count": 14,
          "metadata": {},
          "output_type": "execute_result"
        }
      ],
      "source": [
        "del predict_data[\"campaign_name_通常\"]\n",
        "del predict_data[\"class_name_ナイト\"]\n",
        "del predict_data[\"gender_M\"]\n",
        "predict_data.head()"
      ]
    },
    {
      "cell_type": "markdown",
      "metadata": {
        "id": "1SqTrBCfXhhX"
      },
      "source": [
        "### 3.7：決定木を用いて退会予測モデルを作成する"
      ]
    },
    {
      "cell_type": "code",
      "execution_count": null,
      "metadata": {
        "id": "gXuTfa40XhhX",
        "outputId": "292ec82d-b61c-4e05-8748-aebe75e7d70a"
      },
      "outputs": [
        {
          "name": "stdout",
          "output_type": "stream",
          "text": [
            "[1. 1. 0. 0. 0. 0. 0. 0. 1. 0. 1. 1. 0. 0. 1. 1. 0. 0. 0. 0. 0. 0. 1. 0.\n",
            " 0. 0. 0. 1. 1. 0. 1. 0. 1. 1. 1. 1. 1. 1. 0. 1. 1. 1. 1. 0. 0. 1. 0. 0.\n",
            " 1. 1. 0. 0. 1. 0. 1. 1. 0. 0. 0. 1. 1. 1. 0. 0. 1. 1. 0. 0. 0. 0. 0. 0.\n",
            " 1. 0. 0. 0. 1. 1. 0. 1. 0. 1. 0. 1. 1. 1. 1. 0. 0. 1. 1. 1. 1. 1. 0. 1.\n",
            " 0. 0. 0. 0. 1. 0. 1. 1. 0. 0. 0. 0. 1. 1. 0. 1. 1. 0. 1. 1. 0. 0. 1. 0.\n",
            " 0. 0. 0. 0. 1. 1. 1. 0. 1. 0. 1. 0. 0. 1. 0. 1. 1. 1. 0. 1. 0. 1. 1. 1.\n",
            " 1. 0. 0. 0. 0. 1. 0. 0. 0. 1. 1. 0. 1. 1. 1. 1. 0. 0. 0. 1. 1. 0. 0. 1.\n",
            " 1. 1. 0. 0. 1. 1. 0. 0. 0. 1. 0. 0. 0. 1. 1. 0. 1. 1. 0. 0. 1. 1. 1. 0.\n",
            " 0. 0. 1. 0. 0. 0. 0. 1. 1. 0. 0. 1. 0. 1. 1. 1. 0. 0. 0. 0. 0. 1. 1. 0.\n",
            " 1. 0. 0. 0. 1. 1. 1. 0. 1. 1. 1. 0. 0. 0. 0. 0. 0. 1. 0. 0. 1. 0. 0. 0.\n",
            " 1. 0. 0. 0. 1. 0. 0. 0. 1. 0. 0. 0. 0. 1. 1. 1. 0. 1. 0. 1. 0. 0. 1. 1.\n",
            " 0. 1. 0. 1. 1. 1. 0. 1. 0. 1. 0. 1. 1. 0. 1. 0. 0. 0. 1. 0. 1. 0. 0. 0.\n",
            " 1. 1. 0. 0. 1. 1. 0. 0. 1. 1. 1. 1. 1. 1. 0. 0. 0. 0. 0. 1. 0. 0. 1. 0.\n",
            " 1. 1. 0. 1. 0. 0. 1. 0. 0. 0. 1. 0. 0. 0. 1. 1. 0. 1. 1. 1. 1. 0. 0. 0.\n",
            " 0. 1. 0. 1. 0. 1. 1. 0. 0. 0. 0. 0. 1. 1. 1. 1. 0. 0. 1. 0. 1. 1. 0. 0.\n",
            " 0. 0. 0. 1. 0. 0. 0. 0. 0. 1. 0. 1. 0. 0. 0. 1. 0. 0. 1. 0. 1. 1. 0. 1.\n",
            " 0. 1. 0. 1. 0. 1. 0. 0. 0. 0. 0. 0. 1. 0. 1. 0. 0. 0. 1. 0. 1. 0. 1. 1.\n",
            " 1. 0. 0. 0. 0. 0. 0. 0. 1. 1. 1. 0. 0. 0. 0. 0. 1. 1. 0. 0. 1. 1. 1. 0.\n",
            " 1. 0. 0. 0. 0. 0. 1. 0. 0. 1. 1. 0. 1. 0. 0. 1. 1. 1. 1. 1. 0. 1. 1. 0.\n",
            " 1. 1. 0. 0. 0. 1. 0. 0. 1. 0. 0. 0. 1. 1. 1. 0. 1. 0. 0. 0. 0. 0. 1. 1.\n",
            " 1. 0. 1. 1. 1. 1. 1. 1. 0. 0. 1. 1. 1. 1. 0. 1. 1. 0. 0. 1. 0. 0. 0. 0.\n",
            " 0. 1. 0. 1. 0. 1. 0. 0. 0. 1. 0. 0. 0. 1. 1. 1. 1. 1. 0. 1. 1. 1.]\n"
          ]
        }
      ],
      "source": [
        "from sklearn.tree import DecisionTreeClassifier\n",
        "import sklearn.model_selection\n",
        "\n",
        "exit = predict_data.loc[predict_data[\"is_deleted\"]==1]\n",
        "conti = predict_data.loc[predict_data[\"is_deleted\"]==0].sample(len(exit))\n",
        "\n",
        "X = pd.concat([exit, conti], ignore_index=True)\n",
        "y = X[\"is_deleted\"]\n",
        "del X[\"is_deleted\"]\n",
        "X_train, X_test, y_train, y_test = sklearn.model_selection.train_test_split(X,y)\n",
        "\n",
        "model = DecisionTreeClassifier(random_state=0)\n",
        "model.fit(X_train, y_train)\n",
        "y_test_pred = model.predict(X_test)\n",
        "print(y_test_pred)"
      ]
    },
    {
      "cell_type": "code",
      "execution_count": null,
      "metadata": {
        "id": "_eO-KeE5XhhX",
        "outputId": "5f998ce5-c649-403c-adea-f689bf74adbe"
      },
      "outputs": [
        {
          "data": {
            "text/html": [
              "<div>\n",
              "<style scoped>\n",
              "    .dataframe tbody tr th:only-of-type {\n",
              "        vertical-align: middle;\n",
              "    }\n",
              "\n",
              "    .dataframe tbody tr th {\n",
              "        vertical-align: top;\n",
              "    }\n",
              "\n",
              "    .dataframe thead th {\n",
              "        text-align: right;\n",
              "    }\n",
              "</style>\n",
              "<table border=\"1\" class=\"dataframe\">\n",
              "  <thead>\n",
              "    <tr style=\"text-align: right;\">\n",
              "      <th></th>\n",
              "      <th>y_test</th>\n",
              "      <th>y_pred</th>\n",
              "    </tr>\n",
              "  </thead>\n",
              "  <tbody>\n",
              "    <tr>\n",
              "      <th>1308</th>\n",
              "      <td>0.0</td>\n",
              "      <td>1.0</td>\n",
              "    </tr>\n",
              "    <tr>\n",
              "      <th>111</th>\n",
              "      <td>1.0</td>\n",
              "      <td>1.0</td>\n",
              "    </tr>\n",
              "    <tr>\n",
              "      <th>1645</th>\n",
              "      <td>0.0</td>\n",
              "      <td>0.0</td>\n",
              "    </tr>\n",
              "    <tr>\n",
              "      <th>1746</th>\n",
              "      <td>0.0</td>\n",
              "      <td>0.0</td>\n",
              "    </tr>\n",
              "    <tr>\n",
              "      <th>1948</th>\n",
              "      <td>0.0</td>\n",
              "      <td>0.0</td>\n",
              "    </tr>\n",
              "  </tbody>\n",
              "</table>\n",
              "</div>"
            ],
            "text/plain": [
              "      y_test  y_pred\n",
              "1308     0.0     1.0\n",
              "111      1.0     1.0\n",
              "1645     0.0     0.0\n",
              "1746     0.0     0.0\n",
              "1948     0.0     0.0"
            ]
          },
          "execution_count": 16,
          "metadata": {},
          "output_type": "execute_result"
        }
      ],
      "source": [
        "results_test = pd.DataFrame({\"y_test\":y_test ,\"y_pred\":y_test_pred })\n",
        "results_test.head()"
      ]
    },
    {
      "cell_type": "markdown",
      "metadata": {
        "id": "9ACXhFaFXhhY"
      },
      "source": [
        "### 3.8：予測モデルの評価を行ない、モデルのチューニングする"
      ]
    },
    {
      "cell_type": "code",
      "execution_count": null,
      "metadata": {
        "id": "yTEk-mUIXhhY",
        "outputId": "9dce92d3-dc63-43ab-b0a3-60d94a3e97b9"
      },
      "outputs": [
        {
          "name": "stdout",
          "output_type": "stream",
          "text": [
            "0.8802281368821293\n"
          ]
        }
      ],
      "source": [
        "correct = len(results_test.loc[results_test[\"y_test\"]==results_test[\"y_pred\"]])\n",
        "data_count = len(results_test)\n",
        "score_test = correct / data_count\n",
        "print(score_test)"
      ]
    },
    {
      "cell_type": "code",
      "execution_count": null,
      "metadata": {
        "id": "cvqgPSuRXhhY",
        "outputId": "4e69e639-639f-4b05-e426-ddc7a4f66e2e"
      },
      "outputs": [
        {
          "name": "stdout",
          "output_type": "stream",
          "text": [
            "0.8802281368821293\n",
            "0.9759188846641318\n"
          ]
        }
      ],
      "source": [
        "print(model.score(X_test, y_test))\n",
        "print(model.score(X_train, y_train))"
      ]
    },
    {
      "cell_type": "code",
      "execution_count": null,
      "metadata": {
        "id": "sDu9DaPaXhhY",
        "outputId": "7fc70803-3250-4d19-d2e2-e56bace250ca"
      },
      "outputs": [
        {
          "name": "stdout",
          "output_type": "stream",
          "text": [
            "0.9182509505703422\n",
            "0.9214195183776933\n"
          ]
        }
      ],
      "source": [
        "X = pd.concat([exit, conti], ignore_index=True)\n",
        "y = X[\"is_deleted\"]\n",
        "del X[\"is_deleted\"]\n",
        "X_train, X_test, y_train, y_test = sklearn.model_selection.train_test_split(X,y)\n",
        "\n",
        "model = DecisionTreeClassifier(random_state=0, max_depth=5)\n",
        "model.fit(X_train, y_train)\n",
        "print(model.score(X_test, y_test))\n",
        "print(model.score(X_train, y_train))"
      ]
    },
    {
      "cell_type": "markdown",
      "metadata": {
        "id": "nhtH3_fmXhhY"
      },
      "source": [
        "### 3.9：モデルに寄与している変数を確認する"
      ]
    },
    {
      "cell_type": "code",
      "execution_count": null,
      "metadata": {
        "id": "w9Q8iPwXXhhZ",
        "outputId": "e70998d2-c496-4516-c0d8-048acf4da574"
      },
      "outputs": [
        {
          "data": {
            "text/html": [
              "<div>\n",
              "<style scoped>\n",
              "    .dataframe tbody tr th:only-of-type {\n",
              "        vertical-align: middle;\n",
              "    }\n",
              "\n",
              "    .dataframe tbody tr th {\n",
              "        vertical-align: top;\n",
              "    }\n",
              "\n",
              "    .dataframe thead th {\n",
              "        text-align: right;\n",
              "    }\n",
              "</style>\n",
              "<table border=\"1\" class=\"dataframe\">\n",
              "  <thead>\n",
              "    <tr style=\"text-align: right;\">\n",
              "      <th></th>\n",
              "      <th>feature_names</th>\n",
              "      <th>coefficient</th>\n",
              "    </tr>\n",
              "  </thead>\n",
              "  <tbody>\n",
              "    <tr>\n",
              "      <th>0</th>\n",
              "      <td>count_1</td>\n",
              "      <td>0.334445</td>\n",
              "    </tr>\n",
              "    <tr>\n",
              "      <th>1</th>\n",
              "      <td>routine_flg</td>\n",
              "      <td>0.138804</td>\n",
              "    </tr>\n",
              "    <tr>\n",
              "      <th>2</th>\n",
              "      <td>period</td>\n",
              "      <td>0.524600</td>\n",
              "    </tr>\n",
              "    <tr>\n",
              "      <th>3</th>\n",
              "      <td>campaign_name_入会費半額</td>\n",
              "      <td>0.000000</td>\n",
              "    </tr>\n",
              "    <tr>\n",
              "      <th>4</th>\n",
              "      <td>campaign_name_入会費無料</td>\n",
              "      <td>0.000000</td>\n",
              "    </tr>\n",
              "    <tr>\n",
              "      <th>5</th>\n",
              "      <td>class_name_オールタイム</td>\n",
              "      <td>0.000000</td>\n",
              "    </tr>\n",
              "    <tr>\n",
              "      <th>6</th>\n",
              "      <td>class_name_デイタイム</td>\n",
              "      <td>0.002151</td>\n",
              "    </tr>\n",
              "    <tr>\n",
              "      <th>7</th>\n",
              "      <td>gender_F</td>\n",
              "      <td>0.000000</td>\n",
              "    </tr>\n",
              "  </tbody>\n",
              "</table>\n",
              "</div>"
            ],
            "text/plain": [
              "         feature_names  coefficient\n",
              "0              count_1     0.334445\n",
              "1          routine_flg     0.138804\n",
              "2               period     0.524600\n",
              "3  campaign_name_入会費半額     0.000000\n",
              "4  campaign_name_入会費無料     0.000000\n",
              "5    class_name_オールタイム     0.000000\n",
              "6     class_name_デイタイム     0.002151\n",
              "7             gender_F     0.000000"
            ]
          },
          "execution_count": 20,
          "metadata": {},
          "output_type": "execute_result"
        }
      ],
      "source": [
        "importance = pd.DataFrame({\"feature_names\":X.columns, \"coefficient\":model.feature_importances_})\n",
        "importance"
      ]
    },
    {
      "cell_type": "markdown",
      "metadata": {
        "id": "Hu--My8jXhhZ"
      },
      "source": [
        "### 3.10：顧客の退会を予測する"
      ]
    },
    {
      "cell_type": "code",
      "execution_count": null,
      "metadata": {
        "id": "dwVGG5eSXhhZ"
      },
      "outputs": [],
      "source": [
        "count_1 = 3\n",
        "routine_flg = 1\n",
        "period = 10\n",
        "campaign_name = \"入会費無料\"\n",
        "class_name = \"オールタイム\"\n",
        "gender = \"M\""
      ]
    },
    {
      "cell_type": "code",
      "execution_count": null,
      "metadata": {
        "id": "U0TTvTsWXhhZ"
      },
      "outputs": [],
      "source": [
        "if campaign_name == \"入会費半額\":\n",
        "    campaign_name_list = [1, 0]\n",
        "elif campaign_name == \"入会費無料\":\n",
        "    campaign_name_list = [0, 1]\n",
        "elif campaign_name == \"通常\":\n",
        "    campaign_name_list = [0, 0]\n",
        "if class_name == \"オールタイム\":\n",
        "    class_name_list = [1, 0]\n",
        "elif class_name == \"デイタイム\":\n",
        "    class_name_list = [0, 1]\n",
        "elif class_name == \"ナイト\":\n",
        "    class_name_list = [0, 0]\n",
        "if gender == \"F\":\n",
        "    gender_list = [1]\n",
        "elif gender == \"M\":\n",
        "    gender_list = [0]\n",
        "input_data = [count_1, routine_flg, period]\n",
        "input_data.extend(campaign_name_list)\n",
        "input_data.extend(class_name_list)\n",
        "input_data.extend(gender_list)"
      ]
    },
    {
      "cell_type": "code",
      "execution_count": null,
      "metadata": {
        "id": "lvt42DowXhhZ",
        "outputId": "cb2f036b-19ba-4785-a355-bd6c88c09c15"
      },
      "outputs": [
        {
          "name": "stdout",
          "output_type": "stream",
          "text": [
            "[1.]\n",
            "[[0.00278552 0.99721448]]\n"
          ]
        }
      ],
      "source": [
        "print(model.predict([input_data]))\n",
        "print(model.predict_proba([input_data]))"
      ]
    },
    {
      "cell_type": "code",
      "execution_count": null,
      "metadata": {
        "id": "Chr3nu-QXhhZ"
      },
      "outputs": [],
      "source": []
    }
  ]
}